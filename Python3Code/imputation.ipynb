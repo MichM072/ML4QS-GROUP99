{
 "cells": [
  {
   "metadata": {
    "ExecuteTime": {
     "end_time": "2025-06-11T14:32:41.018285Z",
     "start_time": "2025-06-11T14:32:40.979751Z"
    }
   },
   "cell_type": "code",
   "source": [
    "from pathlib import Path\n",
    "import os\n",
    "STUDENT = 'mmr497'\n",
    "\n",
    "OUTLIERS_PATH = Path('./outliers2/')\n",
    "INTERMEDIATE_PATH = Path('./intermediate_datafiles/')\n",
    "os.chdir(f'/home/{STUDENT}/')\n",
    "# from Python3Code.outliers_distance_parquet import outlier_detector\n"
   ],
   "id": "f85e0271ac89e151",
   "outputs": [],
   "execution_count": 1
  },
  {
   "metadata": {
    "ExecuteTime": {
     "end_time": "2025-06-11T14:32:44.472469Z",
     "start_time": "2025-06-11T14:32:41.275882Z"
    }
   },
   "cell_type": "code",
   "source": [
    "import pandas as pd\n",
    "import numpy as np\n",
    "import sys\n",
    "import matplotlib.pyplot as plt\n",
    "from util.VisualizeDataset import VisualizeDataset\n",
    "from Chapter3.OutlierDetection import DistanceBasedOutlierDetection\n",
    "from Chapter3.ImputationMissingValues import ImputationMissingValues as MisVal\n",
    "from outlier_detector import OutlierDetector\n",
    "from custom_imputer import CustomImputer"
   ],
   "id": "dea05977114761eb",
   "outputs": [],
   "execution_count": 2
  },
  {
   "metadata": {
    "ExecuteTime": {
     "end_time": "2025-06-11T10:43:59.177247Z",
     "start_time": "2025-06-11T10:43:59.140956Z"
    }
   },
   "cell_type": "code",
   "source": [
    "# intermed_df = pd.read_parquet(f'{INTERMEDIATE_PATH}/ML4QS_combined_results_2.parquet')\n",
    "#\n",
    "# sensor_prefixes = [\n",
    "#     'acc_phone_',\n",
    "#     'lin_acc_phone_',\n",
    "#     'gyr_phone_',\n",
    "#     'mag_phone_',\n",
    "# ]\n",
    "#\n",
    "# folder = 'intermediate_datafiles'\n",
    "# output_folder = 'outliers2'\n",
    "# vehicles = ['train', 'bus', 'metro', 'tram', 'car','walking']\n",
    "#\n",
    "# files = [f for f in os.listdir(folder) if f.endswith('.parquet')]\n",
    "# data_by_vehicle = {vehicle: [] for vehicle in vehicles}\n",
    "#\n",
    "# for vehicle in vehicles:\n",
    "#     data_by_vehicle[vehicle] = intermed_df[~intermed_df[f'label{vehicle}'].isna()]\n",
    "#\n",
    "# for instance_id in intermed_df['id'].unique():\n",
    "#     # Create a mask for the current instance\n",
    "#     instance_mask = intermed_df['id'] == instance_id\n",
    "#     ins_df = intermed_df[instance_mask]\n",
    "#\n",
    "#     start_time = ins_df['timestamp'].iloc[0]\n",
    "#     end_time = ins_df['timestamp'].iloc[-1]\n",
    "#\n",
    "#     print(start_time)\n",
    "#\n",
    "#     start_time_plus_10s = start_time + pd.Timedelta(seconds=10)\n",
    "#     end_time_minus_10s = end_time - pd.Timedelta(seconds=10)\n",
    "#\n",
    "#     time_mask = (intermed_df.timestamp >= start_time_plus_10s) & (intermed_df.timestamp <= end_time_minus_10s)\n",
    "#\n",
    "#     intermed_df = intermed_df[~instance_mask | (instance_mask & time_mask)]\n",
    "#\n",
    "# outlier_detector = DistanceBasedOutlierDetection()\n",
    "#\n",
    "# cols_to_check_acc = ['acc_phone_X', 'acc_phone_Y', 'acc_phone_Z']\n",
    "# cols_to_check_lin_acc = ['lin_acc_phone_X', 'lin_acc_phone_Y', 'lin_acc_phone_Z']\n",
    "# cols_to_check_gyr = ['gyr_phone_X', 'gyr_phone_Y', 'gyr_phone_Z']\n",
    "# cols_to_check_mag = ['mag_phone_X', 'mag_phone_Y', 'mag_phone_Z']\n",
    "# cols_to_check_accuracy = ['location_phone_Horizontal Accuracy', 'location_phone_Vertical Accuracy']\n",
    "#\n",
    "# d_function = 'euclidean'\n",
    "# vehicle_params = {\n",
    "#     'train': {'dmin': 0.15, 'fmin': 0.1},\n",
    "#     'bus': {'dmin': 0.5, 'fmin': 0.1},\n",
    "#     'metro': {'dmin': 0.4, 'fmin': 0.1},\n",
    "#     'tram': {'dmin': 0.45, 'fmin': 0.1},\n",
    "#     'car': {'dmin': 0.1, 'fmin': 0.05},\n",
    "#     'walking': {'dmin': 0.65, 'fmin': 0.1},\n",
    "# }\n",
    "#\n",
    "# Path(output_folder).mkdir(parents=True, exist_ok=True)\n",
    "#\n",
    "# data_by_vehicle_buffer = {vehicle: [] for vehicle in vehicles}\n",
    "#\n",
    "# for vehicle in vehicles:\n",
    "#     data_by_vehicle_buffer[vehicle] = intermed_df[~intermed_df[f'label{vehicle}'].isna()]\n",
    "#\n",
    "# for vehicle, df in data_by_vehicle.items():\n",
    "#     raw_output_file = os.path.join(output_folder, f\"{vehicle}_raw.parquet\")\n",
    "#     df.reset_index().to_parquet(raw_output_file, version='2.6', allow_truncated_timestamps=True)\n",
    "#     print(f\"Saved raw {vehicle} data to {raw_output_file}\")\n",
    "#\n",
    "#\n",
    "# for vehicle, df in data_by_vehicle_buffer.items():\n",
    "#     print(f\"Processing {vehicle} data...\")\n",
    "#\n",
    "#     vehicle_dmin = vehicle_params[vehicle]['dmin']\n",
    "#     vehicle_fmin = vehicle_params[vehicle]['fmin']\n",
    "#\n",
    "#     # TODO: This is too extreme and marks nearly everything as an outlier.\n",
    "#\n",
    "#     df = outlier_detector.simple_distance_based(df, cols=cols_to_check_acc, d_function=d_function, dmin=vehicle_dmin, fmin=vehicle_fmin)\n",
    "#     df.rename(columns={'simple_dist_outlier': f'simple_dist_outlier_acc'}, inplace=True)\n",
    "#     df = outlier_detector.simple_distance_based(df, cols=cols_to_check_lin_acc, d_function=d_function, dmin=vehicle_dmin, fmin=vehicle_fmin)\n",
    "#     df.rename(columns={'simple_dist_outlier': f'simple_dist_outlier_lin_acc'}, inplace=True)\n",
    "#     df = outlier_detector.simple_distance_based(df, cols=cols_to_check_gyr, d_function=d_function, dmin=vehicle_dmin, fmin=vehicle_fmin)\n",
    "#     df.rename(columns={'simple_dist_outlier': f'simple_dist_outlier_gyr'}, inplace=True)\n",
    "#     df = outlier_detector.simple_distance_based(df, cols=cols_to_check_mag, d_function=d_function, dmin=vehicle_dmin, fmin=vehicle_fmin)\n",
    "#     df.rename(columns={'simple_dist_outlier': f'simple_dist_outlier_mag'}, inplace=True)\n",
    "#\n",
    "#     df_filtered = df\n",
    "#\n",
    "# ##################################################\n",
    "# ##################################################\n",
    "#\n",
    "#     output_file = os.path.join(output_folder, f\"{vehicle}_filtered_norem.parquet\")\n",
    "#     df_filtered.reset_index().to_parquet(output_file, version='2.6', allow_truncated_timestamps=True)\n",
    "#     print(f\"Saved filtered {vehicle} data to {output_file}\")"
   ],
   "id": "87b8a39843dd90ba",
   "outputs": [],
   "execution_count": 3
  },
  {
   "metadata": {
    "ExecuteTime": {
     "end_time": "2025-06-11T14:33:20.345591Z",
     "start_time": "2025-06-11T14:32:44.537084Z"
    }
   },
   "cell_type": "code",
   "source": [
    "intermed_df = pd.read_parquet(f'{INTERMEDIATE_PATH}/ML4QS_combined_results_2.parquet')\n",
    "out_detector = OutlierDetector(intermed_df)\n",
    "intermed_df = out_detector.fit_transform(\"chauvenet\", outlier_behaviour='nan', C=2)"
   ],
   "id": "757d3c2ce2a6f5ce",
   "outputs": [
    {
     "ename": "KeyError",
     "evalue": "'i_outlier'",
     "output_type": "error",
     "traceback": [
      "\u001B[0;31m---------------------------------------------------------------------------\u001B[0m",
      "\u001B[0;31mKeyError\u001B[0m                                  Traceback (most recent call last)",
      "File \u001B[0;32m~/.conda/envs/ML4QS/lib/python3.8/site-packages/pandas/core/indexes/base.py:2646\u001B[0m, in \u001B[0;36mIndex.get_loc\u001B[0;34m(self, key, method, tolerance)\u001B[0m\n\u001B[1;32m   2645\u001B[0m \u001B[38;5;28;01mtry\u001B[39;00m:\n\u001B[0;32m-> 2646\u001B[0m     \u001B[38;5;28;01mreturn\u001B[39;00m \u001B[38;5;28;43mself\u001B[39;49m\u001B[38;5;241;43m.\u001B[39;49m\u001B[43m_engine\u001B[49m\u001B[38;5;241;43m.\u001B[39;49m\u001B[43mget_loc\u001B[49m\u001B[43m(\u001B[49m\u001B[43mkey\u001B[49m\u001B[43m)\u001B[49m\n\u001B[1;32m   2647\u001B[0m \u001B[38;5;28;01mexcept\u001B[39;00m \u001B[38;5;167;01mKeyError\u001B[39;00m:\n",
      "File \u001B[0;32mpandas/_libs/index.pyx:111\u001B[0m, in \u001B[0;36mpandas._libs.index.IndexEngine.get_loc\u001B[0;34m()\u001B[0m\n",
      "File \u001B[0;32mpandas/_libs/index.pyx:138\u001B[0m, in \u001B[0;36mpandas._libs.index.IndexEngine.get_loc\u001B[0;34m()\u001B[0m\n",
      "File \u001B[0;32mpandas/_libs/hashtable_class_helper.pxi:1619\u001B[0m, in \u001B[0;36mpandas._libs.hashtable.PyObjectHashTable.get_item\u001B[0;34m()\u001B[0m\n",
      "File \u001B[0;32mpandas/_libs/hashtable_class_helper.pxi:1627\u001B[0m, in \u001B[0;36mpandas._libs.hashtable.PyObjectHashTable.get_item\u001B[0;34m()\u001B[0m\n",
      "\u001B[0;31mKeyError\u001B[0m: 'i_outlier'",
      "\nDuring handling of the above exception, another exception occurred:\n",
      "\u001B[0;31mKeyError\u001B[0m                                  Traceback (most recent call last)",
      "Cell \u001B[0;32mIn[3], line 3\u001B[0m\n\u001B[1;32m      1\u001B[0m intermed_df \u001B[38;5;241m=\u001B[39m pd\u001B[38;5;241m.\u001B[39mread_parquet(\u001B[38;5;124mf\u001B[39m\u001B[38;5;124m'\u001B[39m\u001B[38;5;132;01m{\u001B[39;00mINTERMEDIATE_PATH\u001B[38;5;132;01m}\u001B[39;00m\u001B[38;5;124m/ML4QS_combined_results_2.parquet\u001B[39m\u001B[38;5;124m'\u001B[39m)\n\u001B[1;32m      2\u001B[0m out_detector \u001B[38;5;241m=\u001B[39m OutlierDetector(intermed_df)\n\u001B[0;32m----> 3\u001B[0m intermed_df \u001B[38;5;241m=\u001B[39m \u001B[43mout_detector\u001B[49m\u001B[38;5;241;43m.\u001B[39;49m\u001B[43mfit_transform\u001B[49m\u001B[43m(\u001B[49m\u001B[38;5;124;43m\"\u001B[39;49m\u001B[38;5;124;43mchauvenet\u001B[39;49m\u001B[38;5;124;43m\"\u001B[39;49m\u001B[43m,\u001B[49m\u001B[43m \u001B[49m\u001B[43moutlier_behaviour\u001B[49m\u001B[38;5;241;43m=\u001B[39;49m\u001B[38;5;124;43m'\u001B[39;49m\u001B[38;5;124;43mnan\u001B[39;49m\u001B[38;5;124;43m'\u001B[39;49m\u001B[43m,\u001B[49m\u001B[43m \u001B[49m\u001B[43mC\u001B[49m\u001B[38;5;241;43m=\u001B[39;49m\u001B[38;5;241;43m2\u001B[39;49m\u001B[43m)\u001B[49m\n",
      "File \u001B[0;32m~/outlier_detector.py:94\u001B[0m, in \u001B[0;36mOutlierDetector.fit_transform\u001B[0;34m(self, outlier_detector, outlier_params, outlier_behaviour, **kwargs)\u001B[0m\n\u001B[1;32m     92\u001B[0m \u001B[38;5;28;01mdef\u001B[39;00m \u001B[38;5;21mfit_transform\u001B[39m(\u001B[38;5;28mself\u001B[39m, outlier_detector \u001B[38;5;241m=\u001B[39m \u001B[38;5;124m'\u001B[39m\u001B[38;5;124mchauvenet\u001B[39m\u001B[38;5;124m'\u001B[39m, outlier_params \u001B[38;5;241m=\u001B[39m \u001B[38;5;28;01mNone\u001B[39;00m, outlier_behaviour\u001B[38;5;241m=\u001B[39m\u001B[38;5;124m'\u001B[39m\u001B[38;5;124mnan\u001B[39m\u001B[38;5;124m'\u001B[39m, \u001B[38;5;241m*\u001B[39m\u001B[38;5;241m*\u001B[39mkwargs):\n\u001B[1;32m     93\u001B[0m     \u001B[38;5;28mself\u001B[39m\u001B[38;5;241m.\u001B[39mfit(outlier_detector, outlier_params, \u001B[38;5;241m*\u001B[39m\u001B[38;5;241m*\u001B[39mkwargs)\n\u001B[0;32m---> 94\u001B[0m     \u001B[38;5;28;01mreturn\u001B[39;00m \u001B[38;5;28;43mself\u001B[39;49m\u001B[38;5;241;43m.\u001B[39;49m\u001B[43mtransform\u001B[49m\u001B[43m(\u001B[49m\u001B[43moutlier_behaviour\u001B[49m\u001B[43m)\u001B[49m\n",
      "File \u001B[0;32m~/outlier_detector.py:83\u001B[0m, in \u001B[0;36mOutlierDetector.transform\u001B[0;34m(self, outlier_behavior)\u001B[0m\n\u001B[1;32m     81\u001B[0m \u001B[38;5;28;01mif\u001B[39;00m outlier_behavior \u001B[38;5;241m==\u001B[39m \u001B[38;5;124m'\u001B[39m\u001B[38;5;124mnan\u001B[39m\u001B[38;5;124m'\u001B[39m:\n\u001B[1;32m     82\u001B[0m     \u001B[38;5;28;01mfor\u001B[39;00m col \u001B[38;5;129;01min\u001B[39;00m \u001B[38;5;28mself\u001B[39m\u001B[38;5;241m.\u001B[39mfitted_cols:\n\u001B[0;32m---> 83\u001B[0m         df\u001B[38;5;241m.\u001B[39mloc[\u001B[43mdf\u001B[49m\u001B[43m[\u001B[49m\u001B[43mcol\u001B[49m\u001B[43m \u001B[49m\u001B[38;5;241;43m+\u001B[39;49m\u001B[43m \u001B[49m\u001B[38;5;124;43m'\u001B[39;49m\u001B[38;5;124;43m_outlier\u001B[39;49m\u001B[38;5;124;43m'\u001B[39;49m\u001B[43m]\u001B[49m \u001B[38;5;241m==\u001B[39m \u001B[38;5;28;01mTrue\u001B[39;00m, col] \u001B[38;5;241m=\u001B[39m \u001B[38;5;28mfloat\u001B[39m(\u001B[38;5;124m'\u001B[39m\u001B[38;5;124mnan\u001B[39m\u001B[38;5;124m'\u001B[39m)\n\u001B[1;32m     84\u001B[0m \u001B[38;5;28;01melif\u001B[39;00m outlier_behavior \u001B[38;5;241m==\u001B[39m \u001B[38;5;124m'\u001B[39m\u001B[38;5;124mdrop\u001B[39m\u001B[38;5;124m'\u001B[39m:\n\u001B[1;32m     85\u001B[0m     \u001B[38;5;66;03m# raise NotImplemented(f\"Dropping outliers not yet implemented.\")\u001B[39;00m\n\u001B[1;32m     86\u001B[0m     \u001B[38;5;28;01mpass\u001B[39;00m\n",
      "File \u001B[0;32m~/.conda/envs/ML4QS/lib/python3.8/site-packages/pandas/core/frame.py:2800\u001B[0m, in \u001B[0;36mDataFrame.__getitem__\u001B[0;34m(self, key)\u001B[0m\n\u001B[1;32m   2798\u001B[0m \u001B[38;5;28;01mif\u001B[39;00m \u001B[38;5;28mself\u001B[39m\u001B[38;5;241m.\u001B[39mcolumns\u001B[38;5;241m.\u001B[39mnlevels \u001B[38;5;241m>\u001B[39m \u001B[38;5;241m1\u001B[39m:\n\u001B[1;32m   2799\u001B[0m     \u001B[38;5;28;01mreturn\u001B[39;00m \u001B[38;5;28mself\u001B[39m\u001B[38;5;241m.\u001B[39m_getitem_multilevel(key)\n\u001B[0;32m-> 2800\u001B[0m indexer \u001B[38;5;241m=\u001B[39m \u001B[38;5;28;43mself\u001B[39;49m\u001B[38;5;241;43m.\u001B[39;49m\u001B[43mcolumns\u001B[49m\u001B[38;5;241;43m.\u001B[39;49m\u001B[43mget_loc\u001B[49m\u001B[43m(\u001B[49m\u001B[43mkey\u001B[49m\u001B[43m)\u001B[49m\n\u001B[1;32m   2801\u001B[0m \u001B[38;5;28;01mif\u001B[39;00m is_integer(indexer):\n\u001B[1;32m   2802\u001B[0m     indexer \u001B[38;5;241m=\u001B[39m [indexer]\n",
      "File \u001B[0;32m~/.conda/envs/ML4QS/lib/python3.8/site-packages/pandas/core/indexes/base.py:2648\u001B[0m, in \u001B[0;36mIndex.get_loc\u001B[0;34m(self, key, method, tolerance)\u001B[0m\n\u001B[1;32m   2646\u001B[0m         \u001B[38;5;28;01mreturn\u001B[39;00m \u001B[38;5;28mself\u001B[39m\u001B[38;5;241m.\u001B[39m_engine\u001B[38;5;241m.\u001B[39mget_loc(key)\n\u001B[1;32m   2647\u001B[0m     \u001B[38;5;28;01mexcept\u001B[39;00m \u001B[38;5;167;01mKeyError\u001B[39;00m:\n\u001B[0;32m-> 2648\u001B[0m         \u001B[38;5;28;01mreturn\u001B[39;00m \u001B[38;5;28;43mself\u001B[39;49m\u001B[38;5;241;43m.\u001B[39;49m\u001B[43m_engine\u001B[49m\u001B[38;5;241;43m.\u001B[39;49m\u001B[43mget_loc\u001B[49m\u001B[43m(\u001B[49m\u001B[38;5;28;43mself\u001B[39;49m\u001B[38;5;241;43m.\u001B[39;49m\u001B[43m_maybe_cast_indexer\u001B[49m\u001B[43m(\u001B[49m\u001B[43mkey\u001B[49m\u001B[43m)\u001B[49m\u001B[43m)\u001B[49m\n\u001B[1;32m   2649\u001B[0m indexer \u001B[38;5;241m=\u001B[39m \u001B[38;5;28mself\u001B[39m\u001B[38;5;241m.\u001B[39mget_indexer([key], method\u001B[38;5;241m=\u001B[39mmethod, tolerance\u001B[38;5;241m=\u001B[39mtolerance)\n\u001B[1;32m   2650\u001B[0m \u001B[38;5;28;01mif\u001B[39;00m indexer\u001B[38;5;241m.\u001B[39mndim \u001B[38;5;241m>\u001B[39m \u001B[38;5;241m1\u001B[39m \u001B[38;5;129;01mor\u001B[39;00m indexer\u001B[38;5;241m.\u001B[39msize \u001B[38;5;241m>\u001B[39m \u001B[38;5;241m1\u001B[39m:\n",
      "File \u001B[0;32mpandas/_libs/index.pyx:111\u001B[0m, in \u001B[0;36mpandas._libs.index.IndexEngine.get_loc\u001B[0;34m()\u001B[0m\n",
      "File \u001B[0;32mpandas/_libs/index.pyx:138\u001B[0m, in \u001B[0;36mpandas._libs.index.IndexEngine.get_loc\u001B[0;34m()\u001B[0m\n",
      "File \u001B[0;32mpandas/_libs/hashtable_class_helper.pxi:1619\u001B[0m, in \u001B[0;36mpandas._libs.hashtable.PyObjectHashTable.get_item\u001B[0;34m()\u001B[0m\n",
      "File \u001B[0;32mpandas/_libs/hashtable_class_helper.pxi:1627\u001B[0m, in \u001B[0;36mpandas._libs.hashtable.PyObjectHashTable.get_item\u001B[0;34m()\u001B[0m\n",
      "\u001B[0;31mKeyError\u001B[0m: 'i_outlier'"
     ]
    }
   ],
   "execution_count": 3
  },
  {
   "metadata": {
    "ExecuteTime": {
     "end_time": "2025-06-11T14:33:20.443014Z",
     "start_time": "2025-06-11T14:16:58.836645Z"
    }
   },
   "cell_type": "code",
   "source": [
    "test_df_outliers = out_detector.fitted_data\n",
    "test_df_outliers.columns"
   ],
   "id": "a628c3222459f62e",
   "outputs": [
    {
     "data": {
      "text/plain": [
       "Index(['id', 'timestamp', 'acc_phone_X', 'acc_phone_Y', 'acc_phone_Z',\n",
       "       'lin_acc_phone_X', 'lin_acc_phone_Y', 'lin_acc_phone_Z', 'gyr_phone_X',\n",
       "       'gyr_phone_Y', 'gyr_phone_Z', 'location_phone_Latitude',\n",
       "       'location_phone_Longitude', 'location_phone_Height',\n",
       "       'location_phone_Velocity', 'location_phone_Direction',\n",
       "       'location_phone_Horizontal Accuracy',\n",
       "       'location_phone_Vertical Accuracy', 'mag_phone_X', 'mag_phone_Y',\n",
       "       'mag_phone_Z', 'proximity_phone_Distance', 'labelbus', 'labeltram',\n",
       "       'labelmetro', 'labelcar', 'labelwalking', 'labeltrain', 'id_outlier',\n",
       "       'acc_phone_X_outlier', 'acc_phone_Y_outlier', 'acc_phone_Z_outlier',\n",
       "       'lin_acc_phone_X_outlier', 'lin_acc_phone_Y_outlier',\n",
       "       'lin_acc_phone_Z_outlier', 'gyr_phone_X_outlier', 'gyr_phone_Y_outlier',\n",
       "       'gyr_phone_Z_outlier', 'mag_phone_X_outlier', 'mag_phone_Y_outlier',\n",
       "       'mag_phone_Z_outlier'],\n",
       "      dtype='object')"
      ]
     },
     "execution_count": 25,
     "metadata": {},
     "output_type": "execute_result"
    }
   ],
   "execution_count": 25
  },
  {
   "metadata": {
    "ExecuteTime": {
     "end_time": "2025-06-11T10:44:22.867222Z",
     "start_time": "2025-06-11T10:44:22.849212Z"
    }
   },
   "cell_type": "code",
   "source": [
    "# dataframes = []\n",
    "# for filtered_frame in OUTLIERS_PATH.glob('*_filtered_norem.parquet'):\n",
    "#     print(f'processing {filtered_frame}...')\n",
    "#     pd.read_parquet(filtered_frame)\n",
    "#     dataframes.append(pd.read_parquet(filtered_frame))\n",
    "#\n",
    "# full_df = pd.concat(dataframes).set_index('index')\n",
    "# full_df.head()"
   ],
   "id": "138c25b4ea9e6a12",
   "outputs": [],
   "execution_count": 5
  },
  {
   "metadata": {},
   "cell_type": "markdown",
   "source": "# START IMPUTATION",
   "id": "d2c2052d04262492"
  },
  {
   "metadata": {
    "ExecuteTime": {
     "end_time": "2025-06-11T10:44:23.155217Z",
     "start_time": "2025-06-11T10:44:23.131028Z"
    }
   },
   "cell_type": "code",
   "source": [
    "time_gap_threshold = 250\n",
    "\n",
    "def time_gap(group):\n",
    "    time_series = pd.to_datetime(group['timestamp'])\n",
    "    time_gap_dfs = time_series.diff()\n",
    "    threshold = pd.Timedelta(milliseconds=time_gap_threshold)\n",
    "    time_gaps = (time_gap_dfs > threshold).sum()\n",
    "    return time_gaps\n",
    "\n"
   ],
   "id": "246b497de8a83e72",
   "outputs": [],
   "execution_count": 6
  },
  {
   "metadata": {
    "ExecuteTime": {
     "end_time": "2025-06-11T10:44:23.289215Z",
     "start_time": "2025-06-11T10:44:23.275694Z"
    }
   },
   "cell_type": "code",
   "source": "",
   "id": "19a0a3471617f35e",
   "outputs": [],
   "execution_count": null
  },
  {
   "metadata": {
    "ExecuteTime": {
     "end_time": "2025-06-11T10:44:23.583221Z",
     "start_time": "2025-06-11T10:44:23.565038Z"
    }
   },
   "cell_type": "code",
   "source": "# full_df[full_df['id'] == 0]",
   "id": "4a3de4d25188e142",
   "outputs": [],
   "execution_count": 7
  },
  {
   "metadata": {
    "ExecuteTime": {
     "end_time": "2025-06-11T13:53:05.081019Z",
     "start_time": "2025-06-11T13:53:05.048398Z"
    }
   },
   "cell_type": "code",
   "source": [
    "imputation_df = intermed_df.copy()\n",
    "\n",
    "# cols_to_check_acc = ['acc_phone_X', 'acc_phone_Y', 'acc_phone_Z']\n",
    "# cols_to_check_lin_acc = ['lin_acc_phone_X', 'lin_acc_phone_Y', 'lin_acc_phone_Z']\n",
    "# cols_to_check_gyr = ['gyr_phone_X', 'gyr_phone_Y', 'gyr_phone_Z']\n",
    "# cols_to_check_mag = ['mag_phone_X', 'mag_phone_Y', 'mag_phone_Z']\n",
    "#\n",
    "# checking = {'simple_dist_outlier_acc': cols_to_check_acc,\n",
    "#             'simple_dist_outlier_lin_acc': cols_to_check_lin_acc,\n",
    "#             'simple_dist_outlier_gyr': cols_to_check_gyr,\n",
    "#             'simple_dist_outlier_mag': cols_to_check_mag}\n",
    "#\n",
    "bad_sensors = ['proximity', 'location']\n",
    "drop_cols = []\n",
    "for sensor in bad_sensors:\n",
    "    drop_cols.extend(imputation_df.columns[imputation_df.columns.str.contains(sensor)])\n",
    "#\n",
    "imputation_df.drop(drop_cols, axis=1, inplace=True)\n",
    "#\n",
    "# columns_to_convert = [col for col in imputation_df.columns\n",
    "#                      if col not in ['id', 'timestamp', 'simple_dist_outlier']\n",
    "#                      and 'label' not in col]\n",
    "#\n",
    "# df_with_nans = imputation_df.copy()\n",
    "#\n",
    "# for outlier_col, cols_to_check in checking.items():\n",
    "#     df_with_nans.loc[imputation_df[outlier_col], cols_to_check] = np.nan\n",
    "#\n",
    "# imputation_df = df_with_nans\n",
    "#\n",
    "# imputation_df.isna().sum()\n",
    "\n",
    "# gaps_per_instance = imputation_df.groupby('id').apply(time_gap)\n",
    "# total_gaps = gaps_per_instance\n",
    "#\n",
    "# total_gaps"
   ],
   "id": "56c72eff9fbd5ecd",
   "outputs": [],
   "execution_count": 12
  },
  {
   "metadata": {
    "ExecuteTime": {
     "end_time": "2025-06-11T14:07:07.258231Z",
     "start_time": "2025-06-11T14:07:03.533426Z"
    }
   },
   "cell_type": "code",
   "source": [
    "test_imputer = CustomImputer('interpolation', True)\n",
    "cols_to_impute = [col for col in imputation_df.columns if col not in ['id', 'timestamp'] and 'label' not in col and 'outlier' not in col]\n",
    "\n",
    "test_df = test_imputer.fit_transform(imputation_df)"
   ],
   "id": "5ee6af63227ff993",
   "outputs": [
    {
     "name": "stdout",
     "output_type": "stream",
     "text": [
      "NaN values before imputation:\n",
      "acc_phone_X          2\n",
      "acc_phone_Y          0\n",
      "acc_phone_Z          0\n",
      "lin_acc_phone_X    263\n",
      "lin_acc_phone_Y    358\n",
      "lin_acc_phone_Z    382\n",
      "gyr_phone_X        331\n",
      "gyr_phone_Y        150\n",
      "gyr_phone_Z        116\n",
      "mag_phone_X        205\n",
      "mag_phone_Y        164\n",
      "mag_phone_Z        130\n",
      "dtype: int64\n",
      "Imputing lin_acc_phone_X for instance 0.0...\n",
      "0.0009478672985781991\n",
      "Imputing lin_acc_phone_Y for instance 0.0...\n",
      "0.0018957345971563982\n",
      "Imputing lin_acc_phone_Z for instance 0.0...\n",
      "0.002843601895734597\n",
      "Imputing gyr_phone_X for instance 0.0...\n",
      "0.005213270142180095\n",
      "Imputing gyr_phone_Y for instance 0.0...\n",
      "0.0009478672985781991\n",
      "Imputing gyr_phone_Z for instance 0.0...\n",
      "0.016113744075829384\n",
      "Imputing lin_acc_phone_Z for instance 1.0...\n",
      "0.001349527665317139\n",
      "Imputing gyr_phone_X for instance 1.0...\n",
      "0.001349527665317139\n",
      "Imputing gyr_phone_Y for instance 1.0...\n",
      "0.001349527665317139\n",
      "Imputing gyr_phone_Z for instance 1.0...\n",
      "0.006747638326585695\n",
      "Imputing lin_acc_phone_X for instance 2.0...\n",
      "0.0003266906239790918\n",
      "Imputing gyr_phone_X for instance 2.0...\n",
      "0.0006533812479581836\n",
      "Imputing gyr_phone_Z for instance 2.0...\n",
      "0.0022868343678536427\n",
      "Imputing mag_phone_X for instance 2.0...\n",
      "0.020581509310682783\n",
      "Imputing mag_phone_Y for instance 2.0...\n",
      "0.021561581182620058\n",
      "Imputing mag_phone_Z for instance 2.0...\n",
      "0.020581509310682783\n",
      "Imputing lin_acc_phone_X for instance 3.0...\n",
      "0.0008703220191470844\n",
      "Imputing gyr_phone_X for instance 3.0...\n",
      "0.0017406440382941688\n",
      "Imputing gyr_phone_Y for instance 3.0...\n",
      "0.0017406440382941688\n",
      "Imputing gyr_phone_Z for instance 3.0...\n",
      "0.0034812880765883376\n",
      "Imputing mag_phone_X for instance 4.0...\n",
      "0.15193370165745856\n",
      "Imputing mag_phone_Y for instance 4.0...\n",
      "0.07320441988950276\n",
      "Imputing mag_phone_Z for instance 4.0...\n",
      "0.05386740331491713\n",
      "Imputing lin_acc_phone_X for instance 5.0...\n",
      "0.011363636363636364\n",
      "Imputing gyr_phone_X for instance 5.0...\n",
      "0.0007253384912959381\n",
      "Imputing gyr_phone_Z for instance 5.0...\n",
      "0.0007253384912959381\n",
      "Imputing lin_acc_phone_X for instance 7.0...\n",
      "0.001520912547528517\n",
      "Imputing gyr_phone_X for instance 7.0...\n",
      "0.0022813688212927757\n",
      "Imputing gyr_phone_Y for instance 7.0...\n",
      "0.0007604562737642585\n",
      "Imputing gyr_phone_Z for instance 7.0...\n",
      "0.003041825095057034\n",
      "Imputing acc_phone_X for instance 8.0...\n",
      "0.001026694045174538\n",
      "Imputing lin_acc_phone_X for instance 8.0...\n",
      "0.013347022587268994\n",
      "Imputing lin_acc_phone_Y for instance 8.0...\n",
      "0.06262833675564682\n",
      "Imputing lin_acc_phone_Z for instance 8.0...\n",
      "0.05646817248459959\n",
      "Imputing gyr_phone_X for instance 8.0...\n",
      "0.048254620123203286\n",
      "Imputing gyr_phone_Y for instance 8.0...\n",
      "0.07700205338809035\n",
      "Imputing gyr_phone_Z for instance 8.0...\n",
      "0.018480492813141684\n",
      "Imputing lin_acc_phone_X for instance 9.0...\n",
      "0.001594048884165781\n",
      "Imputing gyr_phone_X for instance 9.0...\n",
      "0.0010626992561105207\n",
      "Imputing gyr_phone_Y for instance 9.0...\n",
      "0.0005313496280552603\n",
      "Imputing gyr_phone_Z for instance 9.0...\n",
      "0.002656748140276302\n",
      "Imputing mag_phone_X for instance 9.0...\n",
      "0.015409139213602551\n",
      "Imputing mag_phone_Y for instance 9.0...\n",
      "0.019659936238044632\n",
      "Imputing mag_phone_Z for instance 9.0...\n",
      "0.01381509032943677\n",
      "Imputing lin_acc_phone_X for instance 10.0...\n",
      "0.23107569721115537\n",
      "Imputing lin_acc_phone_Y for instance 10.0...\n",
      "0.2602921646746348\n",
      "Imputing lin_acc_phone_Z for instance 10.0...\n",
      "0.3466135458167331\n",
      "Imputing gyr_phone_X for instance 10.0...\n",
      "0.3054448871181939\n",
      "Imputing gyr_phone_Y for instance 10.0...\n",
      "0.0013280212483399733\n",
      "Imputing gyr_phone_Z for instance 10.0...\n",
      "0.0199203187250996\n",
      "Imputing gyr_phone_X for instance 11.0...\n",
      "0.0007220216606498195\n",
      "Imputing gyr_phone_Z for instance 11.0...\n",
      "0.0009626955475330926\n",
      "Imputing mag_phone_X for instance 11.0...\n",
      "0.0007220216606498195\n",
      "Imputing mag_phone_Y for instance 11.0...\n",
      "0.0019253910950661852\n",
      "Imputing mag_phone_Z for instance 11.0...\n",
      "0.0004813477737665463\n",
      "Imputing lin_acc_phone_X for instance 12.0...\n",
      "0.0010443864229765013\n",
      "Imputing lin_acc_phone_Y for instance 12.0...\n",
      "0.0010443864229765013\n",
      "Imputing gyr_phone_X for instance 12.0...\n",
      "0.0005221932114882506\n",
      "Imputing gyr_phone_Z for instance 12.0...\n",
      "0.0020887728459530026\n",
      "Imputing acc_phone_X for instance 13.0...\n",
      "0.0007117437722419929\n",
      "Imputing lin_acc_phone_X for instance 13.0...\n",
      "0.012811387900355872\n",
      "Imputing lin_acc_phone_Y for instance 13.0...\n",
      "0.06761565836298933\n",
      "Imputing lin_acc_phone_Z for instance 13.0...\n",
      "0.04199288256227758\n",
      "Imputing gyr_phone_X for instance 13.0...\n",
      "0.018505338078291814\n",
      "Imputing gyr_phone_Y for instance 13.0...\n",
      "0.04768683274021352\n",
      "Imputing gyr_phone_Z for instance 13.0...\n",
      "0.009252669039145907\n"
     ]
    }
   ],
   "execution_count": 15
  },
  {
   "metadata": {
    "ExecuteTime": {
     "end_time": "2025-06-11T14:14:23.878099Z",
     "start_time": "2025-06-11T14:14:19.280547Z"
    }
   },
   "cell_type": "code",
   "source": [
    "notebook_path = 'imputation.ipynb'\n",
    "\n",
    "DataViz = VisualizeDataset(notebook_path)\n",
    "#\n",
    "imputation_df.set_index('timestamp', inplace=True)\n",
    "test_df.set_index('timestamp', inplace=True)\n",
    "\n",
    "# DataViz.plot_imputed_values(imputation_df, ['original', 'interpolated'], 'lin_acc_phone_Y', test_df['lin_acc_phone_Y'])"
   ],
   "id": "a7a9e02c4f88a537",
   "outputs": [
    {
     "name": "stdout",
     "output_type": "stream",
     "text": [
      "Figure saved to figures/imputation/figure_1.png\n",
      "Figure saved to figures/imputation/figure_1.pdf\n"
     ]
    }
   ],
   "execution_count": 23
  },
  {
   "metadata": {
    "ExecuteTime": {
     "end_time": "2025-06-11T12:46:25.440440Z",
     "start_time": "2025-06-11T12:46:20.894562Z"
    }
   },
   "cell_type": "code",
   "source": [
    "imputer = MisVal()\n",
    "cols_to_impute = [col for col in imputation_df.columns if col not in ['id', 'timestamp'] and 'label' not in col and 'outlier' not in col]\n",
    "\n",
    "print(\"NaN values before imputation:\")\n",
    "print(imputation_df[cols_to_impute].isna().sum())\n",
    "\n",
    "for instance in imputation_df.id.unique():\n",
    "    instance_mask = imputation_df.id == instance\n",
    "    for col in cols_to_impute:\n",
    "        if imputation_df.loc[instance_mask, col].isna().any():\n",
    "            print(f\"Imputing {col} for instance {instance}...\")\n",
    "            print(imputation_df.loc[instance_mask, col].isna().sum() / len(imputation_df.loc[instance_mask, col]))\n",
    "            imputation_df[instance_mask] = imputer.impute_interpolate(dataset=imputation_df[instance_mask].copy(), col=col)"
   ],
   "id": "38bdd6636f701291",
   "outputs": [
    {
     "name": "stdout",
     "output_type": "stream",
     "text": [
      "NaN values before imputation:\n",
      "acc_phone_X                  2\n",
      "acc_phone_Y                  0\n",
      "acc_phone_Z                  0\n",
      "lin_acc_phone_X            263\n",
      "lin_acc_phone_Y            358\n",
      "lin_acc_phone_Z            382\n",
      "gyr_phone_X                331\n",
      "gyr_phone_Y                150\n",
      "gyr_phone_Z                116\n",
      "mag_phone_X                205\n",
      "mag_phone_Y                164\n",
      "mag_phone_Z                130\n",
      "id_outlier                   0\n",
      "acc_phone_X_outlier          0\n",
      "acc_phone_Y_outlier          0\n",
      "acc_phone_Z_outlier          0\n",
      "lin_acc_phone_X_outlier      0\n",
      "lin_acc_phone_Y_outlier      0\n",
      "lin_acc_phone_Z_outlier      0\n",
      "gyr_phone_X_outlier          0\n",
      "gyr_phone_Y_outlier          0\n",
      "gyr_phone_Z_outlier          0\n",
      "mag_phone_X_outlier          0\n",
      "mag_phone_Y_outlier          0\n",
      "mag_phone_Z_outlier          0\n",
      "dtype: int64\n",
      "Imputing lin_acc_phone_X for instance 0.0...\n",
      "0.0009478672985781991\n",
      "Imputing lin_acc_phone_Y for instance 0.0...\n",
      "0.0018957345971563982\n",
      "Imputing lin_acc_phone_Z for instance 0.0...\n",
      "0.002843601895734597\n",
      "Imputing gyr_phone_X for instance 0.0...\n",
      "0.005213270142180095\n",
      "Imputing gyr_phone_Y for instance 0.0...\n",
      "0.0009478672985781991\n",
      "Imputing gyr_phone_Z for instance 0.0...\n",
      "0.016113744075829384\n",
      "Imputing lin_acc_phone_Z for instance 1.0...\n",
      "0.001349527665317139\n",
      "Imputing gyr_phone_X for instance 1.0...\n",
      "0.001349527665317139\n",
      "Imputing gyr_phone_Y for instance 1.0...\n",
      "0.001349527665317139\n",
      "Imputing gyr_phone_Z for instance 1.0...\n",
      "0.006747638326585695\n",
      "Imputing lin_acc_phone_X for instance 2.0...\n",
      "0.0003266906239790918\n",
      "Imputing gyr_phone_X for instance 2.0...\n",
      "0.0006533812479581836\n",
      "Imputing gyr_phone_Z for instance 2.0...\n",
      "0.0022868343678536427\n",
      "Imputing mag_phone_X for instance 2.0...\n",
      "0.020581509310682783\n",
      "Imputing mag_phone_Y for instance 2.0...\n",
      "0.021561581182620058\n",
      "Imputing mag_phone_Z for instance 2.0...\n",
      "0.020581509310682783\n",
      "Imputing lin_acc_phone_X for instance 3.0...\n",
      "0.0008703220191470844\n",
      "Imputing gyr_phone_X for instance 3.0...\n",
      "0.0017406440382941688\n",
      "Imputing gyr_phone_Y for instance 3.0...\n",
      "0.0017406440382941688\n",
      "Imputing gyr_phone_Z for instance 3.0...\n",
      "0.0034812880765883376\n",
      "Imputing mag_phone_X for instance 4.0...\n",
      "0.15193370165745856\n",
      "Imputing mag_phone_Y for instance 4.0...\n",
      "0.07320441988950276\n",
      "Imputing mag_phone_Z for instance 4.0...\n",
      "0.05386740331491713\n",
      "Imputing lin_acc_phone_X for instance 5.0...\n",
      "0.011363636363636364\n",
      "Imputing gyr_phone_X for instance 5.0...\n",
      "0.0007253384912959381\n",
      "Imputing gyr_phone_Z for instance 5.0...\n",
      "0.0007253384912959381\n",
      "Imputing lin_acc_phone_X for instance 7.0...\n",
      "0.001520912547528517\n",
      "Imputing gyr_phone_X for instance 7.0...\n",
      "0.0022813688212927757\n",
      "Imputing gyr_phone_Y for instance 7.0...\n",
      "0.0007604562737642585\n",
      "Imputing gyr_phone_Z for instance 7.0...\n",
      "0.003041825095057034\n",
      "Imputing acc_phone_X for instance 8.0...\n",
      "0.001026694045174538\n",
      "Imputing lin_acc_phone_X for instance 8.0...\n",
      "0.013347022587268994\n",
      "Imputing lin_acc_phone_Y for instance 8.0...\n",
      "0.06262833675564682\n",
      "Imputing lin_acc_phone_Z for instance 8.0...\n",
      "0.05646817248459959\n",
      "Imputing gyr_phone_X for instance 8.0...\n",
      "0.048254620123203286\n",
      "Imputing gyr_phone_Y for instance 8.0...\n",
      "0.07700205338809035\n",
      "Imputing gyr_phone_Z for instance 8.0...\n",
      "0.018480492813141684\n",
      "Imputing lin_acc_phone_X for instance 9.0...\n",
      "0.001594048884165781\n",
      "Imputing gyr_phone_X for instance 9.0...\n",
      "0.0010626992561105207\n",
      "Imputing gyr_phone_Y for instance 9.0...\n",
      "0.0005313496280552603\n",
      "Imputing gyr_phone_Z for instance 9.0...\n",
      "0.002656748140276302\n",
      "Imputing mag_phone_X for instance 9.0...\n",
      "0.015409139213602551\n",
      "Imputing mag_phone_Y for instance 9.0...\n",
      "0.019659936238044632\n",
      "Imputing mag_phone_Z for instance 9.0...\n",
      "0.01381509032943677\n",
      "Imputing lin_acc_phone_X for instance 10.0...\n",
      "0.23107569721115537\n",
      "Imputing lin_acc_phone_Y for instance 10.0...\n",
      "0.2602921646746348\n",
      "Imputing lin_acc_phone_Z for instance 10.0...\n",
      "0.3466135458167331\n",
      "Imputing gyr_phone_X for instance 10.0...\n",
      "0.3054448871181939\n",
      "Imputing gyr_phone_Y for instance 10.0...\n",
      "0.0013280212483399733\n",
      "Imputing gyr_phone_Z for instance 10.0...\n",
      "0.0199203187250996\n",
      "Imputing gyr_phone_X for instance 11.0...\n",
      "0.0007220216606498195\n",
      "Imputing gyr_phone_Z for instance 11.0...\n",
      "0.0009626955475330926\n",
      "Imputing mag_phone_X for instance 11.0...\n",
      "0.0007220216606498195\n",
      "Imputing mag_phone_Y for instance 11.0...\n",
      "0.0019253910950661852\n",
      "Imputing mag_phone_Z for instance 11.0...\n",
      "0.0004813477737665463\n",
      "Imputing lin_acc_phone_X for instance 12.0...\n",
      "0.0010443864229765013\n",
      "Imputing lin_acc_phone_Y for instance 12.0...\n",
      "0.0010443864229765013\n",
      "Imputing gyr_phone_X for instance 12.0...\n",
      "0.0005221932114882506\n",
      "Imputing gyr_phone_Z for instance 12.0...\n",
      "0.0020887728459530026\n",
      "Imputing acc_phone_X for instance 13.0...\n",
      "0.0007117437722419929\n",
      "Imputing lin_acc_phone_X for instance 13.0...\n",
      "0.012811387900355872\n",
      "Imputing lin_acc_phone_Y for instance 13.0...\n",
      "0.06761565836298933\n",
      "Imputing lin_acc_phone_Z for instance 13.0...\n",
      "0.04199288256227758\n",
      "Imputing gyr_phone_X for instance 13.0...\n",
      "0.018505338078291814\n",
      "Imputing gyr_phone_Y for instance 13.0...\n",
      "0.04768683274021352\n",
      "Imputing gyr_phone_Z for instance 13.0...\n",
      "0.009252669039145907\n"
     ]
    }
   ],
   "execution_count": 5
  },
  {
   "metadata": {
    "ExecuteTime": {
     "end_time": "2025-06-11T12:46:25.552072Z",
     "start_time": "2025-06-11T12:46:25.540279Z"
    }
   },
   "cell_type": "code",
   "source": "visualise_df = imputation_df.copy()",
   "id": "ff0bd496a9eef07a",
   "outputs": [],
   "execution_count": 6
  },
  {
   "metadata": {
    "ExecuteTime": {
     "end_time": "2025-06-11T12:46:25.690115Z",
     "start_time": "2025-06-11T12:46:25.664509Z"
    }
   },
   "cell_type": "code",
   "source": [
    "outlier_cols = [col for col in visualise_df.columns if 'outlier' in col]\n",
    "visualise_df = visualise_df.drop(outlier_cols, axis=1)\n",
    "visualise_df.columns"
   ],
   "id": "fe11e667a2cbea54",
   "outputs": [
    {
     "data": {
      "text/plain": [
       "Index(['id', 'timestamp', 'acc_phone_X', 'acc_phone_Y', 'acc_phone_Z',\n",
       "       'lin_acc_phone_X', 'lin_acc_phone_Y', 'lin_acc_phone_Z', 'gyr_phone_X',\n",
       "       'gyr_phone_Y', 'gyr_phone_Z', 'mag_phone_X', 'mag_phone_Y',\n",
       "       'mag_phone_Z', 'labelbus', 'labeltram', 'labelmetro', 'labelcar',\n",
       "       'labelwalking', 'labeltrain'],\n",
       "      dtype='object')"
      ]
     },
     "execution_count": 7,
     "metadata": {},
     "output_type": "execute_result"
    }
   ],
   "execution_count": 7
  },
  {
   "metadata": {
    "ExecuteTime": {
     "end_time": "2025-06-11T12:46:27.139831Z",
     "start_time": "2025-06-11T12:46:26.872894Z"
    }
   },
   "cell_type": "code",
   "source": [
    "label_fix = True\n",
    "\n",
    "if 'timestamp' in visualise_df.columns:\n",
    "    visualise_df.set_index('timestamp', inplace=True)\n",
    "\n",
    "if label_fix:\n",
    "    # This is very stupid\n",
    "    label_col = [col for col in visualise_df.columns if 'label' in col]\n",
    "    for col in label_col:\n",
    "        visualise_df[col] = visualise_df[col].apply(lambda x: 1 if x == 0 or x == 1 else 0)"
   ],
   "id": "2028ad2a66240cc5",
   "outputs": [],
   "execution_count": 8
  },
  {
   "metadata": {},
   "cell_type": "code",
   "source": [
    "notebook_path = 'imputation.ipynb'\n",
    "\n",
    "DataViz = VisualizeDataset(notebook_path)\n",
    "\n",
    "# TODO: This should work nicely per instance once the outlier problem is fixed.\n",
    "\n",
    "# Plot all data\n",
    "for instance in imputation_df.id.unique():\n",
    "    visual_instance = visualise_df[visualise_df.id == instance]\n",
    "    DataViz.plot_dataset(visual_instance,\n",
    "                        ['acc_', 'gyr_', 'lin_' , 'mag_', 'label'],\n",
    "                        ['like', 'like', 'like', 'like', 'like', 'like'],\n",
    "                        ['line', 'line', 'line', 'line', 'line', 'points'])"
   ],
   "id": "689e2dfd00bb09bd",
   "outputs": [],
   "execution_count": null
  },
  {
   "metadata": {
    "ExecuteTime": {
     "end_time": "2025-06-11T12:46:39.017049Z",
     "start_time": "2025-06-11T12:46:31.801318Z"
    }
   },
   "cell_type": "code",
   "source": [
    "for idx in imputation_df.index:\n",
    "    if not pd.to_datetime(idx):\n",
    "        print(idx)\n",
    "        break"
   ],
   "id": "3f693bf16f030f47",
   "outputs": [],
   "execution_count": 9
  },
  {
   "metadata": {},
   "cell_type": "code",
   "source": [
    "notebook_path = 'imputation2.ipynb'\n",
    "\n",
    "DataViz = VisualizeDataset(notebook_path)\n",
    "\n",
    "day_slices = visualise_df.groupby(visualise_df.index.date)\n",
    "\n",
    "for day, day_slice in day_slices:\n",
    "    DataViz.plot_dataset(day_slice,\n",
    "                            ['acc_', 'gyr_', 'lin_' , 'mag_', 'label'],\n",
    "                            ['like', 'like', 'like', 'like', 'like'],\n",
    "                            ['line', 'line', 'line', 'line', 'points'])"
   ],
   "id": "87e11acae7b899a4",
   "outputs": [],
   "execution_count": null
  },
  {
   "metadata": {
    "ExecuteTime": {
     "end_time": "2025-06-11T12:59:16.854286Z",
     "start_time": "2025-06-11T12:59:00.841229Z"
    }
   },
   "cell_type": "code",
   "source": [
    "notebook_path = 'imputation3.ipynb'\n",
    "\n",
    "DataViz = VisualizeDataset(notebook_path)\n",
    "\n",
    "test_set = visualise_df.copy()\n",
    "test_set.reset_index(inplace=True)\n",
    "test_set.rename(columns={'index': 'timestamp'}, inplace=True)\n",
    "\n",
    "def time_gap_cols(group):\n",
    "    time_series = pd.to_datetime(group['timestamp'])\n",
    "    time_gap_dfs = time_series.diff().fillna(pd.Timedelta(0))\n",
    "    return time_gap_dfs\n",
    "\n",
    "for instance in test_set.id.unique():\n",
    "    test_set.loc[test_set.id == instance, 'time_diff'] = time_gap_cols(test_set[test_set.id == instance])\n",
    "\n",
    "test_set['shifted_time'] = test_set['time_diff'].cumsum()\n",
    "\n",
    "start_time = pd.Timestamp('1970-1-1 00:00:00')\n",
    "\n",
    "test_set['timestamp'] = test_set['shifted_time'] + start_time\n",
    "\n",
    "test_set.set_index('timestamp', inplace=True)\n",
    "\n",
    "DataViz.plot_dataset(test_set,\n",
    "                            ['acc_', 'gyr_', 'lin_' , 'mag_', 'label'],\n",
    "                            ['like', 'like', 'like', 'like', 'like'],\n",
    "                            ['line', 'line', 'line', 'line', 'points'])"
   ],
   "id": "e0782611fb03e546",
   "outputs": [
    {
     "name": "stdout",
     "output_type": "stream",
     "text": [
      "Figure saved to figures/imputation3/figure_1.png\n",
      "Figure saved to figures/imputation3/figure_1.pdf\n"
     ]
    }
   ],
   "execution_count": 15
  }
 ],
 "metadata": {
  "kernelspec": {
   "display_name": "Python 3",
   "language": "python",
   "name": "python3"
  },
  "language_info": {
   "codemirror_mode": {
    "name": "ipython",
    "version": 2
   },
   "file_extension": ".py",
   "mimetype": "text/x-python",
   "name": "python",
   "nbconvert_exporter": "python",
   "pygments_lexer": "ipython2",
   "version": "2.7.6"
  }
 },
 "nbformat": 4,
 "nbformat_minor": 5
}
