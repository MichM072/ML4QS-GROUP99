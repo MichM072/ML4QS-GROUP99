{
 "cells": [
  {
   "metadata": {
    "ExecuteTime": {
     "end_time": "2025-06-12T12:45:08.549804Z",
     "start_time": "2025-06-12T12:45:08.541687Z"
    }
   },
   "cell_type": "code",
   "source": [
    "from pathlib import Path\n",
    "import os\n",
    "STUDENT = 'mmr497'\n",
    "\n",
    "OUTLIERS_PATH = Path('./outliers2/')\n",
    "INTERMEDIATE_PATH = Path('./intermediate_datafiles/')\n",
    "os.chdir(f'/home/{STUDENT}/')\n",
    "# from Python3Code.outliers_distance_parquet import outlier_detector\n"
   ],
   "id": "f85e0271ac89e151",
   "outputs": [],
   "execution_count": 1
  },
  {
   "metadata": {
    "ExecuteTime": {
     "end_time": "2025-06-12T12:45:13.060213Z",
     "start_time": "2025-06-12T12:45:11.314819Z"
    }
   },
   "cell_type": "code",
   "source": [
    "import pandas as pd\n",
    "import numpy as np\n",
    "import sys\n",
    "import matplotlib.pyplot as plt\n",
    "from util.VisualizeDataset import VisualizeDataset\n",
    "from Chapter3.OutlierDetection import DistanceBasedOutlierDetection\n",
    "from Chapter3.ImputationMissingValues import ImputationMissingValues as MisVal\n",
    "from outlier_detector import OutlierDetector\n",
    "from custom_imputer import CustomImputer\n",
    "from util.util import ignore_actual_time"
   ],
   "id": "dea05977114761eb",
   "outputs": [],
   "execution_count": 2
  },
  {
   "metadata": {
    "ExecuteTime": {
     "end_time": "2025-06-12T12:45:13.083894Z",
     "start_time": "2025-06-12T12:45:13.078620Z"
    }
   },
   "cell_type": "code",
   "source": [
    "# intermed_df = pd.read_parquet(f'{INTERMEDIATE_PATH}/ML4QS_combined_results_2.parquet')\n",
    "#\n",
    "# sensor_prefixes = [\n",
    "#     'acc_phone_',\n",
    "#     'lin_acc_phone_',\n",
    "#     'gyr_phone_',\n",
    "#     'mag_phone_',\n",
    "# ]\n",
    "#\n",
    "# folder = 'intermediate_datafiles'\n",
    "# output_folder = 'outliers2'\n",
    "# vehicles = ['train', 'bus', 'metro', 'tram', 'car','walking']\n",
    "#\n",
    "# files = [f for f in os.listdir(folder) if f.endswith('.parquet')]\n",
    "# data_by_vehicle = {vehicle: [] for vehicle in vehicles}\n",
    "#\n",
    "# for vehicle in vehicles:\n",
    "#     data_by_vehicle[vehicle] = intermed_df[~intermed_df[f'label{vehicle}'].isna()]\n",
    "#\n",
    "# for instance_id in intermed_df['id'].unique():\n",
    "#     # Create a mask for the current instance\n",
    "#     instance_mask = intermed_df['id'] == instance_id\n",
    "#     ins_df = intermed_df[instance_mask]\n",
    "#\n",
    "#     start_time = ins_df['timestamp'].iloc[0]\n",
    "#     end_time = ins_df['timestamp'].iloc[-1]\n",
    "#\n",
    "#     print(start_time)\n",
    "#\n",
    "#     start_time_plus_10s = start_time + pd.Timedelta(seconds=10)\n",
    "#     end_time_minus_10s = end_time - pd.Timedelta(seconds=10)\n",
    "#\n",
    "#     time_mask = (intermed_df.timestamp >= start_time_plus_10s) & (intermed_df.timestamp <= end_time_minus_10s)\n",
    "#\n",
    "#     intermed_df = intermed_df[~instance_mask | (instance_mask & time_mask)]\n",
    "#\n",
    "# outlier_detector = DistanceBasedOutlierDetection()\n",
    "#\n",
    "# cols_to_check_acc = ['acc_phone_X', 'acc_phone_Y', 'acc_phone_Z']\n",
    "# cols_to_check_lin_acc = ['lin_acc_phone_X', 'lin_acc_phone_Y', 'lin_acc_phone_Z']\n",
    "# cols_to_check_gyr = ['gyr_phone_X', 'gyr_phone_Y', 'gyr_phone_Z']\n",
    "# cols_to_check_mag = ['mag_phone_X', 'mag_phone_Y', 'mag_phone_Z']\n",
    "# cols_to_check_accuracy = ['location_phone_Horizontal Accuracy', 'location_phone_Vertical Accuracy']\n",
    "#\n",
    "# d_function = 'euclidean'\n",
    "# vehicle_params = {\n",
    "#     'train': {'dmin': 0.15, 'fmin': 0.1},\n",
    "#     'bus': {'dmin': 0.5, 'fmin': 0.1},\n",
    "#     'metro': {'dmin': 0.4, 'fmin': 0.1},\n",
    "#     'tram': {'dmin': 0.45, 'fmin': 0.1},\n",
    "#     'car': {'dmin': 0.1, 'fmin': 0.05},\n",
    "#     'walking': {'dmin': 0.65, 'fmin': 0.1},\n",
    "# }\n",
    "#\n",
    "# Path(output_folder).mkdir(parents=True, exist_ok=True)\n",
    "#\n",
    "# data_by_vehicle_buffer = {vehicle: [] for vehicle in vehicles}\n",
    "#\n",
    "# for vehicle in vehicles:\n",
    "#     data_by_vehicle_buffer[vehicle] = intermed_df[~intermed_df[f'label{vehicle}'].isna()]\n",
    "#\n",
    "# for vehicle, df in data_by_vehicle.items():\n",
    "#     raw_output_file = os.path.join(output_folder, f\"{vehicle}_raw.parquet\")\n",
    "#     df.reset_index().to_parquet(raw_output_file, version='2.6', allow_truncated_timestamps=True)\n",
    "#     print(f\"Saved raw {vehicle} data to {raw_output_file}\")\n",
    "#\n",
    "#\n",
    "# for vehicle, df in data_by_vehicle_buffer.items():\n",
    "#     print(f\"Processing {vehicle} data...\")\n",
    "#\n",
    "#     vehicle_dmin = vehicle_params[vehicle]['dmin']\n",
    "#     vehicle_fmin = vehicle_params[vehicle]['fmin']\n",
    "#\n",
    "#     # TODO: This is too extreme and marks nearly everything as an outlier.\n",
    "#\n",
    "#     df = outlier_detector.simple_distance_based(df, cols=cols_to_check_acc, d_function=d_function, dmin=vehicle_dmin, fmin=vehicle_fmin)\n",
    "#     df.rename(columns={'simple_dist_outlier': f'simple_dist_outlier_acc'}, inplace=True)\n",
    "#     df = outlier_detector.simple_distance_based(df, cols=cols_to_check_lin_acc, d_function=d_function, dmin=vehicle_dmin, fmin=vehicle_fmin)\n",
    "#     df.rename(columns={'simple_dist_outlier': f'simple_dist_outlier_lin_acc'}, inplace=True)\n",
    "#     df = outlier_detector.simple_distance_based(df, cols=cols_to_check_gyr, d_function=d_function, dmin=vehicle_dmin, fmin=vehicle_fmin)\n",
    "#     df.rename(columns={'simple_dist_outlier': f'simple_dist_outlier_gyr'}, inplace=True)\n",
    "#     df = outlier_detector.simple_distance_based(df, cols=cols_to_check_mag, d_function=d_function, dmin=vehicle_dmin, fmin=vehicle_fmin)\n",
    "#     df.rename(columns={'simple_dist_outlier': f'simple_dist_outlier_mag'}, inplace=True)\n",
    "#\n",
    "#     df_filtered = df\n",
    "#\n",
    "# ##################################################\n",
    "# ##################################################\n",
    "#\n",
    "#     output_file = os.path.join(output_folder, f\"{vehicle}_filtered_norem.parquet\")\n",
    "#     df_filtered.reset_index().to_parquet(output_file, version='2.6', allow_truncated_timestamps=True)\n",
    "#     print(f\"Saved filtered {vehicle} data to {output_file}\")"
   ],
   "id": "87b8a39843dd90ba",
   "outputs": [],
   "execution_count": 3
  },
  {
   "metadata": {
    "ExecuteTime": {
     "end_time": "2025-06-12T12:45:18.726549Z",
     "start_time": "2025-06-12T12:45:13.170670Z"
    }
   },
   "cell_type": "code",
   "source": [
    "intermed_df = pd.read_parquet(f'{INTERMEDIATE_PATH}/ML4QS_combined_results_2.parquet')\n",
    "intermed_df.set_index('timestamp', inplace=True)\n",
    "out_detector = OutlierDetector(intermed_df)\n",
    "intermed_df = out_detector.fit_transform(\"mixture\", outlier_behaviour='nan')"
   ],
   "id": "757d3c2ce2a6f5ce",
   "outputs": [
    {
     "name": "stdout",
     "output_type": "stream",
     "text": [
      "Applying mixture models\n",
      "Applying mixture models\n",
      "Applying mixture models\n",
      "Applying mixture models\n",
      "Applying mixture models\n",
      "Applying mixture models\n",
      "Applying mixture models\n",
      "Applying mixture models\n",
      "Applying mixture models\n",
      "Applying mixture models\n",
      "Applying mixture models\n",
      "Applying mixture models\n",
      "Applying mixture models\n"
     ]
    }
   ],
   "execution_count": 4
  },
  {
   "metadata": {
    "ExecuteTime": {
     "end_time": "2025-06-12T12:45:18.769870Z",
     "start_time": "2025-06-12T12:45:18.762853Z"
    }
   },
   "cell_type": "code",
   "source": [
    "test_df_outliers = out_detector.fitted_data\n",
    "\n",
    "intermed_df.columns"
   ],
   "id": "a628c3222459f62e",
   "outputs": [
    {
     "data": {
      "text/plain": [
       "Index(['id', 'acc_phone_X', 'acc_phone_Y', 'acc_phone_Z', 'lin_acc_phone_X',\n",
       "       'lin_acc_phone_Y', 'lin_acc_phone_Z', 'gyr_phone_X', 'gyr_phone_Y',\n",
       "       'gyr_phone_Z', 'location_phone_Latitude', 'location_phone_Longitude',\n",
       "       'location_phone_Height', 'location_phone_Velocity',\n",
       "       'location_phone_Direction', 'location_phone_Horizontal Accuracy',\n",
       "       'location_phone_Vertical Accuracy', 'mag_phone_X', 'mag_phone_Y',\n",
       "       'mag_phone_Z', 'proximity_phone_Distance', 'labelbus', 'labeltram',\n",
       "       'labelmetro', 'labelcar', 'labelwalking', 'labeltrain'],\n",
       "      dtype='object')"
      ]
     },
     "execution_count": 5,
     "metadata": {},
     "output_type": "execute_result"
    }
   ],
   "execution_count": 5
  },
  {
   "metadata": {
    "ExecuteTime": {
     "end_time": "2025-06-12T12:45:18.846709Z",
     "start_time": "2025-06-12T12:45:18.844215Z"
    }
   },
   "cell_type": "code",
   "source": [
    "# DataViz = VisualizeDataset('outlier_detecting.ipynb')\n",
    "#\n",
    "# for col in out_detector.fitted_cols:\n",
    "#     DataViz.plot_dataset(test_df_outliers, [col, col + '_mixture'], ['exact', 'exact'], ['line', 'points'])"
   ],
   "id": "138c25b4ea9e6a12",
   "outputs": [],
   "execution_count": 6
  },
  {
   "metadata": {},
   "cell_type": "markdown",
   "source": "# START IMPUTATION",
   "id": "d2c2052d04262492"
  },
  {
   "metadata": {
    "ExecuteTime": {
     "end_time": "2025-06-12T12:45:18.923381Z",
     "start_time": "2025-06-12T12:45:18.919071Z"
    }
   },
   "cell_type": "code",
   "source": [
    "time_gap_threshold = 250\n",
    "\n",
    "def time_gap(group):\n",
    "    time_series = pd.to_datetime(group['timestamp'])\n",
    "    time_gap_dfs = time_series.diff()\n",
    "    threshold = pd.Timedelta(milliseconds=time_gap_threshold)\n",
    "    time_gaps = (time_gap_dfs > threshold).sum()\n",
    "    return time_gaps\n",
    "\n"
   ],
   "id": "246b497de8a83e72",
   "outputs": [],
   "execution_count": 7
  },
  {
   "metadata": {
    "ExecuteTime": {
     "end_time": "2025-06-12T12:45:19.002188Z",
     "start_time": "2025-06-12T12:45:18.999984Z"
    }
   },
   "cell_type": "code",
   "source": "",
   "id": "19a0a3471617f35e",
   "outputs": [],
   "execution_count": null
  },
  {
   "metadata": {
    "ExecuteTime": {
     "end_time": "2025-06-12T12:45:19.079933Z",
     "start_time": "2025-06-12T12:45:19.077274Z"
    }
   },
   "cell_type": "code",
   "source": "# full_df[full_df['id'] == 0]",
   "id": "4a3de4d25188e142",
   "outputs": [],
   "execution_count": 8
  },
  {
   "metadata": {
    "ExecuteTime": {
     "end_time": "2025-06-12T12:45:19.165965Z",
     "start_time": "2025-06-12T12:45:19.155671Z"
    }
   },
   "cell_type": "code",
   "source": [
    "imputation_df = intermed_df.copy()\n",
    "\n",
    "# cols_to_check_acc = ['acc_phone_X', 'acc_phone_Y', 'acc_phone_Z']\n",
    "# cols_to_check_lin_acc = ['lin_acc_phone_X', 'lin_acc_phone_Y', 'lin_acc_phone_Z']\n",
    "# cols_to_check_gyr = ['gyr_phone_X', 'gyr_phone_Y', 'gyr_phone_Z']\n",
    "# cols_to_check_mag = ['mag_phone_X', 'mag_phone_Y', 'mag_phone_Z']\n",
    "#\n",
    "# checking = {'simple_dist_outlier_acc': cols_to_check_acc,\n",
    "#             'simple_dist_outlier_lin_acc': cols_to_check_lin_acc,\n",
    "#             'simple_dist_outlier_gyr': cols_to_check_gyr,\n",
    "#             'simple_dist_outlier_mag': cols_to_check_mag}\n",
    "#\n",
    "bad_sensors = ['proximity', 'location']\n",
    "drop_cols = []\n",
    "for sensor in bad_sensors:\n",
    "    drop_cols.extend(imputation_df.columns[imputation_df.columns.str.contains(sensor)])\n",
    "#\n",
    "imputation_df.drop(drop_cols, axis=1, inplace=True)\n",
    "#\n",
    "# columns_to_convert = [col for col in imputation_df.columns\n",
    "#                      if col not in ['id', 'timestamp', 'simple_dist_outlier']\n",
    "#                      and 'label' not in col]\n",
    "#\n",
    "# df_with_nans = imputation_df.copy()\n",
    "#\n",
    "# for outlier_col, cols_to_check in checking.items():\n",
    "#     df_with_nans.loc[imputation_df[outlier_col], cols_to_check] = np.nan\n",
    "#\n",
    "# imputation_df = df_with_nans\n",
    "#\n",
    "# imputation_df.isna().sum()\n",
    "\n",
    "# gaps_per_instance = imputation_df.groupby('id').apply(time_gap)\n",
    "# total_gaps = gaps_per_instance\n",
    "#\n",
    "# total_gaps"
   ],
   "id": "56c72eff9fbd5ecd",
   "outputs": [],
   "execution_count": 9
  },
  {
   "metadata": {
    "ExecuteTime": {
     "end_time": "2025-06-12T12:45:19.325512Z",
     "start_time": "2025-06-12T12:45:19.241394Z"
    }
   },
   "cell_type": "code",
   "source": [
    "test_imputer = CustomImputer('interpolation')\n",
    "cols_to_impute = [col for col in imputation_df.columns if col not in ['id', 'timestamp'] and 'label' not in col and 'outlier' not in col]\n",
    "\n",
    "test_df = test_imputer.fit_transform(imputation_df)"
   ],
   "id": "5ee6af63227ff993",
   "outputs": [],
   "execution_count": 10
  },
  {
   "metadata": {
    "ExecuteTime": {
     "end_time": "2025-06-12T12:45:19.383284Z",
     "start_time": "2025-06-12T12:45:19.379994Z"
    }
   },
   "cell_type": "code",
   "source": [
    "notebook_path = 'imputation.ipynb'\n",
    "\n",
    "DataViz = VisualizeDataset(notebook_path)\n",
    "#\n",
    "# imputation_df.set_index('timestamp', inplace=True)\n",
    "# test_df.set_index('timestamp', inplace=True)\n",
    "\n",
    "# DataViz.plot_imputed_values(imputation_df, ['original', 'interpolated'], 'lin_acc_phone_Y', test_df['lin_acc_phone_Y'])"
   ],
   "id": "a7a9e02c4f88a537",
   "outputs": [],
   "execution_count": 11
  },
  {
   "metadata": {
    "ExecuteTime": {
     "end_time": "2025-06-12T12:45:19.478707Z",
     "start_time": "2025-06-12T12:45:19.475437Z"
    }
   },
   "cell_type": "code",
   "source": [
    "# imputer = MisVal()\n",
    "# cols_to_impute = [col for col in imputation_df.columns if col not in ['id', 'timestamp'] and 'label' not in col and 'outlier' not in col]\n",
    "#\n",
    "# print(\"NaN values before imputation:\")\n",
    "# print(imputation_df[cols_to_impute].isna().sum())\n",
    "#\n",
    "# for instance in imputation_df.id.unique():\n",
    "#     instance_mask = imputation_df.id == instance\n",
    "#     for col in cols_to_impute:\n",
    "#         if imputation_df.loc[instance_mask, col].isna().any():\n",
    "#             print(f\"Imputing {col} for instance {instance}...\")\n",
    "#             print(imputation_df.loc[instance_mask, col].isna().sum() / len(imputation_df.loc[instance_mask, col]))\n",
    "#             imputation_df[instance_mask] = imputer.impute_interpolate(dataset=imputation_df[instance_mask].copy(), col=col)"
   ],
   "id": "38bdd6636f701291",
   "outputs": [],
   "execution_count": 12
  },
  {
   "metadata": {
    "ExecuteTime": {
     "end_time": "2025-06-12T12:45:19.566935Z",
     "start_time": "2025-06-12T12:45:19.561852Z"
    }
   },
   "cell_type": "code",
   "source": "visualise_df = imputation_df.copy()",
   "id": "ff0bd496a9eef07a",
   "outputs": [],
   "execution_count": 13
  },
  {
   "metadata": {
    "ExecuteTime": {
     "end_time": "2025-06-12T12:45:19.664058Z",
     "start_time": "2025-06-12T12:45:19.654833Z"
    }
   },
   "cell_type": "code",
   "source": [
    "outlier_cols = [col for col in visualise_df.columns if 'outlier' in col]\n",
    "visualise_df = visualise_df.drop(outlier_cols, axis=1)\n",
    "visualise_df.columns"
   ],
   "id": "fe11e667a2cbea54",
   "outputs": [
    {
     "data": {
      "text/plain": [
       "Index(['id', 'acc_phone_X', 'acc_phone_Y', 'acc_phone_Z', 'lin_acc_phone_X',\n",
       "       'lin_acc_phone_Y', 'lin_acc_phone_Z', 'gyr_phone_X', 'gyr_phone_Y',\n",
       "       'gyr_phone_Z', 'mag_phone_X', 'mag_phone_Y', 'mag_phone_Z', 'labelbus',\n",
       "       'labeltram', 'labelmetro', 'labelcar', 'labelwalking', 'labeltrain'],\n",
       "      dtype='object')"
      ]
     },
     "execution_count": 14,
     "metadata": {},
     "output_type": "execute_result"
    }
   ],
   "execution_count": 14
  },
  {
   "metadata": {
    "ExecuteTime": {
     "end_time": "2025-06-12T12:45:19.826212Z",
     "start_time": "2025-06-12T12:45:19.750061Z"
    }
   },
   "cell_type": "code",
   "source": [
    "label_fix = True\n",
    "\n",
    "if 'timestamp' in visualise_df.columns:\n",
    "    visualise_df.set_index('timestamp', inplace=True)\n",
    "\n",
    "if label_fix:\n",
    "    # This is very stupid\n",
    "    label_col = [col for col in visualise_df.columns if 'label' in col]\n",
    "    for col in label_col:\n",
    "        visualise_df[col] = visualise_df[col].apply(lambda x: 1 if x == 0 or x == 1 else 0)"
   ],
   "id": "2028ad2a66240cc5",
   "outputs": [],
   "execution_count": 15
  },
  {
   "metadata": {
    "ExecuteTime": {
     "end_time": "2025-06-12T12:45:19.931023Z",
     "start_time": "2025-06-12T12:45:19.928172Z"
    }
   },
   "cell_type": "code",
   "source": [
    "# notebook_path = 'imputation.ipynb'\n",
    "#\n",
    "# DataViz = VisualizeDataset(notebook_path)\n",
    "#\n",
    "# # TODO: This should work nicely per instance once the outlier problem is fixed.\n",
    "#\n",
    "# # Plot all data\n",
    "# for instance in imputation_df.id.unique():\n",
    "#     visual_instance = visualise_df[visualise_df.id == instance]\n",
    "#     DataViz.plot_dataset(visual_instance,\n",
    "#                         ['acc_', 'gyr_', 'lin_' , 'mag_', 'label'],\n",
    "#                         ['like', 'like', 'like', 'like', 'like', 'like'],\n",
    "#                         ['line', 'line', 'line', 'line', 'line', 'points'])"
   ],
   "id": "689e2dfd00bb09bd",
   "outputs": [],
   "execution_count": 16
  },
  {
   "metadata": {
    "ExecuteTime": {
     "end_time": "2025-06-12T12:45:20.039322Z",
     "start_time": "2025-06-12T12:45:20.026237Z"
    }
   },
   "cell_type": "code",
   "source": [
    "for idx in imputation_df.index:\n",
    "    # if not pd.to_datetime(idx):\n",
    "        print(idx)\n",
    "        break"
   ],
   "id": "3f693bf16f030f47",
   "outputs": [
    {
     "name": "stdout",
     "output_type": "stream",
     "text": [
      "2025-06-06 17:01:46.208000\n"
     ]
    }
   ],
   "execution_count": 17
  },
  {
   "metadata": {
    "ExecuteTime": {
     "end_time": "2025-06-12T12:45:20.127186Z",
     "start_time": "2025-06-12T12:45:20.124549Z"
    }
   },
   "cell_type": "code",
   "source": [
    "# notebook_path = 'imputation2.ipynb'\n",
    "#\n",
    "# DataViz = VisualizeDataset(notebook_path)\n",
    "#\n",
    "# day_slices = visualise_df.groupby(visualise_df.index.date)\n",
    "#\n",
    "# for day, day_slice in day_slices:\n",
    "#     DataViz.plot_dataset(day_slice,\n",
    "#                             ['acc_', 'gyr_', 'lin_' , 'mag_', 'label'],\n",
    "#                             ['like', 'like', 'like', 'like', 'like'],\n",
    "#                             ['line', 'line', 'line', 'line', 'points'])"
   ],
   "id": "87e11acae7b899a4",
   "outputs": [],
   "execution_count": 18
  },
  {
   "metadata": {
    "ExecuteTime": {
     "end_time": "2025-06-12T12:45:20.316479Z",
     "start_time": "2025-06-12T12:45:20.215527Z"
    }
   },
   "cell_type": "code",
   "source": [
    "notebook_path = 'imputation3.ipynb'\n",
    "\n",
    "DataViz = VisualizeDataset(notebook_path)\n",
    "\n",
    "test_set = visualise_df.copy()\n",
    "test_set.reset_index(inplace=True)\n",
    "test_set.rename(columns={'index': 'timestamp'}, inplace=True)\n",
    "\n",
    "def time_gap_cols(group):\n",
    "    time_series = pd.to_datetime(group['timestamp'])\n",
    "    time_gap_dfs = time_series.diff().fillna(pd.Timedelta(0))\n",
    "    return time_gap_dfs\n",
    "\n",
    "for instance in test_set.id.unique():\n",
    "    test_set.loc[test_set.id == instance, 'time_diff'] = time_gap_cols(test_set[test_set.id == instance])\n",
    "\n",
    "test_set['shifted_time'] = test_set['time_diff'].cumsum()\n",
    "\n",
    "start_time = pd.Timestamp('1970-1-1 00:00:00')\n",
    "\n",
    "test_set['timestamp'] = test_set['shifted_time'] + start_time\n",
    "\n",
    "test_set.set_index('timestamp', inplace=True)\n",
    "\n",
    "test_set.head()\n",
    "\n",
    "# DataViz.plot_dataset(test_set,\n",
    "#                             ['acc_', 'gyr_', 'lin_' , 'mag_', 'label'],\n",
    "#                             ['like', 'like', 'like', 'like', 'like'],\n",
    "#                             ['line', 'line', 'line', 'line', 'points'])"
   ],
   "id": "e0782611fb03e546",
   "outputs": [
    {
     "data": {
      "text/plain": [
       "                          id  acc_phone_X  acc_phone_Y  acc_phone_Z  \\\n",
       "timestamp                                                             \n",
       "1970-01-01 00:00:00.000  0.0     2.559473     5.010843     7.418862   \n",
       "1970-01-01 00:00:00.250  0.0     2.349773     5.139462     7.562216   \n",
       "1970-01-01 00:00:00.500  0.0     1.122219     4.986150     7.641704   \n",
       "1970-01-01 00:00:00.750  0.0     2.001663     4.817750     7.595750   \n",
       "1970-01-01 00:00:01.000  0.0     0.816462     4.332600     8.598381   \n",
       "\n",
       "                         lin_acc_phone_X  lin_acc_phone_Y  lin_acc_phone_Z  \\\n",
       "timestamp                                                                    \n",
       "1970-01-01 00:00:00.000         0.447154        -0.406283        -0.469434   \n",
       "1970-01-01 00:00:00.250        -0.125661        -0.194037        -0.291365   \n",
       "1970-01-01 00:00:00.500        -1.252254        -0.290676        -0.344676   \n",
       "1970-01-01 00:00:00.750         0.111099        -0.463622        -0.314609   \n",
       "1970-01-01 00:00:01.000        -0.555970        -0.749036         0.426823   \n",
       "\n",
       "                         gyr_phone_X  gyr_phone_Y  gyr_phone_Z  ...  \\\n",
       "timestamp                                                       ...   \n",
       "1970-01-01 00:00:00.000    -0.107445    -0.344071    -0.091185  ...   \n",
       "1970-01-01 00:00:00.250     0.019144     0.059834     0.103760  ...   \n",
       "1970-01-01 00:00:00.500     0.101612     0.471022     0.044381  ...   \n",
       "1970-01-01 00:00:00.750    -0.205173    -0.166593    -0.238574  ...   \n",
       "1970-01-01 00:00:01.000    -0.114612     0.056597    -0.024327  ...   \n",
       "\n",
       "                         mag_phone_Y  mag_phone_Z  labelbus  labeltram  \\\n",
       "timestamp                                                                \n",
       "1970-01-01 00:00:00.000   -36.021636   -10.844712         1          0   \n",
       "1970-01-01 00:00:00.250   -34.581252   -12.518751         1          0   \n",
       "1970-01-01 00:00:00.500   -37.326925   -13.002404         1          0   \n",
       "1970-01-01 00:00:00.750   -35.601564   -15.531251         1          0   \n",
       "1970-01-01 00:00:01.000   -35.914905   -18.382212         1          0   \n",
       "\n",
       "                         labelmetro  labelcar  labelwalking  labeltrain  \\\n",
       "timestamp                                                                 \n",
       "1970-01-01 00:00:00.000           0         0             0           0   \n",
       "1970-01-01 00:00:00.250           0         0             0           0   \n",
       "1970-01-01 00:00:00.500           0         0             0           0   \n",
       "1970-01-01 00:00:00.750           0         0             0           0   \n",
       "1970-01-01 00:00:01.000           0         0             0           0   \n",
       "\n",
       "                              time_diff    shifted_time  \n",
       "timestamp                                                \n",
       "1970-01-01 00:00:00.000        00:00:00        00:00:00  \n",
       "1970-01-01 00:00:00.250 00:00:00.250000 00:00:00.250000  \n",
       "1970-01-01 00:00:00.500 00:00:00.250000 00:00:00.500000  \n",
       "1970-01-01 00:00:00.750 00:00:00.250000 00:00:00.750000  \n",
       "1970-01-01 00:00:01.000 00:00:00.250000        00:00:01  \n",
       "\n",
       "[5 rows x 21 columns]"
      ],
      "text/html": [
       "<div>\n",
       "<style scoped>\n",
       "    .dataframe tbody tr th:only-of-type {\n",
       "        vertical-align: middle;\n",
       "    }\n",
       "\n",
       "    .dataframe tbody tr th {\n",
       "        vertical-align: top;\n",
       "    }\n",
       "\n",
       "    .dataframe thead th {\n",
       "        text-align: right;\n",
       "    }\n",
       "</style>\n",
       "<table border=\"1\" class=\"dataframe\">\n",
       "  <thead>\n",
       "    <tr style=\"text-align: right;\">\n",
       "      <th></th>\n",
       "      <th>id</th>\n",
       "      <th>acc_phone_X</th>\n",
       "      <th>acc_phone_Y</th>\n",
       "      <th>acc_phone_Z</th>\n",
       "      <th>lin_acc_phone_X</th>\n",
       "      <th>lin_acc_phone_Y</th>\n",
       "      <th>lin_acc_phone_Z</th>\n",
       "      <th>gyr_phone_X</th>\n",
       "      <th>gyr_phone_Y</th>\n",
       "      <th>gyr_phone_Z</th>\n",
       "      <th>...</th>\n",
       "      <th>mag_phone_Y</th>\n",
       "      <th>mag_phone_Z</th>\n",
       "      <th>labelbus</th>\n",
       "      <th>labeltram</th>\n",
       "      <th>labelmetro</th>\n",
       "      <th>labelcar</th>\n",
       "      <th>labelwalking</th>\n",
       "      <th>labeltrain</th>\n",
       "      <th>time_diff</th>\n",
       "      <th>shifted_time</th>\n",
       "    </tr>\n",
       "    <tr>\n",
       "      <th>timestamp</th>\n",
       "      <th></th>\n",
       "      <th></th>\n",
       "      <th></th>\n",
       "      <th></th>\n",
       "      <th></th>\n",
       "      <th></th>\n",
       "      <th></th>\n",
       "      <th></th>\n",
       "      <th></th>\n",
       "      <th></th>\n",
       "      <th></th>\n",
       "      <th></th>\n",
       "      <th></th>\n",
       "      <th></th>\n",
       "      <th></th>\n",
       "      <th></th>\n",
       "      <th></th>\n",
       "      <th></th>\n",
       "      <th></th>\n",
       "      <th></th>\n",
       "      <th></th>\n",
       "    </tr>\n",
       "  </thead>\n",
       "  <tbody>\n",
       "    <tr>\n",
       "      <th>1970-01-01 00:00:00.000</th>\n",
       "      <td>0.0</td>\n",
       "      <td>2.559473</td>\n",
       "      <td>5.010843</td>\n",
       "      <td>7.418862</td>\n",
       "      <td>0.447154</td>\n",
       "      <td>-0.406283</td>\n",
       "      <td>-0.469434</td>\n",
       "      <td>-0.107445</td>\n",
       "      <td>-0.344071</td>\n",
       "      <td>-0.091185</td>\n",
       "      <td>...</td>\n",
       "      <td>-36.021636</td>\n",
       "      <td>-10.844712</td>\n",
       "      <td>1</td>\n",
       "      <td>0</td>\n",
       "      <td>0</td>\n",
       "      <td>0</td>\n",
       "      <td>0</td>\n",
       "      <td>0</td>\n",
       "      <td>00:00:00</td>\n",
       "      <td>00:00:00</td>\n",
       "    </tr>\n",
       "    <tr>\n",
       "      <th>1970-01-01 00:00:00.250</th>\n",
       "      <td>0.0</td>\n",
       "      <td>2.349773</td>\n",
       "      <td>5.139462</td>\n",
       "      <td>7.562216</td>\n",
       "      <td>-0.125661</td>\n",
       "      <td>-0.194037</td>\n",
       "      <td>-0.291365</td>\n",
       "      <td>0.019144</td>\n",
       "      <td>0.059834</td>\n",
       "      <td>0.103760</td>\n",
       "      <td>...</td>\n",
       "      <td>-34.581252</td>\n",
       "      <td>-12.518751</td>\n",
       "      <td>1</td>\n",
       "      <td>0</td>\n",
       "      <td>0</td>\n",
       "      <td>0</td>\n",
       "      <td>0</td>\n",
       "      <td>0</td>\n",
       "      <td>00:00:00.250000</td>\n",
       "      <td>00:00:00.250000</td>\n",
       "    </tr>\n",
       "    <tr>\n",
       "      <th>1970-01-01 00:00:00.500</th>\n",
       "      <td>0.0</td>\n",
       "      <td>1.122219</td>\n",
       "      <td>4.986150</td>\n",
       "      <td>7.641704</td>\n",
       "      <td>-1.252254</td>\n",
       "      <td>-0.290676</td>\n",
       "      <td>-0.344676</td>\n",
       "      <td>0.101612</td>\n",
       "      <td>0.471022</td>\n",
       "      <td>0.044381</td>\n",
       "      <td>...</td>\n",
       "      <td>-37.326925</td>\n",
       "      <td>-13.002404</td>\n",
       "      <td>1</td>\n",
       "      <td>0</td>\n",
       "      <td>0</td>\n",
       "      <td>0</td>\n",
       "      <td>0</td>\n",
       "      <td>0</td>\n",
       "      <td>00:00:00.250000</td>\n",
       "      <td>00:00:00.500000</td>\n",
       "    </tr>\n",
       "    <tr>\n",
       "      <th>1970-01-01 00:00:00.750</th>\n",
       "      <td>0.0</td>\n",
       "      <td>2.001663</td>\n",
       "      <td>4.817750</td>\n",
       "      <td>7.595750</td>\n",
       "      <td>0.111099</td>\n",
       "      <td>-0.463622</td>\n",
       "      <td>-0.314609</td>\n",
       "      <td>-0.205173</td>\n",
       "      <td>-0.166593</td>\n",
       "      <td>-0.238574</td>\n",
       "      <td>...</td>\n",
       "      <td>-35.601564</td>\n",
       "      <td>-15.531251</td>\n",
       "      <td>1</td>\n",
       "      <td>0</td>\n",
       "      <td>0</td>\n",
       "      <td>0</td>\n",
       "      <td>0</td>\n",
       "      <td>0</td>\n",
       "      <td>00:00:00.250000</td>\n",
       "      <td>00:00:00.750000</td>\n",
       "    </tr>\n",
       "    <tr>\n",
       "      <th>1970-01-01 00:00:01.000</th>\n",
       "      <td>0.0</td>\n",
       "      <td>0.816462</td>\n",
       "      <td>4.332600</td>\n",
       "      <td>8.598381</td>\n",
       "      <td>-0.555970</td>\n",
       "      <td>-0.749036</td>\n",
       "      <td>0.426823</td>\n",
       "      <td>-0.114612</td>\n",
       "      <td>0.056597</td>\n",
       "      <td>-0.024327</td>\n",
       "      <td>...</td>\n",
       "      <td>-35.914905</td>\n",
       "      <td>-18.382212</td>\n",
       "      <td>1</td>\n",
       "      <td>0</td>\n",
       "      <td>0</td>\n",
       "      <td>0</td>\n",
       "      <td>0</td>\n",
       "      <td>0</td>\n",
       "      <td>00:00:00.250000</td>\n",
       "      <td>00:00:01</td>\n",
       "    </tr>\n",
       "  </tbody>\n",
       "</table>\n",
       "<p>5 rows × 21 columns</p>\n",
       "</div>"
      ]
     },
     "execution_count": 19,
     "metadata": {},
     "output_type": "execute_result"
    }
   ],
   "execution_count": 19
  },
  {
   "metadata": {
    "ExecuteTime": {
     "end_time": "2025-06-12T12:45:20.436109Z",
     "start_time": "2025-06-12T12:45:20.429781Z"
    }
   },
   "cell_type": "code",
   "source": [
    "def ignore_actual_time2(dataset):\n",
    "    df = dataset.copy()\n",
    "\n",
    "    if isinstance(df.index, pd.DatetimeIndex):\n",
    "        df.reset_index(inplace=True)\n",
    "        df.rename(columns={'index': 'timestamp'}, inplace=True)\n",
    "\n",
    "    def time_gap_cols2(group):\n",
    "        time_series = pd.to_datetime(group['timestamp'])\n",
    "        time_gap_dfs = time_series.diff().fillna(pd.Timedelta(0))\n",
    "        return time_gap_dfs\n",
    "\n",
    "    for instance2 in df.id.unique():\n",
    "        print(time_gap_cols2(df[df.id == instance2]))\n",
    "        df.loc[df.id == instance2, 'time_diff'] = time_gap_cols2(df[df.id == instance2])\n",
    "\n",
    "    print(df['time_diff'])\n",
    "\n",
    "    df['shifted_time'] = df['time_diff'].cumsum()\n",
    "\n",
    "    start_time2 = pd.Timestamp('1970-1-1 00:00:00')\n",
    "\n",
    "    df['timestamp'] = df['shifted_time'] + start_time2\n",
    "\n",
    "    df.set_index('timestamp', inplace=True)\n",
    "\n",
    "    return df"
   ],
   "id": "5e3d6564e53daeb2",
   "outputs": [],
   "execution_count": 20
  },
  {
   "metadata": {
    "ExecuteTime": {
     "end_time": "2025-06-12T12:45:26.024983Z",
     "start_time": "2025-06-12T12:45:20.541298Z"
    }
   },
   "cell_type": "code",
   "source": [
    "notebook_path = 'imputation_test.ipynb'\n",
    "\n",
    "DataViz = VisualizeDataset(notebook_path)\n",
    "\n",
    "test_set = visualise_df.copy()\n",
    "\n",
    "test_set = ignore_actual_time(test_set)\n",
    "\n",
    "DataViz.plot_dataset(test_set,\n",
    "                            ['acc_', 'gyr_', 'lin_' , 'mag_', 'label'],\n",
    "                            ['like', 'like', 'like', 'like', 'like'],\n",
    "                            ['line', 'line', 'line', 'line', 'points'])"
   ],
   "id": "38c1a018315b94c2",
   "outputs": [
    {
     "name": "stdout",
     "output_type": "stream",
     "text": [
      "0              00:00:00\n",
      "1       00:00:00.250000\n",
      "2       00:00:00.250000\n",
      "3       00:00:00.250000\n",
      "4       00:00:00.250000\n",
      "              ...      \n",
      "25123   00:00:00.250000\n",
      "25124   00:00:00.250000\n",
      "25125   00:00:00.250000\n",
      "25126   00:00:00.250000\n",
      "25127   00:00:00.250000\n",
      "Name: time_diff, Length: 25128, dtype: timedelta64[ns]\n",
      "Figure saved to figures/imputation_test/figure_1.png\n",
      "Figure saved to figures/imputation_test/figure_1.pdf\n"
     ]
    }
   ],
   "execution_count": 21
  },
  {
   "metadata": {
    "ExecuteTime": {
     "end_time": "2025-06-12T14:52:30.203155Z",
     "start_time": "2025-06-12T14:52:30.195717Z"
    }
   },
   "cell_type": "code",
   "source": "test_set.iloc[2]",
   "id": "c97561c70dfefad2",
   "outputs": [
    {
     "data": {
      "text/plain": [
       "id                                      0\n",
       "acc_phone_X                       1.12222\n",
       "acc_phone_Y                       4.98615\n",
       "acc_phone_Z                        7.6417\n",
       "lin_acc_phone_X                  -1.25225\n",
       "lin_acc_phone_Y                 -0.290676\n",
       "lin_acc_phone_Z                 -0.344676\n",
       "gyr_phone_X                      0.101612\n",
       "gyr_phone_Y                      0.471022\n",
       "gyr_phone_Z                     0.0443808\n",
       "mag_phone_X                      -10.9082\n",
       "mag_phone_Y                      -37.3269\n",
       "mag_phone_Z                      -13.0024\n",
       "labelbus                                1\n",
       "labeltram                               0\n",
       "labelmetro                              0\n",
       "labelcar                                0\n",
       "labelwalking                            0\n",
       "labeltrain                              0\n",
       "time_diff          0 days 00:00:00.250000\n",
       "shifted_time       0 days 00:00:00.500000\n",
       "Name: 1970-01-01 00:00:00.500000, dtype: object"
      ]
     },
     "execution_count": 41,
     "metadata": {},
     "output_type": "execute_result"
    }
   ],
   "execution_count": 41
  },
  {
   "metadata": {
    "ExecuteTime": {
     "end_time": "2025-06-12T13:59:28.124549Z",
     "start_time": "2025-06-12T13:59:28.118493Z"
    }
   },
   "cell_type": "code",
   "source": [
    "test_cols = [col for col in test_set.columns if not any(x in col for x in ['label', 'id', ])]\n",
    "\n",
    "test_cols\n"
   ],
   "id": "7f0bebac1a67218e",
   "outputs": [
    {
     "data": {
      "text/plain": [
       "['acc_phone_X',\n",
       " 'acc_phone_Y',\n",
       " 'acc_phone_Z',\n",
       " 'lin_acc_phone_X',\n",
       " 'lin_acc_phone_Y',\n",
       " 'lin_acc_phone_Z',\n",
       " 'gyr_phone_X',\n",
       " 'gyr_phone_Y',\n",
       " 'gyr_phone_Z',\n",
       " 'mag_phone_X',\n",
       " 'mag_phone_Y',\n",
       " 'mag_phone_Z',\n",
       " 'time_diff',\n",
       " 'shifted_time']"
      ]
     },
     "execution_count": 36,
     "metadata": {},
     "output_type": "execute_result"
    }
   ],
   "execution_count": 36
  }
 ],
 "metadata": {
  "kernelspec": {
   "display_name": "Python 3",
   "language": "python",
   "name": "python3"
  },
  "language_info": {
   "codemirror_mode": {
    "name": "ipython",
    "version": 2
   },
   "file_extension": ".py",
   "mimetype": "text/x-python",
   "name": "python",
   "nbconvert_exporter": "python",
   "pygments_lexer": "ipython2",
   "version": "2.7.6"
  }
 },
 "nbformat": 4,
 "nbformat_minor": 5
}
