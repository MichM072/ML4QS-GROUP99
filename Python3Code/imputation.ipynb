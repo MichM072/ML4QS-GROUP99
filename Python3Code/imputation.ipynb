{
 "cells": [
  {
   "metadata": {
    "ExecuteTime": {
     "end_time": "2025-06-11T10:43:43.959265Z",
     "start_time": "2025-06-11T10:43:43.912446Z"
    }
   },
   "cell_type": "code",
   "source": [
    "from pathlib import Path\n",
    "import os\n",
    "STUDENT = 'mmr497'\n",
    "\n",
    "OUTLIERS_PATH = Path('./outliers2/')\n",
    "INTERMEDIATE_PATH = Path('./intermediate_datafiles/')\n",
    "os.chdir(f'/home/{STUDENT}/')\n",
    "# from Python3Code.outliers_distance_parquet import outlier_detector\n"
   ],
   "id": "f85e0271ac89e151",
   "outputs": [],
   "execution_count": 1
  },
  {
   "metadata": {
    "ExecuteTime": {
     "end_time": "2025-06-11T10:43:58.871302Z",
     "start_time": "2025-06-11T10:43:44.642195Z"
    }
   },
   "cell_type": "code",
   "source": [
    "import pandas as pd\n",
    "import numpy as np\n",
    "import sys\n",
    "from util.VisualizeDataset import VisualizeDataset\n",
    "from Chapter3.OutlierDetection import DistanceBasedOutlierDetection\n",
    "from Chapter3.ImputationMissingValues import ImputationMissingValues as MisVal\n",
    "from Python3Code.outlier_detector import OutlierDetector"
   ],
   "id": "dea05977114761eb",
   "outputs": [],
   "execution_count": 2
  },
  {
   "metadata": {
    "ExecuteTime": {
     "end_time": "2025-06-11T10:43:59.177247Z",
     "start_time": "2025-06-11T10:43:59.140956Z"
    }
   },
   "cell_type": "code",
   "source": [
    "# intermed_df = pd.read_parquet(f'{INTERMEDIATE_PATH}/ML4QS_combined_results_2.parquet')\n",
    "#\n",
    "# sensor_prefixes = [\n",
    "#     'acc_phone_',\n",
    "#     'lin_acc_phone_',\n",
    "#     'gyr_phone_',\n",
    "#     'mag_phone_',\n",
    "# ]\n",
    "#\n",
    "# folder = 'intermediate_datafiles'\n",
    "# output_folder = 'outliers2'\n",
    "# vehicles = ['train', 'bus', 'metro', 'tram', 'car','walking']\n",
    "#\n",
    "# files = [f for f in os.listdir(folder) if f.endswith('.parquet')]\n",
    "# data_by_vehicle = {vehicle: [] for vehicle in vehicles}\n",
    "#\n",
    "# for vehicle in vehicles:\n",
    "#     data_by_vehicle[vehicle] = intermed_df[~intermed_df[f'label{vehicle}'].isna()]\n",
    "#\n",
    "# for instance_id in intermed_df['id'].unique():\n",
    "#     # Create a mask for the current instance\n",
    "#     instance_mask = intermed_df['id'] == instance_id\n",
    "#     ins_df = intermed_df[instance_mask]\n",
    "#\n",
    "#     start_time = ins_df['timestamp'].iloc[0]\n",
    "#     end_time = ins_df['timestamp'].iloc[-1]\n",
    "#\n",
    "#     print(start_time)\n",
    "#\n",
    "#     start_time_plus_10s = start_time + pd.Timedelta(seconds=10)\n",
    "#     end_time_minus_10s = end_time - pd.Timedelta(seconds=10)\n",
    "#\n",
    "#     time_mask = (intermed_df.timestamp >= start_time_plus_10s) & (intermed_df.timestamp <= end_time_minus_10s)\n",
    "#\n",
    "#     intermed_df = intermed_df[~instance_mask | (instance_mask & time_mask)]\n",
    "#\n",
    "# outlier_detector = DistanceBasedOutlierDetection()\n",
    "#\n",
    "# cols_to_check_acc = ['acc_phone_X', 'acc_phone_Y', 'acc_phone_Z']\n",
    "# cols_to_check_lin_acc = ['lin_acc_phone_X', 'lin_acc_phone_Y', 'lin_acc_phone_Z']\n",
    "# cols_to_check_gyr = ['gyr_phone_X', 'gyr_phone_Y', 'gyr_phone_Z']\n",
    "# cols_to_check_mag = ['mag_phone_X', 'mag_phone_Y', 'mag_phone_Z']\n",
    "# cols_to_check_accuracy = ['location_phone_Horizontal Accuracy', 'location_phone_Vertical Accuracy']\n",
    "#\n",
    "# d_function = 'euclidean'\n",
    "# vehicle_params = {\n",
    "#     'train': {'dmin': 0.15, 'fmin': 0.1},\n",
    "#     'bus': {'dmin': 0.5, 'fmin': 0.1},\n",
    "#     'metro': {'dmin': 0.4, 'fmin': 0.1},\n",
    "#     'tram': {'dmin': 0.45, 'fmin': 0.1},\n",
    "#     'car': {'dmin': 0.1, 'fmin': 0.05},\n",
    "#     'walking': {'dmin': 0.65, 'fmin': 0.1},\n",
    "# }\n",
    "#\n",
    "# Path(output_folder).mkdir(parents=True, exist_ok=True)\n",
    "#\n",
    "# data_by_vehicle_buffer = {vehicle: [] for vehicle in vehicles}\n",
    "#\n",
    "# for vehicle in vehicles:\n",
    "#     data_by_vehicle_buffer[vehicle] = intermed_df[~intermed_df[f'label{vehicle}'].isna()]\n",
    "#\n",
    "# for vehicle, df in data_by_vehicle.items():\n",
    "#     raw_output_file = os.path.join(output_folder, f\"{vehicle}_raw.parquet\")\n",
    "#     df.reset_index().to_parquet(raw_output_file, version='2.6', allow_truncated_timestamps=True)\n",
    "#     print(f\"Saved raw {vehicle} data to {raw_output_file}\")\n",
    "#\n",
    "#\n",
    "# for vehicle, df in data_by_vehicle_buffer.items():\n",
    "#     print(f\"Processing {vehicle} data...\")\n",
    "#\n",
    "#     vehicle_dmin = vehicle_params[vehicle]['dmin']\n",
    "#     vehicle_fmin = vehicle_params[vehicle]['fmin']\n",
    "#\n",
    "#     # TODO: This is too extreme and marks nearly everything as an outlier.\n",
    "#\n",
    "#     df = outlier_detector.simple_distance_based(df, cols=cols_to_check_acc, d_function=d_function, dmin=vehicle_dmin, fmin=vehicle_fmin)\n",
    "#     df.rename(columns={'simple_dist_outlier': f'simple_dist_outlier_acc'}, inplace=True)\n",
    "#     df = outlier_detector.simple_distance_based(df, cols=cols_to_check_lin_acc, d_function=d_function, dmin=vehicle_dmin, fmin=vehicle_fmin)\n",
    "#     df.rename(columns={'simple_dist_outlier': f'simple_dist_outlier_lin_acc'}, inplace=True)\n",
    "#     df = outlier_detector.simple_distance_based(df, cols=cols_to_check_gyr, d_function=d_function, dmin=vehicle_dmin, fmin=vehicle_fmin)\n",
    "#     df.rename(columns={'simple_dist_outlier': f'simple_dist_outlier_gyr'}, inplace=True)\n",
    "#     df = outlier_detector.simple_distance_based(df, cols=cols_to_check_mag, d_function=d_function, dmin=vehicle_dmin, fmin=vehicle_fmin)\n",
    "#     df.rename(columns={'simple_dist_outlier': f'simple_dist_outlier_mag'}, inplace=True)\n",
    "#\n",
    "#     df_filtered = df\n",
    "#\n",
    "# ##################################################\n",
    "# ##################################################\n",
    "#\n",
    "#     output_file = os.path.join(output_folder, f\"{vehicle}_filtered_norem.parquet\")\n",
    "#     df_filtered.reset_index().to_parquet(output_file, version='2.6', allow_truncated_timestamps=True)\n",
    "#     print(f\"Saved filtered {vehicle} data to {output_file}\")"
   ],
   "id": "87b8a39843dd90ba",
   "outputs": [],
   "execution_count": 3
  },
  {
   "metadata": {
    "ExecuteTime": {
     "end_time": "2025-06-11T10:44:22.472504Z",
     "start_time": "2025-06-11T10:43:59.299919Z"
    }
   },
   "cell_type": "code",
   "source": [
    "intermed_df = pd.read_parquet(f'{INTERMEDIATE_PATH}/ML4QS_combined_results_2.parquet')\n",
    "out_detector = OutlierDetector(intermed_df)\n",
    "intermed_df = out_detector.fit_transform(\"chauvenet\", C=2)"
   ],
   "id": "757d3c2ce2a6f5ce",
   "outputs": [],
   "execution_count": 4
  },
  {
   "metadata": {
    "ExecuteTime": {
     "end_time": "2025-06-11T10:44:22.672214Z",
     "start_time": "2025-06-11T10:44:22.654975Z"
    }
   },
   "cell_type": "code",
   "source": "",
   "id": "a628c3222459f62e",
   "outputs": [],
   "execution_count": null
  },
  {
   "metadata": {
    "ExecuteTime": {
     "end_time": "2025-06-11T10:44:22.867222Z",
     "start_time": "2025-06-11T10:44:22.849212Z"
    }
   },
   "cell_type": "code",
   "source": [
    "# dataframes = []\n",
    "# for filtered_frame in OUTLIERS_PATH.glob('*_filtered_norem.parquet'):\n",
    "#     print(f'processing {filtered_frame}...')\n",
    "#     pd.read_parquet(filtered_frame)\n",
    "#     dataframes.append(pd.read_parquet(filtered_frame))\n",
    "#\n",
    "# full_df = pd.concat(dataframes).set_index('index')\n",
    "# full_df.head()"
   ],
   "id": "138c25b4ea9e6a12",
   "outputs": [],
   "execution_count": 5
  },
  {
   "metadata": {},
   "cell_type": "markdown",
   "source": "# START IMPUTATION",
   "id": "d2c2052d04262492"
  },
  {
   "metadata": {
    "ExecuteTime": {
     "end_time": "2025-06-11T10:44:23.155217Z",
     "start_time": "2025-06-11T10:44:23.131028Z"
    }
   },
   "cell_type": "code",
   "source": [
    "time_gap_threshold = 250\n",
    "\n",
    "def time_gap(group):\n",
    "    time_series = pd.to_datetime(group['timestamp'])\n",
    "    time_gap_dfs = time_series.diff()\n",
    "    threshold = pd.Timedelta(milliseconds=time_gap_threshold)\n",
    "    time_gaps = (time_gap_dfs > threshold).sum()\n",
    "    return time_gaps\n",
    "\n"
   ],
   "id": "246b497de8a83e72",
   "outputs": [],
   "execution_count": 6
  },
  {
   "metadata": {
    "ExecuteTime": {
     "end_time": "2025-06-11T10:44:23.289215Z",
     "start_time": "2025-06-11T10:44:23.275694Z"
    }
   },
   "cell_type": "code",
   "source": "",
   "id": "19a0a3471617f35e",
   "outputs": [],
   "execution_count": null
  },
  {
   "metadata": {
    "ExecuteTime": {
     "end_time": "2025-06-11T10:44:23.583221Z",
     "start_time": "2025-06-11T10:44:23.565038Z"
    }
   },
   "cell_type": "code",
   "source": "# full_df[full_df['id'] == 0]",
   "id": "4a3de4d25188e142",
   "outputs": [],
   "execution_count": 7
  },
  {
   "metadata": {
    "ExecuteTime": {
     "end_time": "2025-06-11T10:44:23.945446Z",
     "start_time": "2025-06-11T10:44:23.845958Z"
    }
   },
   "cell_type": "code",
   "source": [
    "imputation_df = intermed_df.copy()\n",
    "\n",
    "# cols_to_check_acc = ['acc_phone_X', 'acc_phone_Y', 'acc_phone_Z']\n",
    "# cols_to_check_lin_acc = ['lin_acc_phone_X', 'lin_acc_phone_Y', 'lin_acc_phone_Z']\n",
    "# cols_to_check_gyr = ['gyr_phone_X', 'gyr_phone_Y', 'gyr_phone_Z']\n",
    "# cols_to_check_mag = ['mag_phone_X', 'mag_phone_Y', 'mag_phone_Z']\n",
    "#\n",
    "# checking = {'simple_dist_outlier_acc': cols_to_check_acc,\n",
    "#             'simple_dist_outlier_lin_acc': cols_to_check_lin_acc,\n",
    "#             'simple_dist_outlier_gyr': cols_to_check_gyr,\n",
    "#             'simple_dist_outlier_mag': cols_to_check_mag}\n",
    "#\n",
    "bad_sensors = ['proximity', 'location']\n",
    "drop_cols = []\n",
    "for sensor in bad_sensors:\n",
    "    drop_cols.extend(imputation_df.columns[imputation_df.columns.str.contains(sensor)])\n",
    "#\n",
    "imputation_df.drop(drop_cols, axis=1, inplace=True)\n",
    "#\n",
    "# columns_to_convert = [col for col in imputation_df.columns\n",
    "#                      if col not in ['id', 'timestamp', 'simple_dist_outlier']\n",
    "#                      and 'label' not in col]\n",
    "#\n",
    "# df_with_nans = imputation_df.copy()\n",
    "#\n",
    "# for outlier_col, cols_to_check in checking.items():\n",
    "#     df_with_nans.loc[imputation_df[outlier_col], cols_to_check] = np.nan\n",
    "#\n",
    "# imputation_df = df_with_nans\n",
    "#\n",
    "# imputation_df.isna().sum()\n",
    "\n",
    "# gaps_per_instance = imputation_df.groupby('id').apply(time_gap)\n",
    "# total_gaps = gaps_per_instance\n",
    "#\n",
    "# total_gaps"
   ],
   "id": "56c72eff9fbd5ecd",
   "outputs": [],
   "execution_count": 8
  },
  {
   "metadata": {
    "ExecuteTime": {
     "end_time": "2025-06-11T10:44:24.228221Z",
     "start_time": "2025-06-11T10:44:24.215065Z"
    }
   },
   "cell_type": "code",
   "source": "",
   "id": "af17cc1a9997d68b",
   "outputs": [],
   "execution_count": null
  },
  {
   "metadata": {
    "ExecuteTime": {
     "end_time": "2025-06-11T10:44:28.013508Z",
     "start_time": "2025-06-11T10:44:24.400223Z"
    }
   },
   "cell_type": "code",
   "source": [
    "imputer = MisVal()\n",
    "cols_to_impute = [col for col in imputation_df.columns if col not in ['id', 'timestamp'] and 'label' not in col and 'simple_dist_outlier' not in col]\n",
    "\n",
    "print(\"NaN values before imputation:\")\n",
    "print(imputation_df[cols_to_impute].isna().sum())\n",
    "\n",
    "for instance in imputation_df.id.unique():\n",
    "    instance_mask = imputation_df.id == instance\n",
    "    for col in cols_to_impute:\n",
    "        if imputation_df.loc[instance_mask, col].isna().any():\n",
    "            print(f\"Imputing {col} for instance {instance}...\")\n",
    "            print(imputation_df.loc[instance_mask, col].isna().sum() / len(imputation_df.loc[instance_mask, col]))\n",
    "            imputation_df[instance_mask] = imputer.impute_interpolate(dataset=imputation_df[instance_mask].copy(), col=col)"
   ],
   "id": "38bdd6636f701291",
   "outputs": [
    {
     "name": "stdout",
     "output_type": "stream",
     "text": [
      "NaN values before imputation:\n",
      "acc_phone_X                  2\n",
      "acc_phone_Y                  0\n",
      "acc_phone_Z                  0\n",
      "lin_acc_phone_X            263\n",
      "lin_acc_phone_Y            358\n",
      "lin_acc_phone_Z            382\n",
      "gyr_phone_X                331\n",
      "gyr_phone_Y                150\n",
      "gyr_phone_Z                116\n",
      "mag_phone_X                205\n",
      "mag_phone_Y                164\n",
      "mag_phone_Z                130\n",
      "id_outlier                   0\n",
      "acc_phone_X_outlier          0\n",
      "acc_phone_Y_outlier          0\n",
      "acc_phone_Z_outlier          0\n",
      "lin_acc_phone_X_outlier      0\n",
      "lin_acc_phone_Y_outlier      0\n",
      "lin_acc_phone_Z_outlier      0\n",
      "gyr_phone_X_outlier          0\n",
      "gyr_phone_Y_outlier          0\n",
      "gyr_phone_Z_outlier          0\n",
      "mag_phone_X_outlier          0\n",
      "mag_phone_Y_outlier          0\n",
      "mag_phone_Z_outlier          0\n",
      "dtype: int64\n",
      "Imputing lin_acc_phone_X for instance 0.0...\n",
      "0.0009478672985781991\n",
      "Imputing lin_acc_phone_Y for instance 0.0...\n",
      "0.0018957345971563982\n",
      "Imputing lin_acc_phone_Z for instance 0.0...\n",
      "0.002843601895734597\n",
      "Imputing gyr_phone_X for instance 0.0...\n",
      "0.005213270142180095\n",
      "Imputing gyr_phone_Y for instance 0.0...\n",
      "0.0009478672985781991\n",
      "Imputing gyr_phone_Z for instance 0.0...\n",
      "0.016113744075829384\n",
      "Imputing lin_acc_phone_Z for instance 1.0...\n",
      "0.001349527665317139\n",
      "Imputing gyr_phone_X for instance 1.0...\n",
      "0.001349527665317139\n",
      "Imputing gyr_phone_Y for instance 1.0...\n",
      "0.001349527665317139\n",
      "Imputing gyr_phone_Z for instance 1.0...\n",
      "0.006747638326585695\n",
      "Imputing lin_acc_phone_X for instance 2.0...\n",
      "0.0003266906239790918\n",
      "Imputing gyr_phone_X for instance 2.0...\n",
      "0.0006533812479581836\n",
      "Imputing gyr_phone_Z for instance 2.0...\n",
      "0.0022868343678536427\n",
      "Imputing mag_phone_X for instance 2.0...\n",
      "0.020581509310682783\n",
      "Imputing mag_phone_Y for instance 2.0...\n",
      "0.021561581182620058\n",
      "Imputing mag_phone_Z for instance 2.0...\n",
      "0.020581509310682783\n",
      "Imputing lin_acc_phone_X for instance 3.0...\n",
      "0.0008703220191470844\n",
      "Imputing gyr_phone_X for instance 3.0...\n",
      "0.0017406440382941688\n",
      "Imputing gyr_phone_Y for instance 3.0...\n",
      "0.0017406440382941688\n",
      "Imputing gyr_phone_Z for instance 3.0...\n",
      "0.0034812880765883376\n",
      "Imputing mag_phone_X for instance 4.0...\n",
      "0.15193370165745856\n",
      "Imputing mag_phone_Y for instance 4.0...\n",
      "0.07320441988950276\n",
      "Imputing mag_phone_Z for instance 4.0...\n",
      "0.05386740331491713\n",
      "Imputing lin_acc_phone_X for instance 5.0...\n",
      "0.011363636363636364\n",
      "Imputing gyr_phone_X for instance 5.0...\n",
      "0.0007253384912959381\n",
      "Imputing gyr_phone_Z for instance 5.0...\n",
      "0.0007253384912959381\n",
      "Imputing lin_acc_phone_X for instance 7.0...\n",
      "0.001520912547528517\n",
      "Imputing gyr_phone_X for instance 7.0...\n",
      "0.0022813688212927757\n",
      "Imputing gyr_phone_Y for instance 7.0...\n",
      "0.0007604562737642585\n",
      "Imputing gyr_phone_Z for instance 7.0...\n",
      "0.003041825095057034\n",
      "Imputing acc_phone_X for instance 8.0...\n",
      "0.001026694045174538\n",
      "Imputing lin_acc_phone_X for instance 8.0...\n",
      "0.013347022587268994\n",
      "Imputing lin_acc_phone_Y for instance 8.0...\n",
      "0.06262833675564682\n",
      "Imputing lin_acc_phone_Z for instance 8.0...\n",
      "0.05646817248459959\n",
      "Imputing gyr_phone_X for instance 8.0...\n",
      "0.048254620123203286\n",
      "Imputing gyr_phone_Y for instance 8.0...\n",
      "0.07700205338809035\n",
      "Imputing gyr_phone_Z for instance 8.0...\n",
      "0.018480492813141684\n",
      "Imputing lin_acc_phone_X for instance 9.0...\n",
      "0.001594048884165781\n",
      "Imputing gyr_phone_X for instance 9.0...\n",
      "0.0010626992561105207\n",
      "Imputing gyr_phone_Y for instance 9.0...\n",
      "0.0005313496280552603\n",
      "Imputing gyr_phone_Z for instance 9.0...\n",
      "0.002656748140276302\n",
      "Imputing mag_phone_X for instance 9.0...\n",
      "0.015409139213602551\n",
      "Imputing mag_phone_Y for instance 9.0...\n",
      "0.019659936238044632\n",
      "Imputing mag_phone_Z for instance 9.0...\n",
      "0.01381509032943677\n",
      "Imputing lin_acc_phone_X for instance 10.0...\n",
      "0.23107569721115537\n",
      "Imputing lin_acc_phone_Y for instance 10.0...\n",
      "0.2602921646746348\n",
      "Imputing lin_acc_phone_Z for instance 10.0...\n",
      "0.3466135458167331\n",
      "Imputing gyr_phone_X for instance 10.0...\n",
      "0.3054448871181939\n",
      "Imputing gyr_phone_Y for instance 10.0...\n",
      "0.0013280212483399733\n",
      "Imputing gyr_phone_Z for instance 10.0...\n",
      "0.0199203187250996\n",
      "Imputing gyr_phone_X for instance 11.0...\n",
      "0.0007220216606498195\n",
      "Imputing gyr_phone_Z for instance 11.0...\n",
      "0.0009626955475330926\n",
      "Imputing mag_phone_X for instance 11.0...\n",
      "0.0007220216606498195\n",
      "Imputing mag_phone_Y for instance 11.0...\n",
      "0.0019253910950661852\n",
      "Imputing mag_phone_Z for instance 11.0...\n",
      "0.0004813477737665463\n",
      "Imputing lin_acc_phone_X for instance 12.0...\n",
      "0.0010443864229765013\n",
      "Imputing lin_acc_phone_Y for instance 12.0...\n",
      "0.0010443864229765013\n",
      "Imputing gyr_phone_X for instance 12.0...\n",
      "0.0005221932114882506\n",
      "Imputing gyr_phone_Z for instance 12.0...\n",
      "0.0020887728459530026\n",
      "Imputing acc_phone_X for instance 13.0...\n",
      "0.0007117437722419929\n",
      "Imputing lin_acc_phone_X for instance 13.0...\n",
      "0.012811387900355872\n",
      "Imputing lin_acc_phone_Y for instance 13.0...\n",
      "0.06761565836298933\n",
      "Imputing lin_acc_phone_Z for instance 13.0...\n",
      "0.04199288256227758\n",
      "Imputing gyr_phone_X for instance 13.0...\n",
      "0.018505338078291814\n",
      "Imputing gyr_phone_Y for instance 13.0...\n",
      "0.04768683274021352\n",
      "Imputing gyr_phone_Z for instance 13.0...\n",
      "0.009252669039145907\n"
     ]
    }
   ],
   "execution_count": 9
  },
  {
   "metadata": {
    "ExecuteTime": {
     "end_time": "2025-06-11T10:45:28.624231Z",
     "start_time": "2025-06-11T10:45:28.591391Z"
    }
   },
   "cell_type": "code",
   "source": "visualise_df = imputation_df.copy()",
   "id": "ff0bd496a9eef07a",
   "outputs": [],
   "execution_count": 13
  },
  {
   "metadata": {
    "ExecuteTime": {
     "end_time": "2025-06-11T10:45:29.810222Z",
     "start_time": "2025-06-11T10:45:29.757304Z"
    }
   },
   "cell_type": "code",
   "source": [
    "outlier_cols = [col for col in visualise_df.columns if 'outlier' in col]\n",
    "visualise_df = visualise_df.drop(outlier_cols, axis=1)\n",
    "visualise_df.columns"
   ],
   "id": "fe11e667a2cbea54",
   "outputs": [
    {
     "data": {
      "text/plain": [
       "Index(['id', 'timestamp', 'acc_phone_X', 'acc_phone_Y', 'acc_phone_Z',\n",
       "       'lin_acc_phone_X', 'lin_acc_phone_Y', 'lin_acc_phone_Z', 'gyr_phone_X',\n",
       "       'gyr_phone_Y', 'gyr_phone_Z', 'mag_phone_X', 'mag_phone_Y',\n",
       "       'mag_phone_Z', 'labelbus', 'labeltram', 'labelmetro', 'labelcar',\n",
       "       'labelwalking', 'labeltrain'],\n",
       "      dtype='object')"
      ]
     },
     "execution_count": 14,
     "metadata": {},
     "output_type": "execute_result"
    }
   ],
   "execution_count": 14
  },
  {
   "metadata": {
    "ExecuteTime": {
     "end_time": "2025-06-11T10:46:04.055460Z",
     "start_time": "2025-06-11T10:45:33.152472Z"
    }
   },
   "cell_type": "code",
   "source": [
    "notebook_path = 'imputation.ipynb'\n",
    "\n",
    "label_fix = True\n",
    "\n",
    "if 'timestamp' in visualise_df.columns:\n",
    "    visualise_df.set_index('timestamp', inplace=True)\n",
    "\n",
    "if label_fix:\n",
    "    # This is very stupid\n",
    "    label_col = [col for col in visualise_df.columns if 'label' in col]\n",
    "    for col in label_col:\n",
    "        visualise_df[col] = visualise_df[col].apply(lambda x: 1 if x == 0 or x == 1 else 0)\n",
    "\n",
    "DataViz = VisualizeDataset(notebook_path)\n",
    "\n",
    "# TODO: This should work nicely per instance once the outlier problem is fixed.\n",
    "\n",
    "# Plot all data\n",
    "for instance in imputation_df.id.unique():\n",
    "    visual_instance = visualise_df[visualise_df.id == instance]\n",
    "    DataViz.plot_dataset(visual_instance,\n",
    "                        ['acc_', 'gyr_', 'lin_' , 'mag_', 'label'],\n",
    "                        ['like', 'like', 'like', 'like', 'like', 'like'],\n",
    "                        ['line', 'line', 'line', 'line', 'line', 'points'])"
   ],
   "id": "689e2dfd00bb09bd",
   "outputs": [
    {
     "name": "stdout",
     "output_type": "stream",
     "text": [
      "Figure saved to figures/imputation/figure_1.png\n",
      "Figure saved to figures/imputation/figure_1.pdf\n",
      "Figure saved to figures/imputation/figure_2.png\n",
      "Figure saved to figures/imputation/figure_2.pdf\n",
      "Figure saved to figures/imputation/figure_3.png\n",
      "Figure saved to figures/imputation/figure_3.pdf\n",
      "Figure saved to figures/imputation/figure_4.png\n",
      "Figure saved to figures/imputation/figure_4.pdf\n",
      "Figure saved to figures/imputation/figure_5.png\n",
      "Figure saved to figures/imputation/figure_5.pdf\n",
      "Figure saved to figures/imputation/figure_6.png\n",
      "Figure saved to figures/imputation/figure_6.pdf\n"
     ]
    },
    {
     "name": "stderr",
     "output_type": "stream",
     "text": [
      "/home/mmr497/util/VisualizeDataset.py:58: RuntimeWarning: More than 20 figures have been opened. Figures created through the pyplot interface (`matplotlib.pyplot.figure`) are retained until explicitly closed and may consume too much memory. (To control this warning, see the rcParam `figure.max_open_warning`).\n",
      "  f, xar = plt.subplots(len(columns), sharex=True, sharey=False)\n"
     ]
    },
    {
     "name": "stdout",
     "output_type": "stream",
     "text": [
      "Figure saved to figures/imputation/figure_7.png\n",
      "Figure saved to figures/imputation/figure_7.pdf\n"
     ]
    },
    {
     "name": "stderr",
     "output_type": "stream",
     "text": [
      "/home/mmr497/util/VisualizeDataset.py:58: RuntimeWarning: More than 20 figures have been opened. Figures created through the pyplot interface (`matplotlib.pyplot.figure`) are retained until explicitly closed and may consume too much memory. (To control this warning, see the rcParam `figure.max_open_warning`).\n",
      "  f, xar = plt.subplots(len(columns), sharex=True, sharey=False)\n"
     ]
    },
    {
     "name": "stdout",
     "output_type": "stream",
     "text": [
      "Figure saved to figures/imputation/figure_8.png\n",
      "Figure saved to figures/imputation/figure_8.pdf\n"
     ]
    },
    {
     "name": "stderr",
     "output_type": "stream",
     "text": [
      "/home/mmr497/util/VisualizeDataset.py:58: RuntimeWarning: More than 20 figures have been opened. Figures created through the pyplot interface (`matplotlib.pyplot.figure`) are retained until explicitly closed and may consume too much memory. (To control this warning, see the rcParam `figure.max_open_warning`).\n",
      "  f, xar = plt.subplots(len(columns), sharex=True, sharey=False)\n"
     ]
    },
    {
     "name": "stdout",
     "output_type": "stream",
     "text": [
      "Figure saved to figures/imputation/figure_9.png\n",
      "Figure saved to figures/imputation/figure_9.pdf\n"
     ]
    },
    {
     "name": "stderr",
     "output_type": "stream",
     "text": [
      "/home/mmr497/util/VisualizeDataset.py:58: RuntimeWarning: More than 20 figures have been opened. Figures created through the pyplot interface (`matplotlib.pyplot.figure`) are retained until explicitly closed and may consume too much memory. (To control this warning, see the rcParam `figure.max_open_warning`).\n",
      "  f, xar = plt.subplots(len(columns), sharex=True, sharey=False)\n"
     ]
    },
    {
     "name": "stdout",
     "output_type": "stream",
     "text": [
      "Figure saved to figures/imputation/figure_10.png\n",
      "Figure saved to figures/imputation/figure_10.pdf\n"
     ]
    },
    {
     "name": "stderr",
     "output_type": "stream",
     "text": [
      "/home/mmr497/util/VisualizeDataset.py:58: RuntimeWarning: More than 20 figures have been opened. Figures created through the pyplot interface (`matplotlib.pyplot.figure`) are retained until explicitly closed and may consume too much memory. (To control this warning, see the rcParam `figure.max_open_warning`).\n",
      "  f, xar = plt.subplots(len(columns), sharex=True, sharey=False)\n"
     ]
    },
    {
     "name": "stdout",
     "output_type": "stream",
     "text": [
      "Figure saved to figures/imputation/figure_11.png\n",
      "Figure saved to figures/imputation/figure_11.pdf\n"
     ]
    },
    {
     "name": "stderr",
     "output_type": "stream",
     "text": [
      "/home/mmr497/util/VisualizeDataset.py:58: RuntimeWarning: More than 20 figures have been opened. Figures created through the pyplot interface (`matplotlib.pyplot.figure`) are retained until explicitly closed and may consume too much memory. (To control this warning, see the rcParam `figure.max_open_warning`).\n",
      "  f, xar = plt.subplots(len(columns), sharex=True, sharey=False)\n"
     ]
    },
    {
     "name": "stdout",
     "output_type": "stream",
     "text": [
      "Figure saved to figures/imputation/figure_12.png\n",
      "Figure saved to figures/imputation/figure_12.pdf\n"
     ]
    },
    {
     "name": "stderr",
     "output_type": "stream",
     "text": [
      "/home/mmr497/util/VisualizeDataset.py:58: RuntimeWarning: More than 20 figures have been opened. Figures created through the pyplot interface (`matplotlib.pyplot.figure`) are retained until explicitly closed and may consume too much memory. (To control this warning, see the rcParam `figure.max_open_warning`).\n",
      "  f, xar = plt.subplots(len(columns), sharex=True, sharey=False)\n"
     ]
    },
    {
     "name": "stdout",
     "output_type": "stream",
     "text": [
      "Figure saved to figures/imputation/figure_13.png\n",
      "Figure saved to figures/imputation/figure_13.pdf\n"
     ]
    },
    {
     "name": "stderr",
     "output_type": "stream",
     "text": [
      "/home/mmr497/util/VisualizeDataset.py:58: RuntimeWarning: More than 20 figures have been opened. Figures created through the pyplot interface (`matplotlib.pyplot.figure`) are retained until explicitly closed and may consume too much memory. (To control this warning, see the rcParam `figure.max_open_warning`).\n",
      "  f, xar = plt.subplots(len(columns), sharex=True, sharey=False)\n"
     ]
    },
    {
     "name": "stdout",
     "output_type": "stream",
     "text": [
      "Figure saved to figures/imputation/figure_14.png\n",
      "Figure saved to figures/imputation/figure_14.pdf\n"
     ]
    }
   ],
   "execution_count": 15
  },
  {
   "metadata": {
    "ExecuteTime": {
     "end_time": "2025-06-11T11:00:30.265352Z",
     "start_time": "2025-06-11T11:00:24.128273Z"
    }
   },
   "cell_type": "code",
   "source": [
    "for idx in imputation_df.index:\n",
    "    if not pd.to_datetime(idx):\n",
    "        print(idx)\n",
    "        break"
   ],
   "id": "3f693bf16f030f47",
   "outputs": [],
   "execution_count": 19
  },
  {
   "metadata": {
    "ExecuteTime": {
     "end_time": "2025-06-11T11:18:56.225917Z",
     "start_time": "2025-06-11T11:18:38.199500Z"
    }
   },
   "cell_type": "code",
   "source": [
    "notebook_path = 'imputation2.ipynb'\n",
    "\n",
    "DataViz = VisualizeDataset(notebook_path)\n",
    "\n",
    "day_slices = visualise_df.groupby(visualise_df.index.date)\n",
    "\n",
    "for day, day_slice in day_slices:\n",
    "    DataViz.plot_dataset(day_slice,\n",
    "                            ['acc_', 'gyr_', 'lin_' , 'mag_', 'label'],\n",
    "                            ['like', 'like', 'like', 'like', 'like'],\n",
    "                            ['line', 'line', 'line', 'line', 'points'])"
   ],
   "id": "87e11acae7b899a4",
   "outputs": [
    {
     "name": "stderr",
     "output_type": "stream",
     "text": [
      "/home/mmr497/util/VisualizeDataset.py:58: RuntimeWarning: More than 20 figures have been opened. Figures created through the pyplot interface (`matplotlib.pyplot.figure`) are retained until explicitly closed and may consume too much memory. (To control this warning, see the rcParam `figure.max_open_warning`).\n",
      "  f, xar = plt.subplots(len(columns), sharex=True, sharey=False)\n"
     ]
    },
    {
     "name": "stdout",
     "output_type": "stream",
     "text": [
      "Figure saved to figures/imputation2/figure_1.png\n",
      "Figure saved to figures/imputation2/figure_1.pdf\n"
     ]
    },
    {
     "name": "stderr",
     "output_type": "stream",
     "text": [
      "/home/mmr497/util/VisualizeDataset.py:58: RuntimeWarning: More than 20 figures have been opened. Figures created through the pyplot interface (`matplotlib.pyplot.figure`) are retained until explicitly closed and may consume too much memory. (To control this warning, see the rcParam `figure.max_open_warning`).\n",
      "  f, xar = plt.subplots(len(columns), sharex=True, sharey=False)\n"
     ]
    },
    {
     "name": "stdout",
     "output_type": "stream",
     "text": [
      "Figure saved to figures/imputation2/figure_2.png\n",
      "Figure saved to figures/imputation2/figure_2.pdf\n"
     ]
    },
    {
     "name": "stderr",
     "output_type": "stream",
     "text": [
      "/home/mmr497/util/VisualizeDataset.py:58: RuntimeWarning: More than 20 figures have been opened. Figures created through the pyplot interface (`matplotlib.pyplot.figure`) are retained until explicitly closed and may consume too much memory. (To control this warning, see the rcParam `figure.max_open_warning`).\n",
      "  f, xar = plt.subplots(len(columns), sharex=True, sharey=False)\n"
     ]
    },
    {
     "name": "stdout",
     "output_type": "stream",
     "text": [
      "Figure saved to figures/imputation2/figure_3.png\n",
      "Figure saved to figures/imputation2/figure_3.pdf\n"
     ]
    },
    {
     "name": "stderr",
     "output_type": "stream",
     "text": [
      "/home/mmr497/util/VisualizeDataset.py:58: RuntimeWarning: More than 20 figures have been opened. Figures created through the pyplot interface (`matplotlib.pyplot.figure`) are retained until explicitly closed and may consume too much memory. (To control this warning, see the rcParam `figure.max_open_warning`).\n",
      "  f, xar = plt.subplots(len(columns), sharex=True, sharey=False)\n"
     ]
    },
    {
     "name": "stdout",
     "output_type": "stream",
     "text": [
      "Figure saved to figures/imputation2/figure_4.png\n",
      "Figure saved to figures/imputation2/figure_4.pdf\n"
     ]
    }
   ],
   "execution_count": 21
  }
 ],
 "metadata": {
  "kernelspec": {
   "display_name": "Python 3",
   "language": "python",
   "name": "python3"
  },
  "language_info": {
   "codemirror_mode": {
    "name": "ipython",
    "version": 2
   },
   "file_extension": ".py",
   "mimetype": "text/x-python",
   "name": "python",
   "nbconvert_exporter": "python",
   "pygments_lexer": "ipython2",
   "version": "2.7.6"
  }
 },
 "nbformat": 4,
 "nbformat_minor": 5
}
