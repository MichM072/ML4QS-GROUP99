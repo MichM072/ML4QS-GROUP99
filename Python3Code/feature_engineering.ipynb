{
 "cells": [
  {
   "metadata": {},
   "cell_type": "code",
   "outputs": [],
   "execution_count": null,
   "source": [
    "from pathlib import Path\n",
    "import os\n",
    "STUDENT = 'mmr497'\n",
    "DATASET_PATH = Path('./cleaned_datafiles/')\n",
    "os.chdir(f'/home/{STUDENT}/')\n",
    "\n",
    "import pandas as pd\n",
    "import numpy as np\n",
    "import sys"
   ],
   "id": "f23839443fc46560"
  },
  {
   "metadata": {},
   "cell_type": "markdown",
   "source": "# Start feature engineering",
   "id": "22e2db531937ff7d"
  },
  {
   "metadata": {},
   "cell_type": "code",
   "outputs": [],
   "execution_count": null,
   "source": [
    "# Load cleaned df after imputation\n",
    "df = pd.read_parquet(f'{DATASET_PATH}/cleaned_data.parquet')"
   ],
   "id": "b2a4f3e60af96e58"
  }
 ],
 "metadata": {},
 "nbformat": 4,
 "nbformat_minor": 5
}
