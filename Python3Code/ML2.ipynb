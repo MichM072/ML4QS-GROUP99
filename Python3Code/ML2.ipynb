{
 "cells": [
  {
   "cell_type": "code",
   "id": "initial_id",
   "metadata": {
    "collapsed": true,
    "ExecuteTime": {
     "end_time": "2025-06-18T20:45:02.434145Z",
     "start_time": "2025-06-18T20:45:02.427192Z"
    }
   },
   "source": [
    "from pathlib import Path\n",
    "import os\n",
    "\n",
    "STUDENT = 'mmr497'\n",
    "DATA_PATH = Path('/local/data/mmr497')\n",
    "OUTLIERS_PATH = Path('./outliers2/')\n",
    "INTERMEDIATE_PATH = Path(f'{DATA_PATH}/intermediate_datafiles/')\n",
    "os.chdir(f'/home/{STUDENT}/')\n",
    "from util.VisualizeDataset import VisualizeDataset\n",
    "from Visualiser import Visualiser as Viz\n",
    "from util.util import ignore_actual_time, read_parquet, write_parquet\n",
    "from FeatureCreator import FeatureCreatorUpdated\n",
    "from DataLearningLoader import DataLearningLoader\n",
    "import pandas as pd\n",
    "from Chapter7.FeatureSelection import FeatureSelectionClassification\n",
    "from Chapter7.LearningAlgorithms import ClassificationAlgorithms\n",
    "from AlteredAlgorithms import AlteredAlgorithmsClassifier\n",
    "from Chapter7.Evaluation import ClassificationEvaluation\n",
    "import numpy as np\n",
    "from sklearn.metrics import classification_report, confusion_matrix, accuracy_score"
   ],
   "outputs": [],
   "execution_count": 6
  },
  {
   "metadata": {
    "ExecuteTime": {
     "end_time": "2025-06-18T20:45:04.335885Z",
     "start_time": "2025-06-18T20:45:04.332147Z"
    }
   },
   "cell_type": "code",
   "source": [
    "# Testing parameters\n",
    "feature_selection = True"
   ],
   "id": "f77c07c7a6489849",
   "outputs": [],
   "execution_count": 7
  },
  {
   "metadata": {
    "ExecuteTime": {
     "end_time": "2025-06-18T20:45:05.542006Z",
     "start_time": "2025-06-18T20:45:05.537589Z"
    }
   },
   "cell_type": "code",
   "source": [
    "EasyViz = Viz()\n",
    "DataViz = VisualizeDataset('ML2.ipynb')"
   ],
   "id": "ab41a3b45034fc7",
   "outputs": [],
   "execution_count": 8
  },
  {
   "metadata": {
    "ExecuteTime": {
     "end_time": "2025-06-18T20:45:06.550364Z",
     "start_time": "2025-06-18T20:45:06.525194Z"
    }
   },
   "cell_type": "code",
   "source": "cleaned_dataset = read_parquet(INTERMEDIATE_PATH / 'ML4QS_imputed_results.parquet')",
   "id": "c7a2d7c369deabf5",
   "outputs": [],
   "execution_count": 9
  },
  {
   "metadata": {
    "ExecuteTime": {
     "end_time": "2025-06-18T20:45:07.861350Z",
     "start_time": "2025-06-18T20:45:07.845221Z"
    }
   },
   "cell_type": "code",
   "source": "cleaned_dataset.isna().sum()",
   "id": "778eab95ad750ec3",
   "outputs": [
    {
     "data": {
      "text/plain": [
       "id                                        0\n",
       "acc_phone_X                               0\n",
       "acc_phone_Y                               0\n",
       "acc_phone_Z                               0\n",
       "lin_acc_phone_X                           0\n",
       "lin_acc_phone_Y                           0\n",
       "lin_acc_phone_Z                           0\n",
       "gyr_phone_X                               0\n",
       "gyr_phone_Y                               0\n",
       "gyr_phone_Z                               0\n",
       "location_phone_Latitude                   0\n",
       "location_phone_Longitude                  0\n",
       "location_phone_Height                  5754\n",
       "location_phone_Velocity               14431\n",
       "location_phone_Direction              15709\n",
       "location_phone_Horizontal Accuracy        0\n",
       "location_phone_Vertical Accuracy          0\n",
       "mag_phone_X                               0\n",
       "mag_phone_Y                               0\n",
       "mag_phone_Z                               0\n",
       "proximity_phone_Distance                  0\n",
       "labeltram                                 0\n",
       "labeltrain                                0\n",
       "labelwalking                              0\n",
       "labelmetro                                0\n",
       "labelbus                                  0\n",
       "labelcar                                  0\n",
       "labelbike                                 0\n",
       "original_time                             0\n",
       "time_diff                                 0\n",
       "shifted_time                              0\n",
       "dtype: int64"
      ]
     },
     "execution_count": 10,
     "metadata": {},
     "output_type": "execute_result"
    }
   ],
   "execution_count": 10
  },
  {
   "metadata": {
    "ExecuteTime": {
     "end_time": "2025-06-18T20:46:56.431194Z",
     "start_time": "2025-06-18T20:46:56.335565Z"
    }
   },
   "cell_type": "code",
   "source": [
    "test_df = read_parquet(INTERMEDIATE_PATH / 'non_fourier_features.parquet')\n",
    "nan_counts = test_df.isna().sum()\n",
    "nan_cols = nan_counts[nan_counts > 0]\n",
    "print(non_cols)"
   ],
   "id": "79506c1f3e31a12f",
   "outputs": [
    {
     "name": "stdout",
     "output_type": "stream",
     "text": [
      "location_phone_Latitude                      45012\n",
      "location_phone_Longitude                     45012\n",
      "location_phone_Height                        45090\n",
      "location_phone_Velocity                      45345\n",
      "location_phone_Direction                     45555\n",
      "location_phone_Horizontal Accuracy           45012\n",
      "location_phone_Vertical Accuracy             45012\n",
      "mag_phone_X                                   1631\n",
      "mag_phone_Y                                   1631\n",
      "mag_phone_Z                                   1631\n",
      "proximity_phone_Distance                     52950\n",
      "location_phone_Velocity_mean                 20205\n",
      "location_phone_Velocity_median               20205\n",
      "location_phone_Velocity_min                  20205\n",
      "location_phone_Velocity_max                  20205\n",
      "location_phone_Direction_mean                20465\n",
      "location_phone_Direction_median              20465\n",
      "location_phone_Direction_min                 20465\n",
      "location_phone_Direction_max                 20465\n",
      "location_phone_Horizontal Accuracy_mean       3047\n",
      "location_phone_Horizontal Accuracy_median     3047\n",
      "location_phone_Horizontal Accuracy_min        3047\n",
      "location_phone_Horizontal Accuracy_max        3047\n",
      "location_phone_Vertical Accuracy_mean         3047\n",
      "location_phone_Vertical Accuracy_median       3047\n",
      "location_phone_Vertical Accuracy_min          3047\n",
      "location_phone_Vertical Accuracy_max          3047\n",
      "dtype: int64\n"
     ]
    }
   ],
   "execution_count": 13
  },
  {
   "metadata": {
    "ExecuteTime": {
     "end_time": "2025-06-18T20:50:10.346336Z",
     "start_time": "2025-06-18T20:50:10.341930Z"
    }
   },
   "cell_type": "code",
   "source": [
    "fcr = FeatureCreatorUpdated(INTERMEDIATE_PATH)\n",
    "DLL = DataLearningLoader(df_path=INTERMEDIATE_PATH, output_dir=INTERMEDIATE_PATH, verbose=False)"
   ],
   "id": "da58cc156401497e",
   "outputs": [],
   "execution_count": 15
  },
  {
   "metadata": {
    "ExecuteTime": {
     "end_time": "2025-06-18T20:50:11.935459Z",
     "start_time": "2025-06-18T20:50:11.748876Z"
    }
   },
   "cell_type": "code",
   "source": "feature_df = fcr.create_features(cleaned_dataset, overwrite=False)",
   "id": "da3853d1023a23c9",
   "outputs": [
    {
     "name": "stdout",
     "output_type": "stream",
     "text": [
      "Combined features already exist at /local/data/mmr497/intermediate_datafiles/combined_features.parquet\n",
      "Loaded combined features from /local/data/mmr497/intermediate_datafiles/combined_features.parquet\n",
      "If this was not intended, rerun create_features with overwrite=True\n"
     ]
    }
   ],
   "execution_count": 16
  },
  {
   "metadata": {
    "ExecuteTime": {
     "end_time": "2025-06-18T20:50:52.311048Z",
     "start_time": "2025-06-18T20:50:52.143485Z"
    }
   },
   "cell_type": "code",
   "source": [
    "nan_counts = feature_df.isna().sum()\n",
    "nan_cols = nan_counts[nan_counts > 0]\n",
    "print(nan_cols)"
   ],
   "id": "250cceec29a0ccf1",
   "outputs": [
    {
     "name": "stdout",
     "output_type": "stream",
     "text": [
      "location_phone_Height               5754\n",
      "location_phone_Velocity            14431\n",
      "location_phone_Direction           15709\n",
      "location_phone_Velocity_mean       14431\n",
      "location_phone_Velocity_median     14431\n",
      "location_phone_Velocity_min        14431\n",
      "location_phone_Velocity_max        14431\n",
      "location_phone_Direction_mean      15709\n",
      "location_phone_Direction_median    15709\n",
      "location_phone_Direction_min       15709\n",
      "location_phone_Direction_max       15709\n",
      "session_avg_velocity               14431\n",
      "session_velocity_std               14431\n",
      "dtype: int64\n"
     ]
    }
   ],
   "execution_count": 18
  },
  {
   "metadata": {
    "ExecuteTime": {
     "end_time": "2025-06-18T21:06:16.851679Z",
     "start_time": "2025-06-18T21:06:16.446112Z"
    }
   },
   "cell_type": "code",
   "source": [
    "# Stupid fix! Only temporary! MUST REMOVE\n",
    "def remove_nan_cols(df):\n",
    "    df_fs = df.copy()\n",
    "    col_before = df_fs.columns\n",
    "    nan_counts = df_fs.isna().sum()\n",
    "    nan_cols = nan_counts[nan_counts > 0]\n",
    "    df_fs = df_fs.drop(nan_cols.index, axis=1)\n",
    "    col_after = df_fs.columns\n",
    "    print('Removed columns: ', [col for col in col_before if col not in col_after])\n",
    "    return df_fs\n",
    "\n",
    "filtered_feature_df = remove_nan_cols(feature_df)"
   ],
   "id": "be1319f05bed9e25",
   "outputs": [
    {
     "name": "stdout",
     "output_type": "stream",
     "text": [
      "Removed columns:  ['location_phone_Height', 'location_phone_Velocity', 'location_phone_Direction', 'location_phone_Velocity_mean', 'location_phone_Velocity_median', 'location_phone_Velocity_min', 'location_phone_Velocity_max', 'location_phone_Direction_mean', 'location_phone_Direction_median', 'location_phone_Direction_min', 'location_phone_Direction_max', 'session_avg_velocity', 'session_velocity_std']\n"
     ]
    }
   ],
   "execution_count": 24
  },
  {
   "metadata": {
    "ExecuteTime": {
     "end_time": "2025-06-18T21:06:41.567734Z",
     "start_time": "2025-06-18T21:06:30.145895Z"
    }
   },
   "cell_type": "code",
   "source": "X_train, X_test, y_train, y_test = DLL.prepare_data(filtered_feature_df)",
   "id": "b41ec7b7e099ca5b",
   "outputs": [
    {
     "name": "stdout",
     "output_type": "stream",
     "text": [
      "Cleaning data...\n",
      "Creating labels...\n",
      "Cleaning features...\n",
      "Splitting data...\n",
      "bike: Only 2 sessions - 1 train, 1 test\n"
     ]
    }
   ],
   "execution_count": 25
  },
  {
   "metadata": {
    "ExecuteTime": {
     "end_time": "2025-06-18T21:09:58.997352Z",
     "start_time": "2025-06-18T21:09:55.196045Z"
    }
   },
   "cell_type": "code",
   "source": [
    "# Optional for testing\n",
    "\n",
    "def remove_problem_cols(df):\n",
    "    # This is for testing purposes, stupid fix!\n",
    "    df_fs = df.copy()\n",
    "    col_before = df_fs.columns\n",
    "    df_fs = df_fs.select_dtypes(include=[np.number], exclude=['timedelta64[ns]'])\n",
    "    col_after = df_fs.columns\n",
    "    print('Removed columns: ', [col for col in col_before if col not in col_after])\n",
    "    return df_fs\n",
    "\n",
    "if feature_selection:\n",
    "    fs = FeatureSelectionClassification()\n",
    "\n",
    "    N_FORWARD_SELECTION = 50\n",
    "\n",
    "    X_train_fs = remove_problem_cols(X_train)\n",
    "    X_test_fs = remove_problem_cols(X_test)\n",
    "\n",
    "    features, ordered_features, ordered_scores = fs.forward_selection(N_FORWARD_SELECTION,\n",
    "                                                                      X_train_fs,\n",
    "                                                                      X_test_fs,\n",
    "                                                                      y_train,\n",
    "                                                                      y_test,\n",
    "                                                                      gridsearch=True)\n",
    "\n",
    "    DataViz.plot_xy(x=[range(1, N_FORWARD_SELECTION+1)], y=[ordered_scores],\n",
    "                xlabel='number of features', ylabel='accuracy')"
   ],
   "id": "d52d524827b9da07",
   "outputs": [
    {
     "name": "stdout",
     "output_type": "stream",
     "text": [
      "Removed columns:  ['time_diff', 'shifted_time']\n",
      "Removed columns:  ['time_diff', 'shifted_time']\n",
      "Added feature0\n"
     ]
    },
    {
     "ename": "KeyboardInterrupt",
     "evalue": "",
     "output_type": "error",
     "traceback": [
      "\u001B[0;31m---------------------------------------------------------------------------\u001B[0m",
      "\u001B[0;31mKeyboardInterrupt\u001B[0m                         Traceback (most recent call last)",
      "Cell \u001B[0;32mIn[28], line 20\u001B[0m\n\u001B[1;32m     17\u001B[0m X_train_fs \u001B[38;5;241m=\u001B[39m remove_problem_cols(X_train)\n\u001B[1;32m     18\u001B[0m X_test_fs \u001B[38;5;241m=\u001B[39m remove_problem_cols(X_test)\n\u001B[0;32m---> 20\u001B[0m features, ordered_features, ordered_scores \u001B[38;5;241m=\u001B[39m \u001B[43mfs\u001B[49m\u001B[38;5;241;43m.\u001B[39;49m\u001B[43mforward_selection\u001B[49m\u001B[43m(\u001B[49m\u001B[43mN_FORWARD_SELECTION\u001B[49m\u001B[43m,\u001B[49m\n\u001B[1;32m     21\u001B[0m \u001B[43m                                                                  \u001B[49m\u001B[43mX_train_fs\u001B[49m\u001B[43m,\u001B[49m\n\u001B[1;32m     22\u001B[0m \u001B[43m                                                                  \u001B[49m\u001B[43mX_test_fs\u001B[49m\u001B[43m,\u001B[49m\n\u001B[1;32m     23\u001B[0m \u001B[43m                                                                  \u001B[49m\u001B[43my_train\u001B[49m\u001B[43m,\u001B[49m\n\u001B[1;32m     24\u001B[0m \u001B[43m                                                                  \u001B[49m\u001B[43my_test\u001B[49m\u001B[43m,\u001B[49m\n\u001B[1;32m     25\u001B[0m \u001B[43m                                                                  \u001B[49m\u001B[43mgridsearch\u001B[49m\u001B[38;5;241;43m=\u001B[39;49m\u001B[38;5;28;43;01mTrue\u001B[39;49;00m\u001B[43m)\u001B[49m\n\u001B[1;32m     27\u001B[0m DataViz\u001B[38;5;241m.\u001B[39mplot_xy(x\u001B[38;5;241m=\u001B[39m[\u001B[38;5;28mrange\u001B[39m(\u001B[38;5;241m1\u001B[39m, N_FORWARD_SELECTION\u001B[38;5;241m+\u001B[39m\u001B[38;5;241m1\u001B[39m)], y\u001B[38;5;241m=\u001B[39m[ordered_scores],\n\u001B[1;32m     28\u001B[0m             xlabel\u001B[38;5;241m=\u001B[39m\u001B[38;5;124m'\u001B[39m\u001B[38;5;124mnumber of features\u001B[39m\u001B[38;5;124m'\u001B[39m, ylabel\u001B[38;5;241m=\u001B[39m\u001B[38;5;124m'\u001B[39m\u001B[38;5;124maccuracy\u001B[39m\u001B[38;5;124m'\u001B[39m)\n",
      "File \u001B[0;32m~/Chapter7/FeatureSelection.py:50\u001B[0m, in \u001B[0;36mFeatureSelectionClassification.forward_selection\u001B[0;34m(self, max_features, X_train, X_test, y_train, y_test, gridsearch)\u001B[0m\n\u001B[1;32m     46\u001B[0m temp_selected_features\u001B[38;5;241m.\u001B[39mappend(f)\n\u001B[1;32m     48\u001B[0m \u001B[38;5;66;03m# Determine the accuracy of a decision tree learner if we were to add\u001B[39;00m\n\u001B[1;32m     49\u001B[0m \u001B[38;5;66;03m# the feature.\u001B[39;00m\n\u001B[0;32m---> 50\u001B[0m pred_y_train, pred_y_test, prob_training_y, prob_test_y \u001B[38;5;241m=\u001B[39m \u001B[43mca\u001B[49m\u001B[38;5;241;43m.\u001B[39;49m\u001B[43mdecision_tree\u001B[49m\u001B[43m(\u001B[49m\u001B[43mX_train\u001B[49m\u001B[43m[\u001B[49m\u001B[43mtemp_selected_features\u001B[49m\u001B[43m]\u001B[49m\u001B[43m,\u001B[49m\n\u001B[1;32m     51\u001B[0m \u001B[43m                                                                           \u001B[49m\u001B[43my_train\u001B[49m\u001B[43m,\u001B[49m\n\u001B[1;32m     52\u001B[0m \u001B[43m                                                                           \u001B[49m\u001B[43mX_test\u001B[49m\u001B[43m[\u001B[49m\u001B[43mtemp_selected_features\u001B[49m\u001B[43m]\u001B[49m\u001B[43m,\u001B[49m\n\u001B[1;32m     53\u001B[0m \u001B[43m                                                                           \u001B[49m\u001B[43mgridsearch\u001B[49m\u001B[38;5;241;43m=\u001B[39;49m\u001B[38;5;28;43;01mFalse\u001B[39;49;00m\u001B[43m)\u001B[49m\n\u001B[1;32m     54\u001B[0m perf \u001B[38;5;241m=\u001B[39m ce\u001B[38;5;241m.\u001B[39maccuracy(y_test, pred_y_test)\n\u001B[1;32m     56\u001B[0m \u001B[38;5;66;03m# If the performance is better than what we have seen so far (we aim for high accuracy)\u001B[39;00m\n\u001B[1;32m     57\u001B[0m \u001B[38;5;66;03m# we set the current feature to the best feature and the same for the best performance.\u001B[39;00m\n",
      "File \u001B[0;32m~/Chapter7/LearningAlgorithms.py:191\u001B[0m, in \u001B[0;36mClassificationAlgorithms.decision_tree\u001B[0;34m(self, train_X, train_y, test_X, min_samples_leaf, criterion, print_model_details, export_tree_path, export_tree_name, gridsearch)\u001B[0m\n\u001B[1;32m    187\u001B[0m     dtree \u001B[38;5;241m=\u001B[39m DecisionTreeClassifier(min_samples_leaf\u001B[38;5;241m=\u001B[39mmin_samples_leaf, criterion\u001B[38;5;241m=\u001B[39mcriterion)\n\u001B[1;32m    189\u001B[0m \u001B[38;5;66;03m# Fit the model\u001B[39;00m\n\u001B[0;32m--> 191\u001B[0m \u001B[43mdtree\u001B[49m\u001B[38;5;241;43m.\u001B[39;49m\u001B[43mfit\u001B[49m\u001B[43m(\u001B[49m\u001B[43mtrain_X\u001B[49m\u001B[43m,\u001B[49m\u001B[43m \u001B[49m\u001B[43mtrain_y\u001B[49m\u001B[38;5;241;43m.\u001B[39;49m\u001B[43mvalues\u001B[49m\u001B[38;5;241;43m.\u001B[39;49m\u001B[43mravel\u001B[49m\u001B[43m(\u001B[49m\u001B[43m)\u001B[49m\u001B[43m)\u001B[49m\n\u001B[1;32m    193\u001B[0m \u001B[38;5;28;01mif\u001B[39;00m gridsearch \u001B[38;5;129;01mand\u001B[39;00m print_model_details:\n\u001B[1;32m    194\u001B[0m     \u001B[38;5;28mprint\u001B[39m(dtree\u001B[38;5;241m.\u001B[39mbest_params_)\n",
      "File \u001B[0;32m/local/data/mmr497/.conda/envs/ML4QS/lib/python3.8/site-packages/sklearn/tree/_classes.py:873\u001B[0m, in \u001B[0;36mDecisionTreeClassifier.fit\u001B[0;34m(self, X, y, sample_weight, check_input, X_idx_sorted)\u001B[0m\n\u001B[1;32m    835\u001B[0m \u001B[38;5;28;01mdef\u001B[39;00m\u001B[38;5;250m \u001B[39m\u001B[38;5;21mfit\u001B[39m(\u001B[38;5;28mself\u001B[39m, X, y, sample_weight\u001B[38;5;241m=\u001B[39m\u001B[38;5;28;01mNone\u001B[39;00m, check_input\u001B[38;5;241m=\u001B[39m\u001B[38;5;28;01mTrue\u001B[39;00m,\n\u001B[1;32m    836\u001B[0m         X_idx_sorted\u001B[38;5;241m=\u001B[39m\u001B[38;5;28;01mNone\u001B[39;00m):\n\u001B[1;32m    837\u001B[0m \u001B[38;5;250m    \u001B[39m\u001B[38;5;124;03m\"\"\"Build a decision tree classifier from the training set (X, y).\u001B[39;00m\n\u001B[1;32m    838\u001B[0m \n\u001B[1;32m    839\u001B[0m \u001B[38;5;124;03m    Parameters\u001B[39;00m\n\u001B[0;32m   (...)\u001B[0m\n\u001B[1;32m    870\u001B[0m \u001B[38;5;124;03m        Fitted estimator.\u001B[39;00m\n\u001B[1;32m    871\u001B[0m \u001B[38;5;124;03m    \"\"\"\u001B[39;00m\n\u001B[0;32m--> 873\u001B[0m     \u001B[38;5;28;43msuper\u001B[39;49m\u001B[43m(\u001B[49m\u001B[43m)\u001B[49m\u001B[38;5;241;43m.\u001B[39;49m\u001B[43mfit\u001B[49m\u001B[43m(\u001B[49m\n\u001B[1;32m    874\u001B[0m \u001B[43m        \u001B[49m\u001B[43mX\u001B[49m\u001B[43m,\u001B[49m\u001B[43m \u001B[49m\u001B[43my\u001B[49m\u001B[43m,\u001B[49m\n\u001B[1;32m    875\u001B[0m \u001B[43m        \u001B[49m\u001B[43msample_weight\u001B[49m\u001B[38;5;241;43m=\u001B[39;49m\u001B[43msample_weight\u001B[49m\u001B[43m,\u001B[49m\n\u001B[1;32m    876\u001B[0m \u001B[43m        \u001B[49m\u001B[43mcheck_input\u001B[49m\u001B[38;5;241;43m=\u001B[39;49m\u001B[43mcheck_input\u001B[49m\u001B[43m,\u001B[49m\n\u001B[1;32m    877\u001B[0m \u001B[43m        \u001B[49m\u001B[43mX_idx_sorted\u001B[49m\u001B[38;5;241;43m=\u001B[39;49m\u001B[43mX_idx_sorted\u001B[49m\u001B[43m)\u001B[49m\n\u001B[1;32m    878\u001B[0m     \u001B[38;5;28;01mreturn\u001B[39;00m \u001B[38;5;28mself\u001B[39m\n",
      "File \u001B[0;32m/local/data/mmr497/.conda/envs/ML4QS/lib/python3.8/site-packages/sklearn/tree/_classes.py:173\u001B[0m, in \u001B[0;36mBaseDecisionTree.fit\u001B[0;34m(self, X, y, sample_weight, check_input, X_idx_sorted)\u001B[0m\n\u001B[1;32m    170\u001B[0m \u001B[38;5;28mself\u001B[39m\u001B[38;5;241m.\u001B[39mn_outputs_ \u001B[38;5;241m=\u001B[39m y\u001B[38;5;241m.\u001B[39mshape[\u001B[38;5;241m1\u001B[39m]\n\u001B[1;32m    172\u001B[0m \u001B[38;5;28;01mif\u001B[39;00m is_classification:\n\u001B[0;32m--> 173\u001B[0m     \u001B[43mcheck_classification_targets\u001B[49m\u001B[43m(\u001B[49m\u001B[43my\u001B[49m\u001B[43m)\u001B[49m\n\u001B[1;32m    174\u001B[0m     y \u001B[38;5;241m=\u001B[39m np\u001B[38;5;241m.\u001B[39mcopy(y)\n\u001B[1;32m    176\u001B[0m     \u001B[38;5;28mself\u001B[39m\u001B[38;5;241m.\u001B[39mclasses_ \u001B[38;5;241m=\u001B[39m []\n",
      "File \u001B[0;32m/local/data/mmr497/.conda/envs/ML4QS/lib/python3.8/site-packages/sklearn/utils/multiclass.py:166\u001B[0m, in \u001B[0;36mcheck_classification_targets\u001B[0;34m(y)\u001B[0m\n\u001B[1;32m    155\u001B[0m \u001B[38;5;28;01mdef\u001B[39;00m\u001B[38;5;250m \u001B[39m\u001B[38;5;21mcheck_classification_targets\u001B[39m(y):\n\u001B[1;32m    156\u001B[0m \u001B[38;5;250m    \u001B[39m\u001B[38;5;124;03m\"\"\"Ensure that target y is of a non-regression type.\u001B[39;00m\n\u001B[1;32m    157\u001B[0m \n\u001B[1;32m    158\u001B[0m \u001B[38;5;124;03m    Only the following target types (as defined in type_of_target) are allowed:\u001B[39;00m\n\u001B[0;32m   (...)\u001B[0m\n\u001B[1;32m    164\u001B[0m \u001B[38;5;124;03m    y : array-like\u001B[39;00m\n\u001B[1;32m    165\u001B[0m \u001B[38;5;124;03m    \"\"\"\u001B[39;00m\n\u001B[0;32m--> 166\u001B[0m     y_type \u001B[38;5;241m=\u001B[39m \u001B[43mtype_of_target\u001B[49m\u001B[43m(\u001B[49m\u001B[43my\u001B[49m\u001B[43m)\u001B[49m\n\u001B[1;32m    167\u001B[0m     \u001B[38;5;28;01mif\u001B[39;00m y_type \u001B[38;5;129;01mnot\u001B[39;00m \u001B[38;5;129;01min\u001B[39;00m [\u001B[38;5;124m'\u001B[39m\u001B[38;5;124mbinary\u001B[39m\u001B[38;5;124m'\u001B[39m, \u001B[38;5;124m'\u001B[39m\u001B[38;5;124mmulticlass\u001B[39m\u001B[38;5;124m'\u001B[39m, \u001B[38;5;124m'\u001B[39m\u001B[38;5;124mmulticlass-multioutput\u001B[39m\u001B[38;5;124m'\u001B[39m,\n\u001B[1;32m    168\u001B[0m                       \u001B[38;5;124m'\u001B[39m\u001B[38;5;124mmultilabel-indicator\u001B[39m\u001B[38;5;124m'\u001B[39m, \u001B[38;5;124m'\u001B[39m\u001B[38;5;124mmultilabel-sequences\u001B[39m\u001B[38;5;124m'\u001B[39m]:\n\u001B[1;32m    169\u001B[0m         \u001B[38;5;28;01mraise\u001B[39;00m \u001B[38;5;167;01mValueError\u001B[39;00m(\u001B[38;5;124m\"\u001B[39m\u001B[38;5;124mUnknown label type: \u001B[39m\u001B[38;5;132;01m%r\u001B[39;00m\u001B[38;5;124m\"\u001B[39m \u001B[38;5;241m%\u001B[39m y_type)\n",
      "File \u001B[0;32m/local/data/mmr497/.conda/envs/ML4QS/lib/python3.8/site-packages/sklearn/utils/multiclass.py:287\u001B[0m, in \u001B[0;36mtype_of_target\u001B[0;34m(y)\u001B[0m\n\u001B[1;32m    284\u001B[0m     _assert_all_finite(y)\n\u001B[1;32m    285\u001B[0m     \u001B[38;5;28;01mreturn\u001B[39;00m \u001B[38;5;124m'\u001B[39m\u001B[38;5;124mcontinuous\u001B[39m\u001B[38;5;124m'\u001B[39m \u001B[38;5;241m+\u001B[39m suffix\n\u001B[0;32m--> 287\u001B[0m \u001B[38;5;28;01mif\u001B[39;00m (\u001B[38;5;28mlen\u001B[39m(\u001B[43mnp\u001B[49m\u001B[38;5;241;43m.\u001B[39;49m\u001B[43munique\u001B[49m\u001B[43m(\u001B[49m\u001B[43my\u001B[49m\u001B[43m)\u001B[49m) \u001B[38;5;241m>\u001B[39m \u001B[38;5;241m2\u001B[39m) \u001B[38;5;129;01mor\u001B[39;00m (y\u001B[38;5;241m.\u001B[39mndim \u001B[38;5;241m>\u001B[39m\u001B[38;5;241m=\u001B[39m \u001B[38;5;241m2\u001B[39m \u001B[38;5;129;01mand\u001B[39;00m \u001B[38;5;28mlen\u001B[39m(y[\u001B[38;5;241m0\u001B[39m]) \u001B[38;5;241m>\u001B[39m \u001B[38;5;241m1\u001B[39m):\n\u001B[1;32m    288\u001B[0m     \u001B[38;5;28;01mreturn\u001B[39;00m \u001B[38;5;124m'\u001B[39m\u001B[38;5;124mmulticlass\u001B[39m\u001B[38;5;124m'\u001B[39m \u001B[38;5;241m+\u001B[39m suffix  \u001B[38;5;66;03m# [1, 2, 3] or [[1., 2., 3]] or [[1, 2]]\u001B[39;00m\n\u001B[1;32m    289\u001B[0m \u001B[38;5;28;01melse\u001B[39;00m:\n",
      "File \u001B[0;32m<__array_function__ internals>:180\u001B[0m, in \u001B[0;36munique\u001B[0;34m(*args, **kwargs)\u001B[0m\n",
      "File \u001B[0;32m/local/data/mmr497/.conda/envs/ML4QS/lib/python3.8/site-packages/numpy/lib/arraysetops.py:272\u001B[0m, in \u001B[0;36munique\u001B[0;34m(ar, return_index, return_inverse, return_counts, axis)\u001B[0m\n\u001B[1;32m    270\u001B[0m ar \u001B[38;5;241m=\u001B[39m np\u001B[38;5;241m.\u001B[39masanyarray(ar)\n\u001B[1;32m    271\u001B[0m \u001B[38;5;28;01mif\u001B[39;00m axis \u001B[38;5;129;01mis\u001B[39;00m \u001B[38;5;28;01mNone\u001B[39;00m:\n\u001B[0;32m--> 272\u001B[0m     ret \u001B[38;5;241m=\u001B[39m \u001B[43m_unique1d\u001B[49m\u001B[43m(\u001B[49m\u001B[43mar\u001B[49m\u001B[43m,\u001B[49m\u001B[43m \u001B[49m\u001B[43mreturn_index\u001B[49m\u001B[43m,\u001B[49m\u001B[43m \u001B[49m\u001B[43mreturn_inverse\u001B[49m\u001B[43m,\u001B[49m\u001B[43m \u001B[49m\u001B[43mreturn_counts\u001B[49m\u001B[43m)\u001B[49m\n\u001B[1;32m    273\u001B[0m     \u001B[38;5;28;01mreturn\u001B[39;00m _unpack_tuple(ret)\n\u001B[1;32m    275\u001B[0m \u001B[38;5;66;03m# axis was specified and not None\u001B[39;00m\n",
      "File \u001B[0;32m/local/data/mmr497/.conda/envs/ML4QS/lib/python3.8/site-packages/numpy/lib/arraysetops.py:333\u001B[0m, in \u001B[0;36m_unique1d\u001B[0;34m(ar, return_index, return_inverse, return_counts)\u001B[0m\n\u001B[1;32m    331\u001B[0m     aux \u001B[38;5;241m=\u001B[39m ar[perm]\n\u001B[1;32m    332\u001B[0m \u001B[38;5;28;01melse\u001B[39;00m:\n\u001B[0;32m--> 333\u001B[0m     \u001B[43mar\u001B[49m\u001B[38;5;241;43m.\u001B[39;49m\u001B[43msort\u001B[49m\u001B[43m(\u001B[49m\u001B[43m)\u001B[49m\n\u001B[1;32m    334\u001B[0m     aux \u001B[38;5;241m=\u001B[39m ar\n\u001B[1;32m    335\u001B[0m mask \u001B[38;5;241m=\u001B[39m np\u001B[38;5;241m.\u001B[39mempty(aux\u001B[38;5;241m.\u001B[39mshape, dtype\u001B[38;5;241m=\u001B[39mnp\u001B[38;5;241m.\u001B[39mbool_)\n",
      "\u001B[0;31mKeyboardInterrupt\u001B[0m: "
     ]
    }
   ],
   "execution_count": 28
  },
  {
   "metadata": {
    "ExecuteTime": {
     "end_time": "2025-06-18T21:12:02.762770Z",
     "start_time": "2025-06-18T21:11:29.824555Z"
    }
   },
   "cell_type": "code",
   "source": [
    "# Setup model\n",
    "CA = ClassificationAlgorithms()\n",
    "alt_CA = AlteredAlgorithmsClassifier()\n",
    "\n",
    "X_train_fs = remove_problem_cols(X_train)\n",
    "X_test_fs = remove_problem_cols(X_test)\n",
    "\n",
    "# First MLP\n",
    "\n",
    "mlp_train_y, mlp_test_y, mlp_train_prob_y, mlp_test_prob_y = alt_CA.feedforward_neural_network(\n",
    "            X_train_fs, y_train, X_test_fs, gridsearch=True\n",
    ")\n",
    "\n",
    "# Train RF\n",
    "\n",
    "rf_train_y, rf_test_y, rf_train_prob_y, rf_test_prob_y = alt_CA.random_forest(\n",
    "    X_train_fs, y_train, X_test_fs, gridsearch=True\n",
    ")\n"
   ],
   "id": "63815df1dc54f370",
   "outputs": [
    {
     "name": "stdout",
     "output_type": "stream",
     "text": [
      "Removed columns:  ['time_diff', 'shifted_time']\n",
      "Removed columns:  ['time_diff', 'shifted_time']\n"
     ]
    },
    {
     "name": "stderr",
     "output_type": "stream",
     "text": [
      "\n",
      "KeyboardInterrupt\n",
      "\n"
     ]
    }
   ],
   "execution_count": 29
  },
  {
   "metadata": {},
   "cell_type": "code",
   "outputs": [],
   "execution_count": null,
   "source": [
    "# Evaluate models\n",
    "\n",
    "CEVAL = ClassificationEvaluation()\n",
    "\n",
    "CEVAL.f1(y_train, mlp_train_y)"
   ],
   "id": "af6575e99fcac879"
  }
 ],
 "metadata": {
  "kernelspec": {
   "display_name": "Python 3",
   "language": "python",
   "name": "python3"
  },
  "language_info": {
   "codemirror_mode": {
    "name": "ipython",
    "version": 2
   },
   "file_extension": ".py",
   "mimetype": "text/x-python",
   "name": "python",
   "nbconvert_exporter": "python",
   "pygments_lexer": "ipython2",
   "version": "2.7.6"
  }
 },
 "nbformat": 4,
 "nbformat_minor": 5
}
