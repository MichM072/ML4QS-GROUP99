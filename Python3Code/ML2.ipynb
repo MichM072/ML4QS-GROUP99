{
 "cells": [
  {
   "cell_type": "code",
   "execution_count": null,
   "id": "initial_id",
   "metadata": {
    "collapsed": true
   },
   "outputs": [],
   "source": [
    "from pathlib import Path\n",
    "import os\n",
    "STUDENT = 'mmr497'\n",
    "\n",
    "OUTLIERS_PATH = Path('./outliers2/')\n",
    "INTERMEDIATE_PATH = Path('./intermediate_datafiles/')\n",
    "os.chdir(f'/home/{STUDENT}/')\n",
    "from util.VisualizeDataset import VisualizeDataset\n",
    "from Visualiser import Visualiser as Viz\n",
    "from util.util import ignore_actual_time, read_parquet, write_parquet\n",
    "import pandas as pd"
   ]
  },
  {
   "metadata": {},
   "cell_type": "code",
   "outputs": [],
   "execution_count": null,
   "source": [
    "EasyViz = Viz()\n",
    "DataViz = VisualizeDataset('ML2.ipynb')"
   ],
   "id": "ab41a3b45034fc7"
  },
  {
   "metadata": {},
   "cell_type": "code",
   "outputs": [],
   "execution_count": null,
   "source": [
    "cleaned_dataset = read_parquet(INTERMEDIATE_PATH / 'ML4QS_imputed_results.parquet')\n",
    "cleaned_dataset = ignore_actual_time(cleaned_dataset)"
   ],
   "id": "c7a2d7c369deabf5"
  }
 ],
 "metadata": {
  "kernelspec": {
   "display_name": "Python 3",
   "language": "python",
   "name": "python3"
  },
  "language_info": {
   "codemirror_mode": {
    "name": "ipython",
    "version": 2
   },
   "file_extension": ".py",
   "mimetype": "text/x-python",
   "name": "python",
   "nbconvert_exporter": "python",
   "pygments_lexer": "ipython2",
   "version": "2.7.6"
  }
 },
 "nbformat": 4,
 "nbformat_minor": 5
}
