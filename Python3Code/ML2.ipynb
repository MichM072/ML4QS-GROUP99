{
 "cells": [
  {
   "cell_type": "code",
   "id": "initial_id",
   "metadata": {
    "collapsed": true,
    "ExecuteTime": {
     "end_time": "2025-06-20T23:52:23.779051Z",
     "start_time": "2025-06-20T23:52:23.486856Z"
    }
   },
   "source": [
    "from pathlib import Path\n",
    "import os\n",
    "\n",
    "STUDENT = 'mmr497'\n",
    "DATA_PATH = Path('/local/data/mmr497')\n",
    "OUTLIERS_PATH = Path('./outliers2/')\n",
    "INTERMEDIATE_PATH = Path(f'{DATA_PATH}/intermediate_datafiles/')\n",
    "os.chdir(f'/home/{STUDENT}/')\n",
    "from util.VisualizeDataset import VisualizeDataset\n",
    "from Visualiser import Visualiser as Viz\n",
    "from util.util import ignore_actual_time, read_parquet, write_parquet\n",
    "from FeatureCreator import FeatureCreatorUpdated\n",
    "from DataLearningLoader import DataLearningLoader\n",
    "import pandas as pd\n",
    "from Chapter7.FeatureSelection import FeatureSelectionClassification\n",
    "from Chapter7.LearningAlgorithms import ClassificationAlgorithms\n",
    "from AlteredAlgorithms import AlteredAlgorithmsClassifier\n",
    "from Chapter7.Evaluation import ClassificationEvaluation\n",
    "import numpy as np\n",
    "from CustomPipeline import PreConfiguredPipeline\n",
    "from sklearn.metrics import classification_report, confusion_matrix, accuracy_score\n",
    "import seaborn as sns\n",
    "import matplotlib.pyplot as plt"
   ],
   "outputs": [],
   "execution_count": 1
  },
  {
   "metadata": {},
   "cell_type": "code",
   "outputs": [],
   "execution_count": null,
   "source": "",
   "id": "cb87c62a1da4d8c9"
  },
  {
   "metadata": {
    "ExecuteTime": {
     "end_time": "2025-06-20T20:41:37.535537Z",
     "start_time": "2025-06-20T20:41:37.528626Z"
    }
   },
   "cell_type": "code",
   "source": [
    "# Testing parameters\n",
    "feature_selection = True"
   ],
   "id": "f77c07c7a6489849",
   "outputs": [],
   "execution_count": 2
  },
  {
   "metadata": {
    "ExecuteTime": {
     "end_time": "2025-06-21T00:30:33.708033Z",
     "start_time": "2025-06-21T00:30:33.704408Z"
    }
   },
   "cell_type": "code",
   "source": [
    "EasyViz = Viz()\n",
    "DataViz = VisualizeDataset('ML2.ipynb')"
   ],
   "id": "ab41a3b45034fc7",
   "outputs": [],
   "execution_count": 60
  },
  {
   "metadata": {
    "ExecuteTime": {
     "end_time": "2025-06-20T15:01:35.054436Z",
     "start_time": "2025-06-20T15:01:35.051763Z"
    }
   },
   "cell_type": "code",
   "source": "# cleaned_dataset = read_parquet(INTERMEDIATE_PATH / 'ML4QS_imputed_results.parquet')",
   "id": "c7a2d7c369deabf5",
   "outputs": [],
   "execution_count": 4
  },
  {
   "metadata": {
    "ExecuteTime": {
     "end_time": "2025-06-20T15:01:35.151195Z",
     "start_time": "2025-06-20T15:01:35.148455Z"
    }
   },
   "cell_type": "code",
   "source": [
    "# instance_mask = cleaned_dataset.id == 1\n",
    "# col = 'location_phone_Velocity'\n",
    "# print(cleaned_dataset.loc[instance_mask, col].isna().sum() / len(cleaned_dataset.loc[instance_mask, col]))\n",
    "# if cleaned_dataset.loc[instance_mask, col].isna().all():\n",
    "#     print('All values are NaN for instance {}.'.format(cleaned_dataset.loc[instance_mask, 'id'].values[0]))"
   ],
   "id": "582c66427d33a87b",
   "outputs": [],
   "execution_count": 5
  },
  {
   "metadata": {
    "ExecuteTime": {
     "end_time": "2025-06-20T15:01:35.217789Z",
     "start_time": "2025-06-20T15:01:35.215244Z"
    }
   },
   "cell_type": "code",
   "source": "# cleaned_dataset.dtypes",
   "id": "778eab95ad750ec3",
   "outputs": [],
   "execution_count": 6
  },
  {
   "metadata": {
    "ExecuteTime": {
     "end_time": "2025-06-20T15:01:35.280105Z",
     "start_time": "2025-06-20T15:01:35.277557Z"
    }
   },
   "cell_type": "code",
   "source": [
    "# test_df = read_parquet(INTERMEDIATE_PATH / 'non_fourier_features.parquet')\n",
    "# nan_counts = test_df.isna().sum()\n",
    "# nan_cols = nan_counts[nan_counts > 0]\n",
    "# print(nan_cols)"
   ],
   "id": "79506c1f3e31a12f",
   "outputs": [],
   "execution_count": 7
  },
  {
   "metadata": {
    "ExecuteTime": {
     "end_time": "2025-06-20T15:01:35.340930Z",
     "start_time": "2025-06-20T15:01:35.338411Z"
    }
   },
   "cell_type": "code",
   "source": [
    "# fcr = FeatureCreatorUpdated(INTERMEDIATE_PATH)\n",
    "# DLL = DataLearningLoader(df_path=INTERMEDIATE_PATH, output_dir=INTERMEDIATE_PATH, verbose=False)"
   ],
   "id": "da58cc156401497e",
   "outputs": [],
   "execution_count": 8
  },
  {
   "metadata": {
    "ExecuteTime": {
     "end_time": "2025-06-20T15:01:35.418187Z",
     "start_time": "2025-06-20T15:01:35.415887Z"
    }
   },
   "cell_type": "code",
   "source": "# feature_df = fcr.create_features(cleaned_dataset, overwrite=True)",
   "id": "da3853d1023a23c9",
   "outputs": [],
   "execution_count": 9
  },
  {
   "metadata": {
    "ExecuteTime": {
     "end_time": "2025-06-20T15:01:35.481935Z",
     "start_time": "2025-06-20T15:01:35.479647Z"
    }
   },
   "cell_type": "code",
   "source": [
    "# nan_counts = feature_df.isna().sum()\n",
    "# nan_cols = nan_counts[nan_counts > 0]\n",
    "# print(nan_cols)"
   ],
   "id": "250cceec29a0ccf1",
   "outputs": [],
   "execution_count": 10
  },
  {
   "metadata": {
    "ExecuteTime": {
     "end_time": "2025-06-20T15:01:35.543392Z",
     "start_time": "2025-06-20T15:01:35.540903Z"
    }
   },
   "cell_type": "code",
   "source": [
    "# # Stupid fix! Only temporary! MUST REMOVE\n",
    "# def remove_nan_cols(df):\n",
    "#     df_fs = df.copy()\n",
    "#     col_before = df_fs.columns\n",
    "#     nan_counts = df_fs.isna().sum()\n",
    "#     nan_cols = nan_counts[nan_counts > 0]\n",
    "#     df_fs = df_fs.drop(nan_cols.index, axis=1)\n",
    "#     col_after = df_fs.columns\n",
    "#     print('Removed columns: ', [col for col in col_before if col not in col_after])\n",
    "#     return df_fs\n",
    "#\n",
    "# filtered_feature_df = remove_nan_cols(feature_df)"
   ],
   "id": "be1319f05bed9e25",
   "outputs": [],
   "execution_count": 11
  },
  {
   "metadata": {
    "ExecuteTime": {
     "end_time": "2025-06-20T15:01:35.671858Z",
     "start_time": "2025-06-20T15:01:35.669552Z"
    }
   },
   "cell_type": "code",
   "source": "# X_train, X_test, y_train, y_test = DLL.prepare_data(filtered_feature_df)",
   "id": "b41ec7b7e099ca5b",
   "outputs": [],
   "execution_count": 12
  },
  {
   "metadata": {
    "ExecuteTime": {
     "end_time": "2025-06-21T00:27:07.038334Z",
     "start_time": "2025-06-21T00:27:07.016097Z"
    }
   },
   "cell_type": "code",
   "source": "intermediate_df = read_parquet(INTERMEDIATE_PATH / 'ML4QS_combined_results_final.parquet')",
   "id": "95c71275a9644ce2",
   "outputs": [],
   "execution_count": 53
  },
  {
   "metadata": {
    "ExecuteTime": {
     "end_time": "2025-06-21T00:27:08.794782Z",
     "start_time": "2025-06-21T00:27:08.785250Z"
    }
   },
   "cell_type": "code",
   "source": "intermediate_df.dtypes",
   "id": "fed6173d31ccd4e6",
   "outputs": [
    {
     "data": {
      "text/plain": [
       "id                                      int64\n",
       "acc_phone_X                           float64\n",
       "acc_phone_Y                           float64\n",
       "acc_phone_Z                           float64\n",
       "lin_acc_phone_X                       float64\n",
       "lin_acc_phone_Y                       float64\n",
       "lin_acc_phone_Z                       float64\n",
       "gyr_phone_X                           float64\n",
       "gyr_phone_Y                           float64\n",
       "gyr_phone_Z                           float64\n",
       "location_phone_Latitude               float64\n",
       "location_phone_Longitude              float64\n",
       "location_phone_Height                 float64\n",
       "location_phone_Velocity               float64\n",
       "location_phone_Direction              float64\n",
       "location_phone_Horizontal Accuracy    float64\n",
       "location_phone_Vertical Accuracy      float64\n",
       "mag_phone_X                           float64\n",
       "mag_phone_Y                           float64\n",
       "mag_phone_Z                           float64\n",
       "proximity_phone_Distance              float64\n",
       "labeltram                               int64\n",
       "labelwalking                            int64\n",
       "labeltrain                              int64\n",
       "labelbike                               int64\n",
       "labelmetro                              int64\n",
       "labelcar                                int64\n",
       "labelbus                                int64\n",
       "dtype: object"
      ]
     },
     "execution_count": 54,
     "metadata": {},
     "output_type": "execute_result"
    }
   ],
   "execution_count": 54
  },
  {
   "metadata": {
    "ExecuteTime": {
     "end_time": "2025-06-21T00:27:43.896564Z",
     "start_time": "2025-06-21T00:27:43.891583Z"
    }
   },
   "cell_type": "code",
   "source": "len(intermediate_df)",
   "id": "a34290c011e983e9",
   "outputs": [
    {
     "data": {
      "text/plain": [
       "103624"
      ]
     },
     "execution_count": 55,
     "metadata": {},
     "output_type": "execute_result"
    }
   ],
   "execution_count": 55
  },
  {
   "metadata": {
    "ExecuteTime": {
     "end_time": "2025-06-21T00:35:13.780007Z",
     "start_time": "2025-06-21T00:35:13.445051Z"
    }
   },
   "cell_type": "code",
   "source": "intermediate_df = ignore_actual_time(intermediate_df)",
   "id": "d06b5c1377b1380b",
   "outputs": [],
   "execution_count": 63
  },
  {
   "metadata": {
    "ExecuteTime": {
     "end_time": "2025-06-21T00:35:33.992905Z",
     "start_time": "2025-06-21T00:35:14.994924Z"
    }
   },
   "cell_type": "code",
   "source": "EasyViz.plot_dataset(intermediate_df, plot_type='full', path='plot_dataset_final')",
   "id": "e3f5f886f78bdbc8",
   "outputs": [
    {
     "name": "stdout",
     "output_type": "stream",
     "text": [
      "Figure saved to figures/plot_dataset_final/figure_1.png\n",
      "Figure saved to figures/plot_dataset_final/figure_1.pdf\n"
     ]
    }
   ],
   "execution_count": 64
  },
  {
   "metadata": {
    "ExecuteTime": {
     "end_time": "2025-06-20T20:41:37.855402Z",
     "start_time": "2025-06-20T20:41:37.845409Z"
    }
   },
   "cell_type": "code",
   "source": [
    "def write_splitted_data(data):\n",
    "\n",
    "    if len(data[0]) == 1:\n",
    "        print(\"Expecting format: (data, name) ... continuing.\")\n",
    "\n",
    "    for data, name in data:\n",
    "        try:\n",
    "            write_parquet(data, INTERMEDIATE_PATH / f'{name}_postpipe.parquet')\n",
    "        except:\n",
    "            print(\"Can't write parquet file for \", name, \" ... continuing.\")"
   ],
   "id": "179e7983bbcf97e3",
   "outputs": [],
   "execution_count": 5
  },
  {
   "metadata": {},
   "cell_type": "code",
   "source": [
    "# pipe_NF = PreConfiguredPipeline(intermediate_path=INTERMEDIATE_PATH, include_fourier=False)\n",
    "# X_train, X_test, y_train, y_test = pipe_NF.fit_transform(intermediate_df, verbose=True, overwrite=True, pipe_name=\"NF\", srtkfold=False)"
   ],
   "id": "b372d9d02daf8624",
   "outputs": [],
   "execution_count": null
  },
  {
   "metadata": {},
   "cell_type": "code",
   "source": [
    "# nf_data = [(X_train, \"X_train_NF\"), (X_test, \"X_test_NF\"), (y_train, \"y_train_NF\"), (y_test, \"y_test_NF\")]\n",
    "# write_splitted_data(nf_data)"
   ],
   "id": "a08a476e78d4d67c",
   "outputs": [],
   "execution_count": null
  },
  {
   "metadata": {},
   "cell_type": "code",
   "source": [
    "# pipe = PreConfiguredPipeline(intermediate_path=INTERMEDIATE_PATH)\n",
    "# X_train, X_test, y_train, y_test = pipe.fit_transform(intermediate_df, verbose=True, overwrite=False, srtkfold=False)"
   ],
   "id": "a3df952e04d74a40",
   "outputs": [],
   "execution_count": null
  },
  {
   "metadata": {},
   "cell_type": "code",
   "source": [
    "pipe = PreConfiguredPipeline(intermediate_path=INTERMEDIATE_PATH)\n",
    "split_sets = pipe.fit_transform(intermediate_df, verbose=True, overwrite=True, srtkfold=True)"
   ],
   "id": "3abe72326e86830f",
   "outputs": [],
   "execution_count": null
  },
  {
   "metadata": {
    "ExecuteTime": {
     "end_time": "2025-06-20T20:48:35.816029Z",
     "start_time": "2025-06-20T20:48:33.551585Z"
    }
   },
   "cell_type": "code",
   "source": [
    "split = 1\n",
    "for X_train, X_test, y_train, y_test in split_sets:\n",
    "    split_data = [(X_train, f\"X_train_KF{split}\"), (X_test, f\"X_test_KF{split}\"), (y_train, f\"y_train_KF{split}\"), (y_test, f\"y_test_KF{split}\")]\n",
    "    write_splitted_data(split_data)\n",
    "    split +=1"
   ],
   "id": "7cb86524c7b22a2",
   "outputs": [
    {
     "name": "stdout",
     "output_type": "stream",
     "text": [
      "Successfully written to parquet file at  /local/data/mmr497/intermediate_datafiles/X_train_KF1_postpipe.parquet \n",
      "\n",
      "Successfully written to parquet file at  /local/data/mmr497/intermediate_datafiles/X_test_KF1_postpipe.parquet \n",
      "\n",
      "Successfully written to parquet file at  /local/data/mmr497/intermediate_datafiles/y_train_KF1_postpipe.parquet \n",
      "\n",
      "Successfully written to parquet file at  /local/data/mmr497/intermediate_datafiles/y_test_KF1_postpipe.parquet \n",
      "\n",
      "Successfully written to parquet file at  /local/data/mmr497/intermediate_datafiles/X_train_KF2_postpipe.parquet \n",
      "\n",
      "Successfully written to parquet file at  /local/data/mmr497/intermediate_datafiles/X_test_KF2_postpipe.parquet \n",
      "\n",
      "Successfully written to parquet file at  /local/data/mmr497/intermediate_datafiles/y_train_KF2_postpipe.parquet \n",
      "\n",
      "Successfully written to parquet file at  /local/data/mmr497/intermediate_datafiles/y_test_KF2_postpipe.parquet \n",
      "\n",
      "Successfully written to parquet file at  /local/data/mmr497/intermediate_datafiles/X_train_KF3_postpipe.parquet \n",
      "\n",
      "Successfully written to parquet file at  /local/data/mmr497/intermediate_datafiles/X_test_KF3_postpipe.parquet \n",
      "\n",
      "Successfully written to parquet file at  /local/data/mmr497/intermediate_datafiles/y_train_KF3_postpipe.parquet \n",
      "\n",
      "Successfully written to parquet file at  /local/data/mmr497/intermediate_datafiles/y_test_KF3_postpipe.parquet \n",
      "\n"
     ]
    }
   ],
   "execution_count": 11
  },
  {
   "metadata": {},
   "cell_type": "code",
   "outputs": [],
   "execution_count": null,
   "source": [
    "# pipe = PreConfiguredPipeline(intermediate_path=INTERMEDIATE_PATH)\n",
    "# X_train, X_test, y_train, y_test = pipe.fit_transform(intermediate_df, verbose=True, overwrite=False)"
   ],
   "id": "a7f228f42ed73d6f"
  },
  {
   "metadata": {
    "ExecuteTime": {
     "end_time": "2025-06-20T15:36:00.498234Z",
     "start_time": "2025-06-20T15:36:00.490671Z"
    }
   },
   "cell_type": "code",
   "source": "# y_test",
   "id": "d82f28b2678dd961",
   "outputs": [
    {
     "data": {
      "text/plain": [
       "timestamp\n",
       "1970-01-01 00:54:19.750    metro\n",
       "1970-01-01 00:54:20.000    metro\n",
       "1970-01-01 00:54:20.250    metro\n",
       "1970-01-01 00:54:20.500    metro\n",
       "1970-01-01 00:54:20.750    metro\n",
       "                           ...  \n",
       "1970-01-01 03:30:08.000    train\n",
       "1970-01-01 03:30:08.250    train\n",
       "1970-01-01 03:30:08.500    train\n",
       "1970-01-01 03:30:08.750    train\n",
       "1970-01-01 03:30:09.000    train\n",
       "Name: transport_mode, Length: 20479, dtype: object"
      ]
     },
     "execution_count": 18,
     "metadata": {},
     "output_type": "execute_result"
    }
   ],
   "execution_count": 18
  },
  {
   "metadata": {},
   "cell_type": "code",
   "outputs": [],
   "execution_count": null,
   "source": "# write_splitted_data([(X_train, \"X_train\"), (X_test, \"X_test\"), (y_train, \"y_train\"), (y_test, \"y_test\")])",
   "id": "db7c27dfe428af6d"
  },
  {
   "metadata": {
    "ExecuteTime": {
     "end_time": "2025-06-21T00:25:51.959271Z",
     "start_time": "2025-06-21T00:25:51.192008Z"
    }
   },
   "cell_type": "code",
   "source": [
    "def read_splitted_data(splits=3):\n",
    "    splitted_data = []\n",
    "    for i in range(1, splits+1):\n",
    "        X_train = read_parquet(INTERMEDIATE_PATH / f'X_train_KF{i}_postpipe.parquet')\n",
    "        X_test = read_parquet(INTERMEDIATE_PATH / f'X_test_KF{i}_postpipe.parquet')\n",
    "        y_train = read_parquet(INTERMEDIATE_PATH / f'y_train_KF{i}_postpipe.parquet')\n",
    "        y_test = read_parquet(INTERMEDIATE_PATH / f'y_test_KF{i}_postpipe.parquet')\n",
    "        splitted_data.append([X_train, X_test, y_train, y_test])\n",
    "    return splitted_data\n",
    "\n",
    "test_splitted_data = read_splitted_data(3)"
   ],
   "id": "2645958875d046f9",
   "outputs": [],
   "execution_count": 52
  },
  {
   "metadata": {
    "ExecuteTime": {
     "end_time": "2025-06-20T23:53:53.609653Z",
     "start_time": "2025-06-20T23:53:53.603189Z"
    }
   },
   "cell_type": "code",
   "source": [
    "# Optional for testing\n",
    "\n",
    "def remove_problem_cols(df):\n",
    "    # This is for testing purposes, stupid fix!\n",
    "    df_fs = df.copy()\n",
    "    col_before = df_fs.columns\n",
    "    df_fs = df_fs.select_dtypes(include=[np.number], exclude=['timedelta64[ns]'])\n",
    "    col_after = df_fs.columns\n",
    "    print('Removed columns: ', [col for col in col_before if col not in col_after])\n",
    "    return df_fs\n",
    "\n",
    "def feature_selection(X_train, X_test, y_train, y_test):\n",
    "    fs = FeatureSelectionClassification()\n",
    "\n",
    "    N_FORWARD_SELECTION = 50\n",
    "\n",
    "    X_train_fs = remove_problem_cols(X_train)\n",
    "    X_test_fs = remove_problem_cols(X_test)\n",
    "\n",
    "    features, ordered_features, ordered_scores = fs.forward_selection(N_FORWARD_SELECTION,\n",
    "                                                                          X_train_fs,\n",
    "                                                                          X_test_fs,\n",
    "                                                                          y_train,\n",
    "                                                                          y_test,\n",
    "                                                                          gridsearch=True)\n",
    "\n",
    "    return features, ordered_features, ordered_scores\n",
    "\n",
    "        # DataViz.plot_xy(x=[range(1, N_FORWARD_SELECTION+1)], y=[ordered_scores],\n",
    "        #             xlabel='number of features', ylabel='accuracy')"
   ],
   "id": "d52d524827b9da07",
   "outputs": [],
   "execution_count": 4
  },
  {
   "metadata": {
    "ExecuteTime": {
     "end_time": "2025-06-20T15:01:59.351837Z",
     "start_time": "2025-06-20T15:01:59.348869Z"
    }
   },
   "cell_type": "code",
   "source": [
    "class EvaluationContainer:\n",
    "    def __init__(self, model_name):\n",
    "        self.model_name = model_name"
   ],
   "id": "d0808f98578101ac",
   "outputs": [],
   "execution_count": 20
  },
  {
   "metadata": {
    "ExecuteTime": {
     "end_time": "2025-06-20T15:03:43.636710Z",
     "start_time": "2025-06-20T15:03:43.574202Z"
    }
   },
   "cell_type": "code",
   "source": [
    "# nan_counts = X_test_fs.isna().sum()\n",
    "# nan_cols = nan_counts[nan_counts > 0]\n",
    "# print(nan_cols)"
   ],
   "id": "714d3488ac717c0a",
   "outputs": [
    {
     "name": "stdout",
     "output_type": "stream",
     "text": [
      "location_phone_Velocity           4522\n",
      "location_phone_Velocity_mean      4522\n",
      "location_phone_Velocity_median    4522\n",
      "location_phone_Velocity_min       4522\n",
      "location_phone_Velocity_max       4522\n",
      "session_avg_velocity              4522\n",
      "session_velocity_std              4522\n",
      "dtype: int64\n"
     ]
    }
   ],
   "execution_count": 26
  },
  {
   "metadata": {
    "ExecuteTime": {
     "end_time": "2025-06-21T00:03:49.646324Z",
     "start_time": "2025-06-21T00:03:49.640825Z"
    }
   },
   "cell_type": "code",
   "source": [
    "def plot_class_distribution(data, title: str = 'Class distribution'):\n",
    "    if isinstance(data, pd.Series):\n",
    "        data = pd.Series(data)\n",
    "\n",
    "    value_counts = data['transport_mode'].fillna('missing').astype(str).value_counts()\n",
    "\n",
    "    plt.figure(figsize=(10, 6))\n",
    "    value_counts.plot(kind='bar')\n",
    "    plt.title(title)\n",
    "    plt.xlabel('Transport Mode')\n",
    "    plt.ylabel('Count')\n",
    "    plt.xticks(rotation=45)\n",
    "    plt.tight_layout()\n",
    "    plt.show()\n",
    "    plt.savefig(f'/local/data/mmr497/figures/class_distribution.png')\n",
    "    plt.close()"
   ],
   "id": "41cca3b3a74eb32e",
   "outputs": [],
   "execution_count": 10
  },
  {
   "metadata": {
    "ExecuteTime": {
     "end_time": "2025-06-21T00:30:02.843029Z",
     "start_time": "2025-06-21T00:30:02.766746Z"
    }
   },
   "cell_type": "code",
   "source": [
    "train_labels = [df[2] for df in test_splitted_data]\n",
    "test_labels = [df[3] for df in test_splitted_data]\n",
    "train_dfs = pd.concat(train_labels, ignore_index=True)\n",
    "test_dfs = pd.concat(test_labels, ignore_index=True)\n",
    "\n",
    "all_labels = pd.concat([train_dfs, test_dfs], ignore_index=True)\n",
    "\n",
    "plot_class_distribution(all_labels, 'class distribution in total')"
   ],
   "id": "ce255db4b98a776c",
   "outputs": [
    {
     "ename": "TypeError",
     "evalue": "first argument must be an iterable of pandas objects, you passed an object of type \"DataFrame\"",
     "output_type": "error",
     "traceback": [
      "\u001B[0;31m---------------------------------------------------------------------------\u001B[0m",
      "\u001B[0;31mTypeError\u001B[0m                                 Traceback (most recent call last)",
      "Cell \u001B[0;32mIn[58], line 3\u001B[0m\n\u001B[1;32m      1\u001B[0m train_labels \u001B[38;5;241m=\u001B[39m [df[\u001B[38;5;241m2\u001B[39m] \u001B[38;5;28;01mfor\u001B[39;00m df \u001B[38;5;129;01min\u001B[39;00m test_splitted_data][\u001B[38;5;241m0\u001B[39m]\n\u001B[1;32m      2\u001B[0m test_labels \u001B[38;5;241m=\u001B[39m [df[\u001B[38;5;241m3\u001B[39m] \u001B[38;5;28;01mfor\u001B[39;00m df \u001B[38;5;129;01min\u001B[39;00m test_splitted_data][\u001B[38;5;241m0\u001B[39m]\n\u001B[0;32m----> 3\u001B[0m train_dfs \u001B[38;5;241m=\u001B[39m \u001B[43mpd\u001B[49m\u001B[38;5;241;43m.\u001B[39;49m\u001B[43mconcat\u001B[49m\u001B[43m(\u001B[49m\u001B[43mtrain_labels\u001B[49m\u001B[43m,\u001B[49m\u001B[43m \u001B[49m\u001B[43mignore_index\u001B[49m\u001B[38;5;241;43m=\u001B[39;49m\u001B[38;5;28;43;01mTrue\u001B[39;49;00m\u001B[43m)\u001B[49m\n\u001B[1;32m      4\u001B[0m test_dfs \u001B[38;5;241m=\u001B[39m pd\u001B[38;5;241m.\u001B[39mconcat(test_labels, ignore_index\u001B[38;5;241m=\u001B[39m\u001B[38;5;28;01mTrue\u001B[39;00m)\n\u001B[1;32m      6\u001B[0m all_labels \u001B[38;5;241m=\u001B[39m pd\u001B[38;5;241m.\u001B[39mconcat([train_dfs, test_dfs], ignore_index\u001B[38;5;241m=\u001B[39m\u001B[38;5;28;01mTrue\u001B[39;00m)\n",
      "File \u001B[0;32m/local/data/mmr497/.conda/envs/ML4QS/lib/python3.8/site-packages/pandas/core/reshape/concat.py:372\u001B[0m, in \u001B[0;36mconcat\u001B[0;34m(objs, axis, join, ignore_index, keys, levels, names, verify_integrity, sort, copy)\u001B[0m\n\u001B[1;32m    369\u001B[0m \u001B[38;5;28;01melif\u001B[39;00m copy \u001B[38;5;129;01mand\u001B[39;00m using_copy_on_write():\n\u001B[1;32m    370\u001B[0m     copy \u001B[38;5;241m=\u001B[39m \u001B[38;5;28;01mFalse\u001B[39;00m\n\u001B[0;32m--> 372\u001B[0m op \u001B[38;5;241m=\u001B[39m \u001B[43m_Concatenator\u001B[49m\u001B[43m(\u001B[49m\n\u001B[1;32m    373\u001B[0m \u001B[43m    \u001B[49m\u001B[43mobjs\u001B[49m\u001B[43m,\u001B[49m\n\u001B[1;32m    374\u001B[0m \u001B[43m    \u001B[49m\u001B[43maxis\u001B[49m\u001B[38;5;241;43m=\u001B[39;49m\u001B[43maxis\u001B[49m\u001B[43m,\u001B[49m\n\u001B[1;32m    375\u001B[0m \u001B[43m    \u001B[49m\u001B[43mignore_index\u001B[49m\u001B[38;5;241;43m=\u001B[39;49m\u001B[43mignore_index\u001B[49m\u001B[43m,\u001B[49m\n\u001B[1;32m    376\u001B[0m \u001B[43m    \u001B[49m\u001B[43mjoin\u001B[49m\u001B[38;5;241;43m=\u001B[39;49m\u001B[43mjoin\u001B[49m\u001B[43m,\u001B[49m\n\u001B[1;32m    377\u001B[0m \u001B[43m    \u001B[49m\u001B[43mkeys\u001B[49m\u001B[38;5;241;43m=\u001B[39;49m\u001B[43mkeys\u001B[49m\u001B[43m,\u001B[49m\n\u001B[1;32m    378\u001B[0m \u001B[43m    \u001B[49m\u001B[43mlevels\u001B[49m\u001B[38;5;241;43m=\u001B[39;49m\u001B[43mlevels\u001B[49m\u001B[43m,\u001B[49m\n\u001B[1;32m    379\u001B[0m \u001B[43m    \u001B[49m\u001B[43mnames\u001B[49m\u001B[38;5;241;43m=\u001B[39;49m\u001B[43mnames\u001B[49m\u001B[43m,\u001B[49m\n\u001B[1;32m    380\u001B[0m \u001B[43m    \u001B[49m\u001B[43mverify_integrity\u001B[49m\u001B[38;5;241;43m=\u001B[39;49m\u001B[43mverify_integrity\u001B[49m\u001B[43m,\u001B[49m\n\u001B[1;32m    381\u001B[0m \u001B[43m    \u001B[49m\u001B[43mcopy\u001B[49m\u001B[38;5;241;43m=\u001B[39;49m\u001B[43mcopy\u001B[49m\u001B[43m,\u001B[49m\n\u001B[1;32m    382\u001B[0m \u001B[43m    \u001B[49m\u001B[43msort\u001B[49m\u001B[38;5;241;43m=\u001B[39;49m\u001B[43msort\u001B[49m\u001B[43m,\u001B[49m\n\u001B[1;32m    383\u001B[0m \u001B[43m\u001B[49m\u001B[43m)\u001B[49m\n\u001B[1;32m    385\u001B[0m \u001B[38;5;28;01mreturn\u001B[39;00m op\u001B[38;5;241m.\u001B[39mget_result()\n",
      "File \u001B[0;32m/local/data/mmr497/.conda/envs/ML4QS/lib/python3.8/site-packages/pandas/core/reshape/concat.py:407\u001B[0m, in \u001B[0;36m_Concatenator.__init__\u001B[0;34m(self, objs, axis, join, keys, levels, names, ignore_index, verify_integrity, copy, sort)\u001B[0m\n\u001B[1;32m    393\u001B[0m \u001B[38;5;28;01mdef\u001B[39;00m\u001B[38;5;250m \u001B[39m\u001B[38;5;21m__init__\u001B[39m(\n\u001B[1;32m    394\u001B[0m     \u001B[38;5;28mself\u001B[39m,\n\u001B[1;32m    395\u001B[0m     objs: Iterable[NDFrame] \u001B[38;5;241m|\u001B[39m Mapping[HashableT, NDFrame],\n\u001B[0;32m   (...)\u001B[0m\n\u001B[1;32m    404\u001B[0m     sort: \u001B[38;5;28mbool\u001B[39m \u001B[38;5;241m=\u001B[39m \u001B[38;5;28;01mFalse\u001B[39;00m,\n\u001B[1;32m    405\u001B[0m ) \u001B[38;5;241m-\u001B[39m\u001B[38;5;241m>\u001B[39m \u001B[38;5;28;01mNone\u001B[39;00m:\n\u001B[1;32m    406\u001B[0m     \u001B[38;5;28;01mif\u001B[39;00m \u001B[38;5;28misinstance\u001B[39m(objs, (ABCSeries, ABCDataFrame, \u001B[38;5;28mstr\u001B[39m)):\n\u001B[0;32m--> 407\u001B[0m         \u001B[38;5;28;01mraise\u001B[39;00m \u001B[38;5;167;01mTypeError\u001B[39;00m(\n\u001B[1;32m    408\u001B[0m             \u001B[38;5;124m\"\u001B[39m\u001B[38;5;124mfirst argument must be an iterable of pandas \u001B[39m\u001B[38;5;124m\"\u001B[39m\n\u001B[1;32m    409\u001B[0m             \u001B[38;5;124mf\u001B[39m\u001B[38;5;124m'\u001B[39m\u001B[38;5;124mobjects, you passed an object of type \u001B[39m\u001B[38;5;124m\"\u001B[39m\u001B[38;5;132;01m{\u001B[39;00m\u001B[38;5;28mtype\u001B[39m(objs)\u001B[38;5;241m.\u001B[39m\u001B[38;5;18m__name__\u001B[39m\u001B[38;5;132;01m}\u001B[39;00m\u001B[38;5;124m\"\u001B[39m\u001B[38;5;124m'\u001B[39m\n\u001B[1;32m    410\u001B[0m         )\n\u001B[1;32m    412\u001B[0m     \u001B[38;5;28;01mif\u001B[39;00m join \u001B[38;5;241m==\u001B[39m \u001B[38;5;124m\"\u001B[39m\u001B[38;5;124mouter\u001B[39m\u001B[38;5;124m\"\u001B[39m:\n\u001B[1;32m    413\u001B[0m         \u001B[38;5;28mself\u001B[39m\u001B[38;5;241m.\u001B[39mintersect \u001B[38;5;241m=\u001B[39m \u001B[38;5;28;01mFalse\u001B[39;00m\n",
      "\u001B[0;31mTypeError\u001B[0m: first argument must be an iterable of pandas objects, you passed an object of type \"DataFrame\""
     ]
    }
   ],
   "execution_count": 58
  },
  {
   "metadata": {
    "ExecuteTime": {
     "end_time": "2025-06-21T00:29:16.383251Z",
     "start_time": "2025-06-21T00:29:16.379448Z"
    }
   },
   "cell_type": "code",
   "source": "print(len(all_labels))",
   "id": "63e4e00e2c6193b8",
   "outputs": [
    {
     "name": "stdout",
     "output_type": "stream",
     "text": [
      "302778\n"
     ]
    }
   ],
   "execution_count": 57
  },
  {
   "metadata": {
    "ExecuteTime": {
     "end_time": "2025-06-20T15:45:40.201783Z",
     "start_time": "2025-06-20T15:45:40.196276Z"
    }
   },
   "cell_type": "code",
   "source": "# y_test_test['transport_mode'].dtypes",
   "id": "4038ecce391353c8",
   "outputs": [
    {
     "data": {
      "text/plain": [
       "dtype('O')"
      ]
     },
     "execution_count": 39,
     "metadata": {},
     "output_type": "execute_result"
    }
   ],
   "execution_count": 39
  },
  {
   "metadata": {},
   "cell_type": "code",
   "source": "# plot_class_distribution(y_test_test)",
   "id": "34224b34dc89b1c0",
   "outputs": [],
   "execution_count": null
  },
  {
   "metadata": {
    "ExecuteTime": {
     "end_time": "2025-06-21T00:24:34.440950Z",
     "start_time": "2025-06-21T00:24:03.143432Z"
    }
   },
   "cell_type": "code",
   "source": [
    "# Setup model\n",
    "CA = ClassificationAlgorithms()\n",
    "alt_CA = AlteredAlgorithmsClassifier()\n",
    "\n",
    "y_test_combined = []\n",
    "\n",
    "pred_y_train_results = []\n",
    "pred_prob_y_train_results = []\n",
    "pred_y_test_results = []\n",
    "pred_prob_y_test_results = []\n",
    "\n",
    "for X_train, X_test, y_train, y_test in test_splitted_data:\n",
    "    X_train_fs = remove_problem_cols(X_train)\n",
    "    X_test_fs = remove_problem_cols(X_test)\n",
    "    y_test_combined.extend(y_test.values)\n",
    "\n",
    "    nb_train_y, nb_test_y, nb_train_prob_y, nb_test_prob_y = alt_CA.naive_bayes(\n",
    "            X_train_fs, y_train, X_test_fs\n",
    "        )\n",
    "    pred_y_train_results.extend(nb_train_y)\n",
    "    pred_prob_y_train_results.extend(nb_test_prob_y)\n",
    "    pred_y_test_results.extend(nb_test_y)\n",
    "    pred_prob_y_test_results.extend(nb_test_prob_y)"
   ],
   "id": "63815df1dc54f370",
   "outputs": [
    {
     "name": "stdout",
     "output_type": "stream",
     "text": [
      "Removed columns:  ['original_time', 'time_diff', 'shifted_time']\n",
      "Removed columns:  ['original_time', 'time_diff', 'shifted_time']\n",
      "Removed columns:  ['original_time', 'time_diff', 'shifted_time']\n",
      "Removed columns:  ['original_time', 'time_diff', 'shifted_time']\n",
      "Removed columns:  ['original_time', 'time_diff', 'shifted_time']\n",
      "Removed columns:  ['original_time', 'time_diff', 'shifted_time']\n"
     ]
    }
   ],
   "execution_count": 50
  },
  {
   "metadata": {
    "ExecuteTime": {
     "end_time": "2025-06-21T00:20:36.628975Z",
     "start_time": "2025-06-21T00:20:36.599720Z"
    }
   },
   "cell_type": "code",
   "source": [
    "test_test = []\n",
    "\n",
    "for X_train, X_test, y_train, y_test in test_splitted_data:\n",
    "    test_test.extend(y_test.values)\n",
    "\n",
    "print(len(test_test))"
   ],
   "id": "b0fcb0adda3409a2",
   "outputs": [
    {
     "name": "stdout",
     "output_type": "stream",
     "text": [
      "100926\n"
     ]
    }
   ],
   "execution_count": 42
  },
  {
   "metadata": {
    "ExecuteTime": {
     "end_time": "2025-06-21T00:22:38.333907Z",
     "start_time": "2025-06-21T00:22:35.924854Z"
    }
   },
   "cell_type": "code",
   "source": "print(y_test_combined)",
   "id": "6ad2d577b99047cc",
   "outputs": [
    {
     "name": "stderr",
     "output_type": "stream",
     "text": [
      "IOPub data rate exceeded.\n",
      "The Jupyter server will temporarily stop sending output\n",
      "to the client in order to avoid crashing it.\n",
      "To change this limit, set the config variable\n",
      "`--ServerApp.iopub_data_rate_limit`.\n",
      "\n",
      "Current values:\n",
      "ServerApp.iopub_data_rate_limit=1000000.0 (bytes/sec)\n",
      "ServerApp.rate_limit_window=3.0 (secs)\n",
      "\n"
     ]
    }
   ],
   "execution_count": 47
  },
  {
   "metadata": {
    "ExecuteTime": {
     "end_time": "2025-06-21T00:24:42.071414Z",
     "start_time": "2025-06-21T00:24:38.866101Z"
    }
   },
   "cell_type": "code",
   "source": [
    "# Evaluate models\n",
    "evalCA = ClassificationEvaluation()\n",
    "\n",
    "evaluations = {}\n",
    "\n",
    "print(classification_report(y_test_combined, pred_y_test_results, zero_division=0))\n",
    "print(confusion_matrix(y_test_combined, pred_y_test_results))"
   ],
   "id": "af6575e99fcac879",
   "outputs": [
    {
     "name": "stdout",
     "output_type": "stream",
     "text": [
      "              precision    recall  f1-score   support\n",
      "\n",
      "        bike       1.00      1.00      1.00     17558\n",
      "         bus       0.00      0.00      0.00      8430\n",
      "         car       0.38      0.17      0.23     14415\n",
      "       metro       0.00      0.00      0.00      6318\n",
      "       train       0.56      1.00      0.72     29927\n",
      "     walking       1.00      1.00      1.00     24278\n",
      "\n",
      "    accuracy                           0.73    100926\n",
      "   macro avg       0.49      0.53      0.49    100926\n",
      "weighted avg       0.64      0.73      0.66    100926\n",
      "\n",
      "[[17550     0     0     0     0     8]\n",
      " [    1     0  3757     0  4672     0]\n",
      " [    0     0  2425     0 11990     0]\n",
      " [    0     0     0     0  6318     0]\n",
      " [    0     0   123     1 29803     0]\n",
      " [    0     0     0     0     0 24278]]\n"
     ]
    }
   ],
   "execution_count": 51
  }
 ],
 "metadata": {
  "kernelspec": {
   "display_name": "Python 3",
   "language": "python",
   "name": "python3"
  },
  "language_info": {
   "codemirror_mode": {
    "name": "ipython",
    "version": 2
   },
   "file_extension": ".py",
   "mimetype": "text/x-python",
   "name": "python",
   "nbconvert_exporter": "python",
   "pygments_lexer": "ipython2",
   "version": "2.7.6"
  }
 },
 "nbformat": 4,
 "nbformat_minor": 5
}
