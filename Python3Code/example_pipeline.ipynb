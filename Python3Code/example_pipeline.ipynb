{
 "cells": [
  {
   "cell_type": "code",
   "execution_count": null,
   "id": "initial_id",
   "metadata": {
    "collapsed": true
   },
   "outputs": [],
   "source": [
    "from pathlib import Path\n",
    "import os\n",
    "STUDENT = 'mmr497'\n",
    "\n",
    "OUTLIERS_PATH = Path('./outliers2/')\n",
    "INTERMEDIATE_PATH = Path('./intermediate_datafiles/')\n",
    "os.chdir(f'/home/{STUDENT}/')\n",
    "EXPERIMENT_DIR = 'ML4QS-Vehicle-2'\n",
    "from util.VisualizeDataset import VisualizeDataset\n",
    "from Visualiser import Visualiser as Viz\n",
    "from outlier_detector import OutlierDetector\n",
    "from custom_imputer import CustomImputer\n",
    "from util.util import ignore_actual_time, read_parquet, write_parquet\n",
    "from DataLoader import PhyboxDatasetLoader"
   ]
  },
  {
   "metadata": {},
   "cell_type": "code",
   "outputs": [],
   "execution_count": null,
   "source": [
    "DataViz = VisualizeDataset('example_pipeline.ipynb')\n",
    "EasyViz = Viz()"
   ],
   "id": "24107c1c3128b2d9"
  },
  {
   "metadata": {},
   "cell_type": "code",
   "outputs": [],
   "execution_count": null,
   "source": [
    "# If note done already, load in the Phybox data\n",
    "dataset_loader = PhyboxDatasetLoader(STUDENT, exp_dir=EXPERIMENT_DIR)\n",
    "datasets = dataset_loader.create_all_datasets(overwrite=False)\n",
    "write_parquet(datasets, INTERMEDIATE_PATH / 'ML4QS_combined_results_example.parquet')"
   ],
   "id": "3f0871ab585ab8c4"
  },
  {
   "metadata": {},
   "cell_type": "code",
   "outputs": [],
   "execution_count": null,
   "source": [
    "# Load intermediate df\n",
    "intermediate_df = read_parquet(INTERMEDIATE_PATH / 'ML4QS_combined_results_example.parquet')\n",
    "intermediate_df.head()"
   ],
   "id": "59dd0b277dc7d67d"
  },
  {
   "metadata": {},
   "cell_type": "code",
   "outputs": [],
   "execution_count": null,
   "source": [
    "# Let the dataset ignore actual timepoints\n",
    "intermediate_df = ignore_actual_time(intermediate_df)\n",
    "intermediate_df.head()"
   ],
   "id": "21761a8717cbf692"
  },
  {
   "metadata": {},
   "cell_type": "code",
   "outputs": [],
   "execution_count": null,
   "source": [
    "# Set outlier detector\n",
    "out_detector = OutlierDetector(intermediate_df)\n",
    "# set outlier detector to mixture model, and automatically set outliers to NaN.\n",
    "# Note that we can pass a col parameter to this function to only apply the outlier detection to a subset of columns.\n",
    "intermed_df = out_detector.fit_transform(\"mixture\", outlier_behaviour='nan')"
   ],
   "id": "53469432e98cf67"
  },
  {
   "metadata": {},
   "cell_type": "code",
   "outputs": [],
   "execution_count": null,
   "source": [
    "# Plot the results\n",
    "# If you only want to plot specific columns, you can pass a list of columns to the plot_outliers function.\n",
    "# Because we automatically drop the outlier columns, we use the fitted data from the outlier detector.\n",
    "outlier_df = out_detector.fitted_data\n",
    "EasyViz.plot_outliers(outlier_df, outlier_type='mixture', path='outliers_example')"
   ],
   "id": "37b9110e0e2387eb"
  },
  {
   "metadata": {},
   "cell_type": "code",
   "outputs": [],
   "execution_count": null,
   "source": [
    "# Create copy of df to do imputation\n",
    "imputation_df = intermed_df.copy()\n",
    "\n",
    "# Remove sensor cols we deem bad\n",
    "bad_sensors = ['proximity', 'location']\n",
    "drop_cols = []\n",
    "for sensor in bad_sensors:\n",
    "    drop_cols.extend(imputation_df.columns[imputation_df.columns.str.contains(sensor)])\n",
    "imputation_df.drop(drop_cols, axis=1, inplace=True)"
   ],
   "id": "7f67ecb253ff7ec4"
  },
  {
   "metadata": {},
   "cell_type": "code",
   "outputs": [],
   "execution_count": null,
   "source": [
    "# Create imputer object and set imputer method\n",
    "imputer = CustomImputer('interpolation')\n",
    "# Fit and transform the imputation_df\n",
    "imputed_df = imputer.fit_transform(imputation_df)"
   ],
   "id": "a537e663b6083121"
  },
  {
   "metadata": {},
   "cell_type": "code",
   "outputs": [],
   "execution_count": null,
   "source": [
    "# Plot the results of the imputation\n",
    "# We provide both the original dataset and the imputated dataset to show the difference.\n",
    "# Again, we can specify which cols we want to use.\n",
    "\n",
    "EasyViz.plot_imputation(imputed_df, imputation_df, imputation_type='interpolation', path='imputation_example')"
   ],
   "id": "3bc997abe997d77f"
  },
  {
   "metadata": {},
   "cell_type": "code",
   "outputs": [],
   "execution_count": null,
   "source": [
    "# Plot the resulting dataframe\n",
    "\n",
    "EasyViz.plot_dataset(imputed_df, plot_type='full', path='plot_dataset_example')"
   ],
   "id": "d6967d8131e39fa3"
  },
  {
   "metadata": {},
   "cell_type": "code",
   "outputs": [],
   "execution_count": null,
   "source": [
    "# You can use plot_dataset for multiple different types of plotting.\n",
    "\n",
    "imputed_df_orig_time = imputed_df.copy()\n",
    "imputed_df_orig_time.set_index('original_time', inplace=True)\n",
    "\n",
    "# Plot per day (requires the original timestamps)\n",
    "EasyViz.plot_dataset(imputed_df, plot_type='day', path='plot_dataset_example_day')\n",
    "\n",
    "# Plot per individual instance\n",
    "# e.g. Only instances with the label train\n",
    "example_instances = imputed_df[imputed_df['label'] == 'train'].id.unique()\n",
    "EasyViz.plot_dataset(imputed_df, instances=example_instances,  plot_type='instance', path='plot_dataset_example_instance')\n",
    "\n",
    "# Plot a specific slice\n",
    "# Works best with original timestamps.\n",
    "# TODO: Finish\n",
    "# EasyViz.plot_dataset(imputed_df, time_slice=(), plot_type='slice', path='plot_dataset_example_slice')"
   ],
   "id": "3249a4dca282887c"
  }
 ],
 "metadata": {
  "kernelspec": {
   "display_name": "Python 3",
   "language": "python",
   "name": "python3"
  },
  "language_info": {
   "codemirror_mode": {
    "name": "ipython",
    "version": 2
   },
   "file_extension": ".py",
   "mimetype": "text/x-python",
   "name": "python",
   "nbconvert_exporter": "python",
   "pygments_lexer": "ipython2",
   "version": "2.7.6"
  }
 },
 "nbformat": 4,
 "nbformat_minor": 5
}
